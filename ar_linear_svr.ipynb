{
 "cells": [
  {
   "cell_type": "code",
   "execution_count": 1,
   "metadata": {},
   "outputs": [],
   "source": [
    "import numpy as np\n",
    "import matplotlib.pyplot as plt\n",
    "from synthetic import TestSuite"
   ]
  },
  {
   "cell_type": "code",
   "execution_count": 2,
   "metadata": {},
   "outputs": [],
   "source": [
    "def RMSE_Loss(actual, predicted):\n",
    "    \"\"\"Root Mean Squared Error\"\"\"\n",
    "    return np.sqrt(np.mean(np.square(actual - predicted)))"
   ]
  },
  {
   "cell_type": "code",
   "execution_count": 3,
   "metadata": {},
   "outputs": [],
   "source": [
    "def min_max_transform(series):\n",
    "  series_temp = np.copy(series)\n",
    "  for i in range(len(series_temp)):\n",
    "    series_temp[i] = (series_temp[i] - np.max(series))/(np.max(series)-np.min(series)) + 1\n",
    "  return series_temp"
   ]
  },
  {
   "cell_type": "code",
   "execution_count": 4,
   "metadata": {},
   "outputs": [],
   "source": [
    "import os, shutil\n",
    "DIR=\"experiment_linear_svr/\"\n",
    "FILE_NAME=DIR+\"/log.csv\"\n",
    "if os.path.exists(DIR): shutil.rmtree(DIR)\n",
    "if not os.path.exists(DIR): os.mkdir(DIR)"
   ]
  },
  {
   "cell_type": "code",
   "execution_count": 5,
   "metadata": {},
   "outputs": [],
   "source": [
    "def outputExperiment(id, series_name, mixed, feature_length, target_length, target_offset, rmse_train, rmse_test, c, epsilon, fit_intercept):\n",
    "    with open(FILE_NAME, 'a') as f:\n",
    "        result = \", \".join(map(str, list([id, series_name , mixed , feature_length , target_length , target_offset , rmse_train , rmse_test, c, epsilon, fit_intercept])))\n",
    "        print(result, file=f)"
   ]
  },
  {
   "cell_type": "code",
   "execution_count": 6,
   "metadata": {},
   "outputs": [],
   "source": [
    "def showExperiment(ID, mixed, series, series_name, Y_train, Y_test, Yhat_train, Yhat_test, Yhat_series, rmse_train, rmse_test):\n",
    "    plt.figure(figsize=(30,10))\n",
    "    plt.subplot(311)\n",
    "    plt.margins(0.05)\n",
    "    plt.plot(series)\n",
    "    plt.plot(Yhat_series)\n",
    "    plt.legend([\"True\", \"Predicted\"])\n",
    "    plt.title(\"Series: \"+ series_name+\" (Random Sampling=\"+str(mixed)+\")\")\n",
    "\n",
    "    plt.subplot(323)\n",
    "    plt.margins(0.05)\n",
    "    plt.plot(Y_train)\n",
    "    plt.plot(Yhat_train)\n",
    "    plt.legend([\"True\", \"Predicted\"])\n",
    "    plt.title(\"RMSE Train: \"+ str(rmse_train))\n",
    "\n",
    "    plt.subplot(324)\n",
    "    plt.margins(0.05)\n",
    "    plt.plot(Y_test)\n",
    "    plt.plot(Yhat_test)\n",
    "    plt.legend([\"True\", \"Predicted\"])\n",
    "    plt.title(\"RMSE Test: \"+ str(rmse_test))\n",
    "\n",
    "    plt.subplot(325)\n",
    "    plt.margins(0.05)\n",
    "    plt.plot(abs(Y_train - Yhat_train))\n",
    "    plt.legend([\"Residuals\"])\n",
    "    plt.title(\"Train\")\n",
    "\n",
    "    plt.subplot(326)\n",
    "    plt.margins(0.05)\n",
    "    plt.plot(abs(Y_test - Yhat_test))\n",
    "    plt.legend([\"Residuals\"])\n",
    "    plt.title(\"Test\")\n",
    "\n",
    "    plt.subplots_adjust(left=0.1,\n",
    "                    bottom=0.1,\n",
    "                    right=0.9,\n",
    "                    top=0.9,\n",
    "                    wspace=0.4,\n",
    "                    hspace=0.4)\n",
    "    plt.savefig(DIR+str(ID)+\".png\", transparent=True)"
   ]
  },
  {
   "cell_type": "markdown",
   "metadata": {},
   "source": [
    "# Linear SVR"
   ]
  },
  {
   "cell_type": "code",
   "execution_count": 7,
   "metadata": {},
   "outputs": [],
   "source": [
    "from src.models.regressor.svr import Model_Linear_SVR"
   ]
  },
  {
   "cell_type": "code",
   "execution_count": 8,
   "metadata": {},
   "outputs": [],
   "source": [
    "def executeLinearSVR(X_train, X_test, Y_train, Y_test):\n",
    "    model_linear_svr = Model_Linear_SVR(error_fun=RMSE_Loss)\n",
    "    yhat_train = model_linear_svr.__train__(X_train=X_train, Y_train=Y_train)\n",
    "    rmse_train = model_linear_svr.__get_error_train__()\n",
    "\n",
    "    yhat_test = model_linear_svr.__test__(X_test=X_test, Y_test=Y_test)\n",
    "    rmse_test = model_linear_svr.__get_error_test__()\n",
    "\n",
    "    yhat_series = model_linear_svr.__test__(X_test=np.concatenate((X_train, X_test), axis=0), Y_test=np.concatenate((Y_train, Y_test), axis=0))\n",
    "\n",
    "    c_param = model_linear_svr.__get_model__().C\n",
    "    epsilon_param = model_linear_svr.__get_model__().epsilon\n",
    "    fit_intercept_param = model_linear_svr.__get_model__().fit_intercept\n",
    "    return rmse_train, rmse_test, yhat_train, yhat_test, yhat_series, c_param, epsilon_param, fit_intercept_param"
   ]
  },
  {
   "cell_type": "code",
   "execution_count": 9,
   "metadata": {},
   "outputs": [],
   "source": [
    "def PipelineLinearSVR():\n",
    "    synthetic_dataset_test_suite = TestSuite()\n",
    "\n",
    "    synthetic_datasets =  synthetic_dataset_test_suite.__get_test_suite_size__()\n",
    "    \n",
    "    mixed = [True, False]\n",
    "    feature_length = [1, 2, 3, 4, 5]\n",
    "    target_offset = [1, 2, 3, 4, 5]\n",
    "    target_length = [1]\n",
    "\n",
    "    ID = 0\n",
    "    print(\"\\t{}\\t{}\\t{}\\t{}\\t{}\\t{}\\t{}\".format(\"ID\", \"Series\", \"Mixed\", \"Autoregressive Variables\", \"Target Length\", \"Target Offset\", \"RMSE Train\", \"RMSE Test\", \"PARAM: C\", \"PARAM: EPSILON\", \"PARAM: FIT_INTERCEPT\"))\n",
    "    for index in range(synthetic_datasets):\n",
    "        series = synthetic_dataset_test_suite.__get_numpy_test_series_from_index__(index)\n",
    "        for ind_mixed in mixed:\n",
    "            for ind_feature in feature_length:\n",
    "                for ind_offset in target_offset:\n",
    "                    for ind_target in target_length:\n",
    "                        X_train, X_test, Y_train, Y_test = synthetic_dataset_test_suite.__train_and_test_from_numpy_series__(\n",
    "                            transform=min_max_transform,\n",
    "                            series=series,\n",
    "                            mixed=ind_mixed,\n",
    "                            feature_length=ind_feature,\n",
    "                            offset=ind_offset,\n",
    "                            target_length=ind_target,\n",
    "                            tensor = False\n",
    "                        )\n",
    "                        Y_train, Y_test = Y_train.flatten(), Y_test.flatten()\n",
    "                        rmse_train, rmse_test, yhat_train, yhat_test, yhat_series, c_param, epsilon_param, fit_intercept_param = executeLinearSVR(X_train=X_train, X_test=X_test, Y_train=Y_train, Y_test=Y_test)\n",
    "                        outputExperiment(\n",
    "                            ID,\n",
    "                            synthetic_dataset_test_suite.__get_name_test_series_from_index__(index),\n",
    "                            ind_mixed,\n",
    "                            ind_feature,\n",
    "                            ind_offset,\n",
    "                            ind_target,\n",
    "                            rmse_train,\n",
    "                            rmse_test,\n",
    "                            c_param,\n",
    "                            epsilon_param,\n",
    "                            fit_intercept_param,\n",
    "                        )\n",
    "                        showExperiment(\n",
    "                            ID,\n",
    "                            ind_mixed,\n",
    "                            np.concatenate((Y_train, Y_test), axis=0),\n",
    "                            synthetic_dataset_test_suite.__get_name_test_series_from_index__(index),\n",
    "                            Y_train,\n",
    "                            Y_test,\n",
    "                            yhat_train,\n",
    "                            yhat_test,\n",
    "                            yhat_series,\n",
    "                            rmse_train,\n",
    "                            rmse_test\n",
    "                        )\n",
    "                        ID += 1\n",
    "    "
   ]
  },
  {
   "cell_type": "code",
   "execution_count": 10,
   "metadata": {},
   "outputs": [],
   "source": [
    "# PipelineLinearSVR()"
   ]
  },
  {
   "cell_type": "code",
   "execution_count": 11,
   "metadata": {},
   "outputs": [],
   "source": [
    "from cross_validation.regressor.svr import KFoldCrossValidation_Linear_SVR"
   ]
  },
  {
   "cell_type": "code",
   "execution_count": null,
   "metadata": {},
   "outputs": [],
   "source": [
    "synthetic_dataset_test_suite = TestSuite()\n",
    "cv_linear_svr_regression = KFoldCrossValidation_Linear_SVR(\n",
    "    series = synthetic_dataset_test_suite.__get_numpy_test_series_from_index__(6),\n",
    "    loss = RMSE_Loss,\n",
    "    one_step_offset_target= 20\n",
    ")\n",
    "\n",
    "# 'C': [0.05, 0.1, 1, 2, 4, 8, 10],\n",
    "# 'epsilon': [1e-6, 1e-5, 1e-4, 1e-3, 1e-2, 1e-1, 1, 5],\n",
    "# 'fit_intercept': [True, False]\n",
    "cross_validation_param = {\n",
    "    \"features_length\": np.arange(1, 20, 1).tolist(),\n",
    "    'C': [10],\n",
    "    'epsilon': [1e-1],\n",
    "    'fit_intercept': [True]\n",
    "}\n",
    "params, model = cv_linear_svr_regression.search(cross_validation_param)"
   ]
  },
  {
   "cell_type": "code",
   "execution_count": 24,
   "metadata": {},
   "outputs": [
    {
     "data": {
      "text/plain": [
       "{'features_length': 17, 'C': 10, 'epsilon': 0.1, 'fit_intercept': True}"
      ]
     },
     "execution_count": 24,
     "metadata": {},
     "output_type": "execute_result"
    }
   ],
   "source": [
    "params"
   ]
  },
  {
   "cell_type": "code",
   "execution_count": 25,
   "metadata": {},
   "outputs": [
    {
     "data": {
      "text/plain": [
       "<models.regressor.svr.Model_Linear_SVR at 0x15a4290b970>"
      ]
     },
     "execution_count": 25,
     "metadata": {},
     "output_type": "execute_result"
    }
   ],
   "source": [
    "model"
   ]
  },
  {
   "cell_type": "code",
   "execution_count": 26,
   "metadata": {},
   "outputs": [],
   "source": [
    "_, X_test, _, Y_test = synthetic_dataset_test_suite.__train_and_test_from_numpy_series__(\n",
    "    transform=min_max_transform,\n",
    "    series=synthetic_dataset_test_suite.__get_numpy_test_series_from_index__(6),\n",
    "    mixed=False,\n",
    "    feature_length=params[\"features_length\"],\n",
    "    offset=20,\n",
    "    target_length=1\n",
    ")"
   ]
  },
  {
   "cell_type": "code",
   "execution_count": 27,
   "metadata": {},
   "outputs": [],
   "source": [
    "yhat = model.__test__(X_test, Y_test)"
   ]
  },
  {
   "cell_type": "code",
   "execution_count": 28,
   "metadata": {},
   "outputs": [
    {
     "data": {
      "text/plain": [
       "[<matplotlib.lines.Line2D at 0x15a42812250>]"
      ]
     },
     "execution_count": 28,
     "metadata": {},
     "output_type": "execute_result"
    },
    {
     "data": {
      "image/png": "[encoded data removed]",
      "text/plain": [
       "<Figure size 640x480 with 1 Axes>"
      ]
     },
     "metadata": {},
     "output_type": "display_data"
    }
   ],
   "source": [
    "plt.plot(Y_test)\n",
    "plt.plot(yhat)"
   ]
  }
 ],
 "metadata": {
  "kernelspec": {
   "display_name": "Python 3.9.13 64-bit",
   "language": "python",
   "name": "python3"
  },
  "language_info": {
   "codemirror_mode": {
    "name": "ipython",
    "version": 3
   },
   "file_extension": ".py",
   "mimetype": "text/x-python",
   "name": "python",
   "nbconvert_exporter": "python",
   "pygments_lexer": "ipython3",
   "version": "3.9.13"
  },
  "orig_nbformat": 4,
  "vscode": {
   "interpreter": {
    "hash": "92b2c712316eb56e5c206670e029dda3c08d9ec3933e8da7ec35d9dab346db2c"
   }
  }
 },
 "nbformat": 4,
 "nbformat_minor": 2
}
