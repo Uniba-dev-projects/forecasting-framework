{
 "cells": [
  {
   "cell_type": "code",
   "execution_count": 1,
   "metadata": {},
   "outputs": [
    {
     "ename": "ModuleNotFoundError",
     "evalue": "No module named 'torch'",
     "output_type": "error",
     "traceback": [
      "\u001b[1;31m---------------------------------------------------------------------------\u001b[0m",
      "\u001b[1;31mModuleNotFoundError\u001b[0m                       Traceback (most recent call last)",
      "\u001b[1;32mc:\\Users\\coral\\Dev\\forecasting-framework\\forecasting-framework\\test_models.ipynb Cell 1\u001b[0m line \u001b[0;36m3\n\u001b[0;32m      <a href='vscode-notebook-cell:/c%3A/Users/coral/Dev/forecasting-framework/forecasting-framework/test_models.ipynb#W0sZmlsZQ%3D%3D?line=0'>1</a>\u001b[0m \u001b[39mimport\u001b[39;00m \u001b[39mnumpy\u001b[39;00m \u001b[39mas\u001b[39;00m \u001b[39mnp\u001b[39;00m\n\u001b[1;32m----> <a href='vscode-notebook-cell:/c%3A/Users/coral/Dev/forecasting-framework/forecasting-framework/test_models.ipynb#W0sZmlsZQ%3D%3D?line=2'>3</a>\u001b[0m \u001b[39mfrom\u001b[39;00m \u001b[39mtest\u001b[39;00m\u001b[39m.\u001b[39;00m\u001b[39mpipeline\u001b[39;00m \u001b[39mimport\u001b[39;00m Test_ARLinearRegression, Test_ARSupportVectorRegressionLinear, Test_ARConvolutionalNeuralNetwork, Test_ARLongShortTermMemoryNeuralNetwork\n\u001b[0;32m      <a href='vscode-notebook-cell:/c%3A/Users/coral/Dev/forecasting-framework/forecasting-framework/test_models.ipynb#W0sZmlsZQ%3D%3D?line=3'>4</a>\u001b[0m \u001b[39mfrom\u001b[39;00m \u001b[39mtest\u001b[39;00m\u001b[39m.\u001b[39;00m\u001b[39mutil\u001b[39;00m\u001b[39m.\u001b[39;00m\u001b[39mtest_suite\u001b[39;00m \u001b[39mimport\u001b[39;00m TestSuite\n",
      "File \u001b[1;32mc:\\Users\\coral\\Dev\\forecasting-framework\\forecasting-framework\\test\\pipeline\\__init__.py:1\u001b[0m\n\u001b[1;32m----> 1\u001b[0m \u001b[39mfrom\u001b[39;00m \u001b[39m.\u001b[39;00m\u001b[39mar_linear_regression\u001b[39;00m \u001b[39mimport\u001b[39;00m Test_ARLinearRegression\n\u001b[0;32m      2\u001b[0m \u001b[39mfrom\u001b[39;00m \u001b[39m.\u001b[39;00m\u001b[39mar_linear_svr\u001b[39;00m \u001b[39mimport\u001b[39;00m Test_ARSupportVectorRegressionLinear\n\u001b[0;32m      3\u001b[0m \u001b[39mfrom\u001b[39;00m \u001b[39m.\u001b[39;00m\u001b[39mar_rbf_svr\u001b[39;00m \u001b[39mimport\u001b[39;00m Test_ARSupportVectorRegressionRBF\n",
      "File \u001b[1;32mc:\\Users\\coral\\Dev\\forecasting-framework\\forecasting-framework\\test\\pipeline\\ar_linear_regression.py:7\u001b[0m\n\u001b[0;32m      5\u001b[0m \u001b[39mfrom\u001b[39;00m \u001b[39msrc\u001b[39;00m\u001b[39m.\u001b[39;00m\u001b[39mperformer\u001b[39;00m\u001b[39m.\u001b[39;00m\u001b[39msupervised_learning_performer\u001b[39;00m \u001b[39mimport\u001b[39;00m SlidingWindowPerformer\n\u001b[0;32m      6\u001b[0m \u001b[39mfrom\u001b[39;00m \u001b[39msrc\u001b[39;00m\u001b[39m.\u001b[39;00m\u001b[39mperformer\u001b[39;00m\u001b[39m.\u001b[39;00m\u001b[39mtrain_test_performer\u001b[39;00m \u001b[39mimport\u001b[39;00m TrainTestPerformer\n\u001b[1;32m----> 7\u001b[0m \u001b[39mfrom\u001b[39;00m \u001b[39msrc\u001b[39;00m\u001b[39m.\u001b[39;00m\u001b[39mutil\u001b[39;00m\u001b[39m.\u001b[39;00m\u001b[39mgoal\u001b[39;00m \u001b[39mimport\u001b[39;00m OneStepForecastingGoal\n\u001b[0;32m      8\u001b[0m \u001b[39mfrom\u001b[39;00m \u001b[39msrc\u001b[39;00m\u001b[39m.\u001b[39;00m\u001b[39mutil\u001b[39;00m\u001b[39m.\u001b[39;00m\u001b[39mevaluation\u001b[39;00m \u001b[39mimport\u001b[39;00m ForecastErrorEvaluation\n\u001b[0;32m      9\u001b[0m \u001b[39mfrom\u001b[39;00m \u001b[39msrc\u001b[39;00m\u001b[39m.\u001b[39;00m\u001b[39mutil\u001b[39;00m\u001b[39m.\u001b[39;00m\u001b[39mparameters\u001b[39;00m \u001b[39mimport\u001b[39;00m ModelsIperParameters\n",
      "File \u001b[1;32mc:\\Users\\coral\\Dev\\forecasting-framework\\forecasting-framework\\src\\util\\__init__.py:7\u001b[0m\n\u001b[0;32m      5\u001b[0m \u001b[39mfrom\u001b[39;00m \u001b[39m.\u001b[39;00m\u001b[39mgoal\u001b[39;00m \u001b[39mimport\u001b[39;00m OneShotForecastingGoal\n\u001b[0;32m      6\u001b[0m \u001b[39mfrom\u001b[39;00m \u001b[39m.\u001b[39;00m\u001b[39mgoal\u001b[39;00m \u001b[39mimport\u001b[39;00m MultiStepForecastingGoal\n\u001b[1;32m----> 7\u001b[0m \u001b[39mfrom\u001b[39;00m \u001b[39m.\u001b[39;00m\u001b[39mevaluation\u001b[39;00m \u001b[39mimport\u001b[39;00m ForecastErrorEvaluation\n",
      "File \u001b[1;32mc:\\Users\\coral\\Dev\\forecasting-framework\\forecasting-framework\\src\\util\\evaluation.py:2\u001b[0m\n\u001b[0;32m      1\u001b[0m \u001b[39mimport\u001b[39;00m \u001b[39mnumpy\u001b[39;00m \u001b[39mas\u001b[39;00m \u001b[39mnp\u001b[39;00m\n\u001b[1;32m----> 2\u001b[0m \u001b[39mimport\u001b[39;00m \u001b[39mtorch\u001b[39;00m\n\u001b[0;32m      3\u001b[0m \u001b[39mfrom\u001b[39;00m \u001b[39m.\u001b[39;00m\u001b[39mgoal\u001b[39;00m \u001b[39mimport\u001b[39;00m ForecastingGoal\n\u001b[0;32m      5\u001b[0m \u001b[39mclass\u001b[39;00m \u001b[39mForecastErrorEvaluation\u001b[39;00m():\n",
      "\u001b[1;31mModuleNotFoundError\u001b[0m: No module named 'torch'"
     ]
    }
   ],
   "source": [
    "import numpy as np\n",
    "\n",
    "from test.pipeline import Test_ARLinearRegression, Test_ARSupportVectorRegressionLinear, Test_ARConvolutionalNeuralNetwork, Test_ARLongShortTermMemoryNeuralNetwork\n",
    "from test.util.test_suite import TestSuite"
   ]
  },
  {
   "cell_type": "code",
   "execution_count": null,
   "metadata": {},
   "outputs": [],
   "source": [
    "import warnings\n",
    "warnings.filterwarnings('ignore')\n",
    "Test_ARLinearRegression().__test_execute__()"
   ]
  },
  {
   "cell_type": "code",
   "execution_count": null,
   "metadata": {},
   "outputs": [],
   "source": [
    "import warnings\n",
    "\n",
    "from test.pipeline.ar_rbf_svr import Test_ARSupportVectorRegressionRBF\n",
    "warnings.filterwarnings('ignore')\n",
    "Test_ARSupportVectorRegressionRBF().__test_execute__()"
   ]
  },
  {
   "cell_type": "code",
   "execution_count": null,
   "metadata": {},
   "outputs": [],
   "source": [
    "import warnings #50m\n",
    "warnings.filterwarnings('ignore')\n",
    "Test_ARSupportVectorRegressionLinear().__test_execute__()"
   ]
  },
  {
   "cell_type": "code",
   "execution_count": null,
   "metadata": {},
   "outputs": [],
   "source": [
    "import warnings\n",
    "\n",
    "from test.pipeline.ar_mlp_nn import Test_ARMultiLayerPerceptron\n",
    "warnings.filterwarnings('ignore')\n",
    "Test_ARMultiLayerPerceptron().__test_execute__()"
   ]
  },
  {
   "cell_type": "code",
   "execution_count": null,
   "metadata": {},
   "outputs": [],
   "source": [
    "import warnings\n",
    "warnings.filterwarnings('ignore')\n",
    "Test_ARConvolutionalNeuralNetwork().__test_execute__()"
   ]
  },
  {
   "cell_type": "code",
   "execution_count": null,
   "metadata": {},
   "outputs": [],
   "source": []
  },
  {
   "cell_type": "code",
   "execution_count": null,
   "metadata": {},
   "outputs": [],
   "source": [
    "import warnings\n",
    "warnings.filterwarnings('ignore')\n",
    "Test_ARLongShortTermMemoryNeuralNetwork().__test_execute__()"
   ]
  }
 ],
 "metadata": {
  "kernelspec": {
   "display_name": "Python 3.8.8 ('base')",
   "language": "python",
   "name": "python3"
  },
  "language_info": {
   "codemirror_mode": {
    "name": "ipython",
    "version": 3
   },
   "file_extension": ".py",
   "mimetype": "text/x-python",
   "name": "python",
   "nbconvert_exporter": "python",
   "pygments_lexer": "ipython3",
   "version": "3.12.0"
  },
  "orig_nbformat": 4,
  "vscode": {
   "interpreter": {
    "hash": "297f1ab228ac72a1e88da0398af00a5916b3f38386a88425b941448740147c06"
   }
  }
 },
 "nbformat": 4,
 "nbformat_minor": 2
}
