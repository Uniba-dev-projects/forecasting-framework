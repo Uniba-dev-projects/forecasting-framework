{
 "cells": [
  {
   "cell_type": "code",
   "execution_count": 8,
   "metadata": {},
   "outputs": [],
   "source": [
    "import pandas as pd\n",
    "import torch\n",
    "import numpy as np\n",
    "import matplotlib.pyplot as plt\n",
    "from test.util import TestSuite"
   ]
  },
  {
   "cell_type": "code",
   "execution_count": 9,
   "metadata": {},
   "outputs": [],
   "source": [
    "from src.validator.regressor import GridSearchKFoldCV_LinearRegression, GridSearchKFoldCV_Linear_SVR, GridSearchKFoldCV_RBF_SVR\n",
    "from src.performer.transformer import MinMaxTransformer\n",
    "from src.util.goal import ForecastingGoal, OneStepForecastingGoal\n",
    "from src.util.evaluation import ForecastErrorEvaluation\n",
    "from src.util.parameters import ModelsIperParameters"
   ]
  },
  {
   "cell_type": "markdown",
   "metadata": {},
   "source": [
    "# PIPELINE MODELLO LINEAR"
   ]
  },
  {
   "cell_type": "code",
   "execution_count": 13,
   "metadata": {},
   "outputs": [],
   "source": [
    "class UsePipeline_ARLinearRegression():\n",
    "    def execute(series, goal:ForecastingGoal):\n",
    "        LINEAR_REGRESSION_IPER_PARAMETERS = ModelsIperParameters(\n",
    "            FEATURE_LENGTH=[3,4,5,6,7,8,9,10,15,20]\n",
    "        )\n",
    "        \n",
    "        series = MinMaxTransformer.transform(series)\n",
    "\n",
    "        ERROR_PERFORMER = ForecastErrorEvaluation(goal = goal)\n",
    "        forecast_view, forecast_offset = goal.options()\n",
    "\n",
    "        grid_searcher = GridSearchKFoldCV_LinearRegression(\n",
    "            series = series,\n",
    "            target_length = forecast_view,\n",
    "            target_offset = forecast_offset,\n",
    "            kfolds = 10\n",
    "        )\n",
    "        grid_searcher.search(LINEAR_REGRESSION_IPER_PARAMETERS, ERROR_PERFORMER)\n",
    "        print(grid_searcher.get_all_params())"
   ]
  },
  {
   "cell_type": "code",
   "execution_count": 14,
   "metadata": {},
   "outputs": [
    {
     "name": "stdout",
     "output_type": "stream",
     "text": [
      "[[{'feature_length': 3}\n",
      "  <src.models.regressor.linear_regression.Model_LinearRegression object at 0x000001F39C0EB790>]\n",
      " [{'feature_length': 4}\n",
      "  <src.models.regressor.linear_regression.Model_LinearRegression object at 0x000001F39C0EAAA0>]\n",
      " [{'feature_length': 5}\n",
      "  <src.models.regressor.linear_regression.Model_LinearRegression object at 0x000001F39C0EA4A0>]\n",
      " [{'feature_length': 6}\n",
      "  <src.models.regressor.linear_regression.Model_LinearRegression object at 0x000001F39C0EB7C0>]\n",
      " [{'feature_length': 7}\n",
      "  <src.models.regressor.linear_regression.Model_LinearRegression object at 0x000001F39C0EA500>]\n",
      " [{'feature_length': 8}\n",
      "  <src.models.regressor.linear_regression.Model_LinearRegression object at 0x000001F39C0EA620>]\n",
      " [{'feature_length': 9}\n",
      "  <src.models.regressor.linear_regression.Model_LinearRegression object at 0x000001F39C0EA9E0>]\n",
      " [{'feature_length': 10}\n",
      "  <src.models.regressor.linear_regression.Model_LinearRegression object at 0x000001F39C0EA980>]\n",
      " [{'feature_length': 15}\n",
      "  <src.models.regressor.linear_regression.Model_LinearRegression object at 0x000001F39C0EB070>]\n",
      " [{'feature_length': 20}\n",
      "  <src.models.regressor.linear_regression.Model_LinearRegression object at 0x000001F39C0E9AB0>]\n",
      " [{'feature_length': 3}\n",
      "  <src.models.regressor.linear_regression.Model_LinearRegression object at 0x000001F39C0E94E0>]\n",
      " [{'feature_length': 4}\n",
      "  <src.models.regressor.linear_regression.Model_LinearRegression object at 0x000001F39C0E9750>]\n",
      " [{'feature_length': 5}\n",
      "  <src.models.regressor.linear_regression.Model_LinearRegression object at 0x000001F39C0E93F0>]\n",
      " [{'feature_length': 6}\n",
      "  <src.models.regressor.linear_regression.Model_LinearRegression object at 0x000001F39C0EBDC0>]\n",
      " [{'feature_length': 7}\n",
      "  <src.models.regressor.linear_regression.Model_LinearRegression object at 0x000001F39C0E9780>]\n",
      " [{'feature_length': 8}\n",
      "  <src.models.regressor.linear_regression.Model_LinearRegression object at 0x000001F39C0EB9D0>]\n",
      " [{'feature_length': 9}\n",
      "  <src.models.regressor.linear_regression.Model_LinearRegression object at 0x000001F39C0E9870>]\n",
      " [{'feature_length': 10}\n",
      "  <src.models.regressor.linear_regression.Model_LinearRegression object at 0x000001F39C0EBF40>]\n",
      " [{'feature_length': 15}\n",
      "  <src.models.regressor.linear_regression.Model_LinearRegression object at 0x000001F39BF99D80>]\n",
      " [{'feature_length': 20}\n",
      "  <src.models.regressor.linear_regression.Model_LinearRegression object at 0x000001F39C0EA7A0>]]\n"
     ]
    }
   ],
   "source": [
    "test_suite = TestSuite()\n",
    "series1 = test_suite.__get_numpy_test_series_from_index__(0)\n",
    "\n",
    "goal: ForecastingGoal = OneStepForecastingGoal(offset=1)\n",
    "UsePipeline_ARLinearRegression.execute(series=series1, goal=goal)"
   ]
  },
  {
   "cell_type": "markdown",
   "metadata": {},
   "source": [
    "# PIPELINE MODELLO SVR RBF"
   ]
  },
  {
   "cell_type": "code",
   "execution_count": 15,
   "metadata": {},
   "outputs": [],
   "source": [
    "class UsePipeline_ARSupportVectorRegressionRBF():\n",
    "    def execute(series, goal:ForecastingGoal):\n",
    "        # SVR_RBF_IPER_PARAMETERS = ModelsIperParameters(\n",
    "        #     FEATURE_LENGTH=[3,4,5,6,7,8,9,10,15,20],\n",
    "        #     C = [0.05, 0.1, 1, 2, 4, 8, 10],\n",
    "        #     EPSILON = [1e-6, 1e-5, 1e-4, 1e-3, 1e-2, 1e-1, 1],\n",
    "        #     GAMMA =  [1e-4, 1e-3, 1e-2, 1e-1, 1, 5]\n",
    "        # )\n",
    "        SVR_RBF_IPER_PARAMETERS = ModelsIperParameters(\n",
    "            FEATURE_LENGTH=[3,4],\n",
    "            C = [0.05],\n",
    "            EPSILON = [1e-6],\n",
    "            GAMMA =  [1e-4]\n",
    "        )\n",
    "\n",
    "        series = MinMaxTransformer.transform(series)\n",
    "\n",
    "        ERROR_PERFORMER = ForecastErrorEvaluation(goal = goal)\n",
    "        forecast_view, forecast_offset = goal.options()\n",
    "\n",
    "        grid_searcher = GridSearchKFoldCV_RBF_SVR(\n",
    "            series = series,\n",
    "            target_length = forecast_view,\n",
    "            target_offset = forecast_offset,\n",
    "            kfolds = 10\n",
    "        )\n",
    "        grid_searcher.search(SVR_RBF_IPER_PARAMETERS, ERROR_PERFORMER)\n",
    "        params = grid_searcher.get_all_params()\n",
    "        print(params)"
   ]
  },
  {
   "cell_type": "code",
   "execution_count": 16,
   "metadata": {},
   "outputs": [
    {
     "name": "stdout",
     "output_type": "stream",
     "text": [
      "[[{'feature_length': 3, 'C': 0.05, 'epsilon': 1e-06, 'gamma': 0.0001}\n",
      "  <src.models.regressor.svr.Model_RBF_SVR object at 0x000001F39C0E9000>]\n",
      " [{'feature_length': 4, 'C': 0.05, 'epsilon': 1e-06, 'gamma': 0.0001}\n",
      "  <src.models.regressor.svr.Model_RBF_SVR object at 0x000001F39C0EA830>]]\n"
     ]
    }
   ],
   "source": [
    "test_suite = TestSuite()\n",
    "series1 = test_suite.__get_numpy_test_series_from_index__(0)\n",
    "\n",
    "goal: ForecastingGoal = OneStepForecastingGoal(offset=1)\n",
    "params = UsePipeline_ARSupportVectorRegressionRBF.execute(series=series1, goal=goal)"
   ]
  },
  {
   "cell_type": "markdown",
   "metadata": {},
   "source": [
    "# PIPELINE MODELLO SVR LINEAR"
   ]
  },
  {
   "cell_type": "code",
   "execution_count": 17,
   "metadata": {},
   "outputs": [],
   "source": [
    "class UsePipeline_ARSupportVectorRegressionLinear():\n",
    "    def execute(series, goal:ForecastingGoal):\n",
    "        # SVR_RBF_IPER_PARAMETERS = ModelsIperParameters(\n",
    "        #     FEATURE_LENGTH=[3,4,5,6,7,8,9,10,15,20],\n",
    "        #     C = [0.05, 0.1, 1, 2, 4, 8, 10],\n",
    "        #     EPSILON = [1e-6, 1e-5, 1e-4, 1e-3, 1e-2, 1e-1, 1],\n",
    "        #     FIT_INTERCEPT =  [True, False]\n",
    "        # )\n",
    "        SVR_LINEAR_IPER_PARAMETERS = ModelsIperParameters(\n",
    "            FEATURE_LENGTH=[3,4],\n",
    "            C = [0.05],\n",
    "            EPSILON = [1e-6],\n",
    "            FIT_INTERCEPT =  [True]\n",
    "        )\n",
    "\n",
    "        series = MinMaxTransformer.transform(series)\n",
    "\n",
    "        ERROR_PERFORMER = ForecastErrorEvaluation(goal = goal)\n",
    "        forecast_view, forecast_offset = goal.options()\n",
    "\n",
    "        grid_searcher = GridSearchKFoldCV_Linear_SVR(\n",
    "            series = series,\n",
    "            target_length = forecast_view,\n",
    "            target_offset = forecast_offset,\n",
    "            kfolds = 10\n",
    "        )\n",
    "        grid_searcher.search(SVR_LINEAR_IPER_PARAMETERS, ERROR_PERFORMER)\n",
    "        grid_searcher.get_all_params()\n",
    "        # print(params)"
   ]
  },
  {
   "cell_type": "code",
   "execution_count": 18,
   "metadata": {},
   "outputs": [
    {
     "name": "stderr",
     "output_type": "stream",
     "text": [
      "c:\\Users\\coral\\AppData\\Local\\Programs\\Python\\Python310\\lib\\site-packages\\sklearn\\svm\\_classes.py:32: FutureWarning: The default value of `dual` will change from `True` to `'auto'` in 1.5. Set the value of `dual` explicitly to suppress the warning.\n",
      "  warnings.warn(\n",
      "c:\\Users\\coral\\AppData\\Local\\Programs\\Python\\Python310\\lib\\site-packages\\sklearn\\svm\\_classes.py:32: FutureWarning: The default value of `dual` will change from `True` to `'auto'` in 1.5. Set the value of `dual` explicitly to suppress the warning.\n",
      "  warnings.warn(\n",
      "c:\\Users\\coral\\AppData\\Local\\Programs\\Python\\Python310\\lib\\site-packages\\sklearn\\svm\\_classes.py:32: FutureWarning: The default value of `dual` will change from `True` to `'auto'` in 1.5. Set the value of `dual` explicitly to suppress the warning.\n",
      "  warnings.warn(\n",
      "c:\\Users\\coral\\AppData\\Local\\Programs\\Python\\Python310\\lib\\site-packages\\sklearn\\svm\\_classes.py:32: FutureWarning: The default value of `dual` will change from `True` to `'auto'` in 1.5. Set the value of `dual` explicitly to suppress the warning.\n",
      "  warnings.warn(\n",
      "c:\\Users\\coral\\AppData\\Local\\Programs\\Python\\Python310\\lib\\site-packages\\sklearn\\svm\\_classes.py:32: FutureWarning: The default value of `dual` will change from `True` to `'auto'` in 1.5. Set the value of `dual` explicitly to suppress the warning.\n",
      "  warnings.warn(\n",
      "c:\\Users\\coral\\AppData\\Local\\Programs\\Python\\Python310\\lib\\site-packages\\sklearn\\svm\\_classes.py:32: FutureWarning: The default value of `dual` will change from `True` to `'auto'` in 1.5. Set the value of `dual` explicitly to suppress the warning.\n",
      "  warnings.warn(\n",
      "c:\\Users\\coral\\AppData\\Local\\Programs\\Python\\Python310\\lib\\site-packages\\sklearn\\svm\\_classes.py:32: FutureWarning: The default value of `dual` will change from `True` to `'auto'` in 1.5. Set the value of `dual` explicitly to suppress the warning.\n",
      "  warnings.warn(\n",
      "c:\\Users\\coral\\AppData\\Local\\Programs\\Python\\Python310\\lib\\site-packages\\sklearn\\svm\\_classes.py:32: FutureWarning: The default value of `dual` will change from `True` to `'auto'` in 1.5. Set the value of `dual` explicitly to suppress the warning.\n",
      "  warnings.warn(\n",
      "c:\\Users\\coral\\AppData\\Local\\Programs\\Python\\Python310\\lib\\site-packages\\sklearn\\svm\\_classes.py:32: FutureWarning: The default value of `dual` will change from `True` to `'auto'` in 1.5. Set the value of `dual` explicitly to suppress the warning.\n",
      "  warnings.warn(\n",
      "c:\\Users\\coral\\AppData\\Local\\Programs\\Python\\Python310\\lib\\site-packages\\sklearn\\svm\\_classes.py:32: FutureWarning: The default value of `dual` will change from `True` to `'auto'` in 1.5. Set the value of `dual` explicitly to suppress the warning.\n",
      "  warnings.warn(\n",
      "c:\\Users\\coral\\AppData\\Local\\Programs\\Python\\Python310\\lib\\site-packages\\sklearn\\svm\\_classes.py:32: FutureWarning: The default value of `dual` will change from `True` to `'auto'` in 1.5. Set the value of `dual` explicitly to suppress the warning.\n",
      "  warnings.warn(\n",
      "c:\\Users\\coral\\AppData\\Local\\Programs\\Python\\Python310\\lib\\site-packages\\sklearn\\svm\\_classes.py:32: FutureWarning: The default value of `dual` will change from `True` to `'auto'` in 1.5. Set the value of `dual` explicitly to suppress the warning.\n",
      "  warnings.warn(\n",
      "c:\\Users\\coral\\AppData\\Local\\Programs\\Python\\Python310\\lib\\site-packages\\sklearn\\svm\\_classes.py:32: FutureWarning: The default value of `dual` will change from `True` to `'auto'` in 1.5. Set the value of `dual` explicitly to suppress the warning.\n",
      "  warnings.warn(\n",
      "c:\\Users\\coral\\AppData\\Local\\Programs\\Python\\Python310\\lib\\site-packages\\sklearn\\svm\\_classes.py:32: FutureWarning: The default value of `dual` will change from `True` to `'auto'` in 1.5. Set the value of `dual` explicitly to suppress the warning.\n",
      "  warnings.warn(\n",
      "c:\\Users\\coral\\AppData\\Local\\Programs\\Python\\Python310\\lib\\site-packages\\sklearn\\svm\\_classes.py:32: FutureWarning: The default value of `dual` will change from `True` to `'auto'` in 1.5. Set the value of `dual` explicitly to suppress the warning.\n",
      "  warnings.warn(\n",
      "c:\\Users\\coral\\AppData\\Local\\Programs\\Python\\Python310\\lib\\site-packages\\sklearn\\svm\\_classes.py:32: FutureWarning: The default value of `dual` will change from `True` to `'auto'` in 1.5. Set the value of `dual` explicitly to suppress the warning.\n",
      "  warnings.warn(\n",
      "c:\\Users\\coral\\AppData\\Local\\Programs\\Python\\Python310\\lib\\site-packages\\sklearn\\svm\\_classes.py:32: FutureWarning: The default value of `dual` will change from `True` to `'auto'` in 1.5. Set the value of `dual` explicitly to suppress the warning.\n",
      "  warnings.warn(\n",
      "c:\\Users\\coral\\AppData\\Local\\Programs\\Python\\Python310\\lib\\site-packages\\sklearn\\svm\\_classes.py:32: FutureWarning: The default value of `dual` will change from `True` to `'auto'` in 1.5. Set the value of `dual` explicitly to suppress the warning.\n",
      "  warnings.warn(\n",
      "c:\\Users\\coral\\AppData\\Local\\Programs\\Python\\Python310\\lib\\site-packages\\sklearn\\svm\\_classes.py:32: FutureWarning: The default value of `dual` will change from `True` to `'auto'` in 1.5. Set the value of `dual` explicitly to suppress the warning.\n",
      "  warnings.warn(\n",
      "c:\\Users\\coral\\AppData\\Local\\Programs\\Python\\Python310\\lib\\site-packages\\sklearn\\svm\\_classes.py:32: FutureWarning: The default value of `dual` will change from `True` to `'auto'` in 1.5. Set the value of `dual` explicitly to suppress the warning.\n",
      "  warnings.warn(\n"
     ]
    }
   ],
   "source": [
    "test_suite = TestSuite()\n",
    "series1 = test_suite.__get_numpy_test_series_from_index__(0)\n",
    "\n",
    "goal: ForecastingGoal = OneStepForecastingGoal(offset=1)\n",
    "UsePipeline_ARSupportVectorRegressionLinear.execute(series=series1, goal=goal)"
   ]
  },
  {
   "cell_type": "markdown",
   "metadata": {},
   "source": [
    "# NN CNN"
   ]
  },
  {
   "cell_type": "code",
   "execution_count": null,
   "metadata": {},
   "outputs": [],
   "source": [
    "from util.parameters import NeuralNetworkTrainingParameters\n",
    "from validator.nn.trainer import GridSearch_ConvolutionalNeuralNetwork"
   ]
  },
  {
   "cell_type": "code",
   "execution_count": null,
   "metadata": {},
   "outputs": [],
   "source": [
    "class UsePipeline_ConvolutionalNeuralNetwork():\n",
    "    def execute(series, goal:ForecastingGoal):\n",
    "        CNN_IPER_PARAMETERS = ModelsIperParameters(\n",
    "            FEATURE_LENGTH = [5],\n",
    "            LINEAR_LAYERS = [1],\n",
    "            NEURONS = [128],\n",
    "            DROPOUT = [0.5]\n",
    "        )\n",
    "\n",
    "        series = MinMaxTransformer.transform(series)\n",
    "\n",
    "        ERROR_PERFORMER = ForecastErrorEvaluation(goal = goal)\n",
    "        forecast_view, forecast_offset = goal.options()\n",
    "        \n",
    "        grid_searcher = GridSearch_ConvolutionalNeuralNetwork(\n",
    "            series = series,\n",
    "            target_length = forecast_view,\n",
    "            target_offset = forecast_offset,\n",
    "            training_parameters = NeuralNetworkTrainingParameters(EPOCHS = 900, EARLY_STOP = True, LEARNING_RATE = .001)\n",
    "        )\n",
    "\n",
    "        grid_searcher.search(CNN_IPER_PARAMETERS, ERROR_PERFORMER)\n",
    "        return grid_searcher.get_all_params()\n",
    "\n",
    "        \n",
    "        # print(params)"
   ]
  },
  {
   "cell_type": "code",
   "execution_count": null,
   "metadata": {},
   "outputs": [],
   "source": [
    "test_suite = TestSuite()\n",
    "series1 = test_suite.__get_numpy_test_series_from_index__(0)\n",
    "\n",
    "goal: ForecastingGoal = OneStepForecastingGoal(offset=1)\n",
    "param = UsePipeline_ConvolutionalNeuralNetwork.execute(series=series1, goal=goal)"
   ]
  },
  {
   "cell_type": "markdown",
   "metadata": {},
   "source": [
    "# LSTM"
   ]
  },
  {
   "cell_type": "code",
   "execution_count": 3,
   "metadata": {},
   "outputs": [],
   "source": [
    "from src.validator.nn.trainer import GridSearch_LongShortTermNeuralNetwork\n",
    "from src.util.parameters import NeuralNetworkTrainingParameters"
   ]
  },
  {
   "cell_type": "code",
   "execution_count": 4,
   "metadata": {},
   "outputs": [],
   "source": [
    "class UsePipeline_LongShortTermNeuralNetwork():\n",
    "    def execute(series, goal:ForecastingGoal):\n",
    "        LSTM_IPER_PARAMETERS = ModelsIperParameters(\n",
    "            FEATURE_LENGTH = [5],\n",
    "            HIDDEN_STATE=[128],\n",
    "            RECURRENT_LAYERS=[2],\n",
    "            DROPOUT=[0.2]\n",
    "        )\n",
    "\n",
    "        series = MinMaxTransformer.transform(series)\n",
    "\n",
    "        ERROR_PERFORMER = ForecastErrorEvaluation(goal = goal)\n",
    "        forecast_view, forecast_offset = goal.options()\n",
    "        \n",
    "        grid_searcher = GridSearch_LongShortTermNeuralNetwork(\n",
    "            series = series,\n",
    "            target_length = forecast_view,\n",
    "            target_offset = forecast_offset,\n",
    "            training_parameters = NeuralNetworkTrainingParameters(EPOCHS = 900, EARLY_STOP = True, LEARNING_RATE = .001)\n",
    "        )\n",
    "\n",
    "        grid_searcher.search(LSTM_IPER_PARAMETERS, ERROR_PERFORMER)\n",
    "        return grid_searcher.get_all_params()"
   ]
  },
  {
   "cell_type": "code",
   "execution_count": null,
   "metadata": {},
   "outputs": [],
   "source": [
    "test_suite = TestSuite()\n",
    "series1 = test_suite.__get_numpy_test_series_from_index__(0)\n",
    "\n",
    "goal: ForecastingGoal = OneStepForecastingGoal(offset=1)\n",
    "param = UsePipeline_LongShortTermNeuralNetwork.execute(series=series1, goal=goal)"
   ]
  },
  {
   "cell_type": "code",
   "execution_count": null,
   "metadata": {},
   "outputs": [],
   "source": [
    "model = param[0][2]"
   ]
  },
  {
   "cell_type": "code",
   "execution_count": null,
   "metadata": {},
   "outputs": [],
   "source": [
    "SWP = SlidingWindowPerformer(\n",
    "    feature_length=5,\n",
    "    target_length=1,\n",
    "    target_offset=1\n",
    ")\n",
    "\n",
    "TTP = TrainTestPerformer(portion_train = 1, random_sampling = True)\n",
    "_, x, y = SWP.get(series1)"
   ]
  },
  {
   "cell_type": "code",
   "execution_count": null,
   "metadata": {},
   "outputs": [],
   "source": [
    "yhat= model(torch.tensor(x))"
   ]
  }
 ],
 "metadata": {
  "kernelspec": {
   "display_name": "Python 3.8.8 ('base')",
   "language": "python",
   "name": "python3"
  },
  "language_info": {
   "codemirror_mode": {
    "name": "ipython",
    "version": 3
   },
   "file_extension": ".py",
   "mimetype": "text/x-python",
   "name": "python",
   "nbconvert_exporter": "python",
   "pygments_lexer": "ipython3",
   "version": "3.10.11"
  },
  "orig_nbformat": 4,
  "vscode": {
   "interpreter": {
    "hash": "297f1ab228ac72a1e88da0398af00a5916b3f38386a88425b941448740147c06"
   }
  }
 },
 "nbformat": 4,
 "nbformat_minor": 2
}
