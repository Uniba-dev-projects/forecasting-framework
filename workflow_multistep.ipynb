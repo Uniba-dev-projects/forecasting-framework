{
 "cells": [
  {
   "cell_type": "code",
   "execution_count": 1,
   "metadata": {},
   "outputs": [],
   "source": [
    "import numpy as np\n",
    "from src.util.evaluation import ForecastErrorEvaluation\n",
    "from src.util.goal import ForecastingGoal, OneStepForecastingGoal\n",
    "from src.pipeline import IPipeline, Use_ARLinearRegression, Use_ARSupportVectorRegressionLinear, Use_ARSupportVectorRegressionRBF, Use_ARConvolutionalNeuralNetwork, Use_ARLongShortTermMemoryNeuralNetwork, Use_ARMultiLayerPerceptronNeuralNetwork\n",
    "from test.util import TestSuite\n"
   ]
  },
  {
   "cell_type": "code",
   "execution_count": 2,
   "metadata": {},
   "outputs": [],
   "source": [
    "test_suite = TestSuite()\n",
    "series1 = test_suite.__get_numpy_test_series_from_index__(6)\n",
    "goal: ForecastingGoal = OneStepForecastingGoal(offset=1)"
   ]
  },
  {
   "cell_type": "code",
   "execution_count": 3,
   "metadata": {},
   "outputs": [],
   "source": [
    "from src.performer.supervised_learning_performer import SlidingWindowPerformer\n",
    "\n",
    "\n",
    "SWP1 = SlidingWindowPerformer(feature_length=5, target_length=1, target_offset=1)\n",
    "SWP2 = SlidingWindowPerformer(feature_length=5, target_length=1, target_offset=2)\n",
    "SWP3 = SlidingWindowPerformer(feature_length=5, target_length=1, target_offset=3)\n",
    "SWP4 = SlidingWindowPerformer(feature_length=5, target_length=1, target_offset=4)\n",
    "SWP5 = SlidingWindowPerformer(feature_length=5, target_length=1, target_offset=5)"
   ]
  },
  {
   "cell_type": "code",
   "execution_count": 4,
   "metadata": {},
   "outputs": [
    {
     "name": "stdout",
     "output_type": "stream",
     "text": [
      "(10,)\n"
     ]
    }
   ],
   "source": [
    "testSeries = np.arange(0, 10, 1)\n",
    "print(testSeries.shape)"
   ]
  },
  {
   "cell_type": "code",
   "execution_count": 5,
   "metadata": {},
   "outputs": [],
   "source": [
    "class MultiStepWorkflow():\n",
    "    def __init__(self, series, goal: ForecastingGoal):\n",
    "        self.workflow_stack = []\n",
    "        view, offset = goal.options()\n",
    "        self._view = view\n",
    "        self._offset = offset\n",
    "        self._goal = goal\n",
    "        self._pipelines = np.array([])\n",
    "        \n",
    "        size = view+offset+5 #5 is ar variable\n",
    "        self._series = series[:-size]\n",
    "        self._test_series = series[-size:]\n",
    "\n",
    "    def __add_to_pipeline__(self, *pipelines: IPipeline):\n",
    "        self._pipelines = np.array(pipelines)\n",
    "    \n",
    "    def __best_model__(self):\n",
    "        temp = np.array(self._temp_results)\n",
    "        loss_errors = temp[::, 2]\n",
    "        min = np.min(loss_errors)\n",
    "        index = np.where(loss_errors == min)[0][0]\n",
    "        return temp[index]\n",
    "\n",
    "    def __execute__(self):\n",
    "        for i in range(self._view):\n",
    "            oneStep = OneStepForecastingGoal(offset = i+1)\n",
    "            self._temp_results = []\n",
    "            print(\"Processing Step \",i)\n",
    "            for i in range(len(self._pipelines)):\n",
    "                t_result = self._pipelines[i].__execute__(series=self._series, goal=oneStep)\n",
    "                self._temp_results.append(np.array([t_result[0], t_result[1], t_result[2]]))\n",
    "                print(\"Best Models:\\t\", t_result[0].__identify__(), \"\\t\\t\\tError:\", str(t_result[2]))\n",
    "\n",
    "            r = self.__best_model__()\n",
    "            print(\"Choosing:\"+r[0].__identify__())\n",
    "            print(\"--------------------------------------\")\n",
    "            self.workflow_stack.append(r)\n",
    "\n",
    "    def get(self):\n",
    "        return self.workflow_stack, self._test_series"
   ]
  },
  {
   "cell_type": "code",
   "execution_count": null,
   "metadata": {},
   "outputs": [],
   "source": [
    "from src.util.goal import MultiStepForecastingGoal\n",
    "\n",
    "\n",
    "test_suite = TestSuite()\n",
    "series1 = test_suite.__get_numpy_test_series_from_index__(6)\n",
    "goal: ForecastingGoal = MultiStepForecastingGoal(offset=1, view=5)\n",
    "wf = MultiStepWorkflow(series = series1, goal = goal)\n",
    "wf.__add_to_pipeline__(\n",
    "    Use_ARSupportVectorRegressionRBF(),\n",
    "    Use_ARConvolutionalNeuralNetwork(),\n",
    "    Use_ARSupportVectorRegressionLinear(),\n",
    "    Use_ARLongShortTermMemoryNeuralNetwork(),\n",
    "    Use_ARMultiLayerPerceptronNeuralNetwork(),\n",
    "    Use_ARLinearRegression()\n",
    ")\n",
    "wf.__execute__()"
   ]
  },
  {
   "cell_type": "code",
   "execution_count": null,
   "metadata": {},
   "outputs": [],
   "source": [
    "import matplotlib.pyplot as plt\n",
    "plt.plot(test)"
   ]
  },
  {
   "cell_type": "code",
   "execution_count": 9,
   "metadata": {},
   "outputs": [],
   "source": [
    "workflow_stack, series_test = wf.get()"
   ]
  },
  {
   "cell_type": "code",
   "execution_count": null,
   "metadata": {},
   "outputs": [],
   "source": [
    "workflow_stack"
   ]
  },
  {
   "cell_type": "code",
   "execution_count": 12,
   "metadata": {},
   "outputs": [],
   "source": [
    "x = []\n",
    "y = []\n",
    "_, tX1, tY1 = SWP1.get(testSeries)\n",
    "x.append(tX1[0])\n",
    "y.append(tY1[0])\n",
    "\n",
    "_, tX1, tY1 = SWP2.get(testSeries)\n",
    "x.append(tX1[0])\n",
    "y.append(tY1[0])\n",
    "_, tX1, tY1 = SWP3.get(testSeries)\n",
    "x.append(tX1[0])\n",
    "y.append(tY1[0])\n",
    "_, tX1, tY1 = SWP4.get(testSeries)\n",
    "x.append(tX1[0])\n",
    "y.append(tY1[0])\n",
    "_, tX1, tY1 = SWP5.get(testSeries)\n",
    "x.append(tX1[0])\n",
    "y.append(tY1[0])"
   ]
  },
  {
   "cell_type": "code",
   "execution_count": 22,
   "metadata": {},
   "outputs": [
    {
     "name": "stdout",
     "output_type": "stream",
     "text": [
      "<src.models.regressor.linear_regression.Model_LinearRegression object at 0x000002A925CF7D30>\n",
      "[[4.973754]]\n",
      "<src.models.regressor.linear_regression.Model_LinearRegression object at 0x000002A925CF7D30>\n",
      "[[4.973754]]\n",
      "<src.models.regressor.linear_regression.Model_LinearRegression object at 0x000002A925CF7D30>\n",
      "[[4.973754]]\n",
      "<src.models.regressor.linear_regression.Model_LinearRegression object at 0x000002A925CF7D30>\n",
      "[[4.973754]]\n",
      "<src.models.regressor.linear_regression.Model_LinearRegression object at 0x000002A925CF7D30>\n",
      "[[4.973754]]\n"
     ]
    }
   ],
   "source": [
    "predictions = []\n",
    "for i in range(len(workflow_stack)):\n",
    "    model = workflow_stack[i][0]\n",
    "    print(model)\n",
    "    y = model.__test__([x[i]])\n",
    "    print(y)\n",
    "    # predictions.append((x[i]))"
   ]
  },
  {
   "cell_type": "code",
   "execution_count": 23,
   "metadata": {},
   "outputs": [
    {
     "data": {
      "text/plain": [
       "True"
      ]
     },
     "execution_count": 23,
     "metadata": {},
     "output_type": "execute_result"
    }
   ],
   "source": [
    "workflow_stack[0][0] == workflow_stack[1][0]"
   ]
  }
 ],
 "metadata": {
  "kernelspec": {
   "display_name": "Python 3.8.8 ('base')",
   "language": "python",
   "name": "python3"
  },
  "language_info": {
   "codemirror_mode": {
    "name": "ipython",
    "version": 3
   },
   "file_extension": ".py",
   "mimetype": "text/x-python",
   "name": "python",
   "nbconvert_exporter": "python",
   "pygments_lexer": "ipython3",
   "version": "3.8.8"
  },
  "orig_nbformat": 4,
  "vscode": {
   "interpreter": {
    "hash": "297f1ab228ac72a1e88da0398af00a5916b3f38386a88425b941448740147c06"
   }
  }
 },
 "nbformat": 4,
 "nbformat_minor": 2
}
