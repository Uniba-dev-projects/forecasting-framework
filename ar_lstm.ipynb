{
 "cells": [
  {
   "cell_type": "code",
   "execution_count": 1,
   "metadata": {},
   "outputs": [],
   "source": [
    "import numpy as np\n",
    "import matplotlib.pyplot as plt\n",
    "from synthetic import TestSuite\n",
    "import torch\n",
    "\n",
    "def RMSE_Loss(actual, predicted):\n",
    "    \"\"\"Root Mean Squared Error\"\"\"\n",
    "    return torch.sqrt(torch.mean(torch.square(actual - predicted)))\n",
    "\n",
    "def min_max_transform(series):\n",
    "  series_temp = np.copy(series)\n",
    "  for i in range(len(series_temp)):\n",
    "    series_temp[i] = (series_temp[i] - np.max(series))/(np.max(series)-np.min(series)) + 1\n",
    "  return series_temp\n",
    "\n",
    "import os, shutil\n",
    "DIR=\"experiment_nn_lstm/\"\n",
    "FILE_NAME=DIR+\"/log.csv\"\n",
    "if os.path.exists(DIR): shutil.rmtree(DIR)\n",
    "if not os.path.exists(DIR): os.mkdir(DIR)"
   ]
  },
  {
   "cell_type": "code",
   "execution_count": 2,
   "metadata": {},
   "outputs": [],
   "source": [
    "def outputExperiment(id, series_name, mixed, feature_length, target_length, target_offset, rmse_train, rmse_test, epochs):\n",
    "    with open(FILE_NAME, 'a') as f:\n",
    "        result = \", \".join(map(str, list([id, series_name , mixed , feature_length , target_length , target_offset , rmse_train , rmse_test, epochs])))\n",
    "        print(result, file=f)"
   ]
  },
  {
   "cell_type": "code",
   "execution_count": 3,
   "metadata": {},
   "outputs": [],
   "source": [
    "def showExperiment(ID, mixed, series, series_name, Y_train, Y_test, Yhat_train, Yhat_test, Yhat_series, rmse_train, rmse_test):\n",
    "    plt.figure(figsize=(30,10))\n",
    "    plt.subplot(411)\n",
    "    plt.margins(0.05)\n",
    "    plt.plot(series)\n",
    "    plt.plot(Yhat_series)\n",
    "    plt.legend([\"True\", \"Predicted\"])\n",
    "    plt.title(\"Series: \"+ series_name+\" (Random Sampling=\"+str(mixed)+\")\")\n",
    "\n",
    "    plt.subplot(412)\n",
    "    plt.margins(0.05)\n",
    "    plt.plot(rmse_train)\n",
    "    plt.plot(rmse_test)\n",
    "    plt.legend([\"RMSE Train\", \"RMSE Test\"])\n",
    "    plt.title(\"RMSE Train: \"+ str(rmse_train[-1])+\"\\nRMSE Test: \"+ str(rmse_test[-1]))\n",
    "\n",
    "    plt.subplot(425)\n",
    "    plt.margins(0.05)\n",
    "    plt.plot(Y_train)\n",
    "    plt.plot(Yhat_train)\n",
    "    plt.legend([\"True\", \"Predicted\"])\n",
    "    plt.title(\"Train\")\n",
    "\n",
    "    plt.subplot(426)\n",
    "    plt.margins(0.05)\n",
    "    plt.plot(Y_test)\n",
    "    plt.plot(Yhat_test)\n",
    "    plt.legend([\"True\", \"Predicted\"])\n",
    "    plt.title(\"Test\")\n",
    "\n",
    "    plt.subplot(427)\n",
    "    plt.margins(0.05)\n",
    "    plt.plot(abs(Y_train - Yhat_train))\n",
    "    plt.legend([\"Residuals\"])\n",
    "    plt.title(\"Train\")\n",
    "\n",
    "    plt.subplot(428)\n",
    "    plt.margins(0.05)\n",
    "    plt.plot(abs(Y_test - Yhat_test))\n",
    "    plt.legend([\"Residuals\"])\n",
    "    plt.title(\"Test\")\n",
    "\n",
    "    plt.subplots_adjust(left=0.1,\n",
    "                    bottom=0.1,\n",
    "                    right=0.9,\n",
    "                    top=0.9,\n",
    "                    wspace=0.4,\n",
    "                    hspace=0.4)\n",
    "    plt.savefig(DIR+str(ID)+\".png\", transparent=True)"
   ]
  },
  {
   "cell_type": "markdown",
   "metadata": {},
   "source": [
    "# LSTM Neural Network"
   ]
  },
  {
   "cell_type": "code",
   "execution_count": 4,
   "metadata": {},
   "outputs": [],
   "source": [
    "from src.models.nn import Model_LSTM"
   ]
  },
  {
   "cell_type": "code",
   "execution_count": 5,
   "metadata": {},
   "outputs": [],
   "source": [
    "def executeNN(X_train, X_test, Y_train, Y_test):\n",
    "    model_nn_lstm = Model_LSTM(error_fun=RMSE_Loss)\n",
    "    model_nn_lstm.__train__(X_train=X_train, Y_train=Y_train, X_test=X_test, Y_test=Y_test)\n",
    "\n",
    "    rmse_train = model_nn_lstm.__get_error_train__()\n",
    "    rmse_test = model_nn_lstm.__get_error_test__()\n",
    "\n",
    "    yhat_train = model_nn_lstm.__get_yhat_train__()\n",
    "    yhat_test = model_nn_lstm.__get_yhat_test__()\n",
    "\n",
    "    X_series, Y_series = np.concatenate((X_train, X_test), axis=0), np.concatenate((Y_train, Y_test), axis=0)\n",
    "    X_series, Y_series = torch.tensor(X_series, dtype=torch.float32), torch.tensor(Y_series, dtype=torch.float32)\n",
    "    model_nn_lstm.__test__(X_test=X_series, Y_test=Y_series)\n",
    "    yhat_series = model_nn_lstm.__get_yhat_test__()\n",
    "    \n",
    "    return rmse_train, rmse_test, yhat_train, yhat_test, yhat_series, model_nn_lstm.epochs"
   ]
  },
  {
   "cell_type": "code",
   "execution_count": 6,
   "metadata": {},
   "outputs": [],
   "source": [
    "def PipelineNN():\n",
    "    synthetic_dataset_test_suite = TestSuite()\n",
    "\n",
    "    synthetic_datasets =  synthetic_dataset_test_suite.__get_test_suite_size__() - 5\n",
    "    \n",
    "    mixed = [True, False]\n",
    "    feature_length = [1, 2, 3, 4, 5]\n",
    "    target_offset = [1, 2, 3, 4, 5]\n",
    "    target_length = [1]\n",
    "\n",
    "    ID = 250 #0\n",
    "    print(\"\\t{}\\t{}\\t{}\\t{}\\t{}\\t{}\\t{}\".format(\"ID\", \"Series\", \"Mixed\", \"Autoregressive Variables\", \"Target Length\", \"Target Offset\", \"RMSE Train\", \"RMSE Test\", \"EPOCHS\"))\n",
    "    for index in range(synthetic_datasets):\n",
    "        series = synthetic_dataset_test_suite.__get_numpy_test_series_from_index__((index + 5))\n",
    "        for ind_mixed in mixed:\n",
    "            for ind_feature in feature_length:\n",
    "                for ind_offset in target_offset:\n",
    "                    for ind_target in target_length:\n",
    "                        X_train, X_test, Y_train, Y_test = synthetic_dataset_test_suite.__train_and_test_from_numpy_series__(\n",
    "                            transform=min_max_transform,\n",
    "                            series=series,\n",
    "                            mixed=ind_mixed,\n",
    "                            feature_length=ind_feature,\n",
    "                            offset=ind_offset,\n",
    "                            target_length=ind_target,\n",
    "                            tensor = True\n",
    "                        )\n",
    "                        rmse_train, rmse_test, yhat_train, yhat_test, yhat_series, epochs = executeNN(X_train=X_train, X_test=X_test, Y_train=Y_train, Y_test=Y_test)\n",
    "                        outputExperiment(\n",
    "                            ID,\n",
    "                            synthetic_dataset_test_suite.__get_name_test_series_from_index__((index + 5)),\n",
    "                            ind_mixed,\n",
    "                            ind_feature,\n",
    "                            ind_offset,\n",
    "                            ind_target,\n",
    "                            rmse_train[-1],\n",
    "                            rmse_test[-1],\n",
    "                            epochs\n",
    "                        )\n",
    "                        showExperiment(\n",
    "                            ID,\n",
    "                            ind_mixed,\n",
    "                            np.concatenate((Y_train, Y_test), axis=0),\n",
    "                            synthetic_dataset_test_suite.__get_name_test_series_from_index__(index),\n",
    "                            Y_train.detach().numpy(),\n",
    "                            Y_test.detach().numpy(),\n",
    "                            yhat_train.detach().numpy(),\n",
    "                            yhat_test.detach().numpy(),\n",
    "                            yhat_series.detach().numpy(),\n",
    "                            rmse_train,\n",
    "                            rmse_test\n",
    "                        )\n",
    "                        ID += 1\n",
    "    "
   ]
  },
  {
   "cell_type": "code",
   "execution_count": 7,
   "metadata": {},
   "outputs": [],
   "source": [
    "# PipelineNN()"
   ]
  },
  {
   "cell_type": "code",
   "execution_count": 8,
   "metadata": {},
   "outputs": [],
   "source": [
    "from sklearn.model_selection import KFold\n",
    "class KFoldCrossValidation_LSTM():\n",
    "  __RANDOM_SEED = 1\n",
    "\n",
    "  def __init__(self, series, loss, one_step_offset_target, kfolds=10):\n",
    "    self.series = series\n",
    "    self.loss = loss\n",
    "    self.target = one_step_offset_target\n",
    "    self.kfolds = kfolds\n",
    "\n",
    "\n",
    "  def __generate_train_validation_sets(self, X_train, Y_train, tensor=False): \n",
    "    kfold = KFold(n_splits=self.kfolds, shuffle=True, random_state=self.__RANDOM_SEED)\n",
    "    new_X_train = []\n",
    "    new_X_validation = []\n",
    "\n",
    "    new_Y_train = []\n",
    "    new_Y_validation = []\n",
    "    for train_index, test_index in kfold.split(X_train):\n",
    "\n",
    "      if(tensor is True):\n",
    "        new_X_train.append(torch.tensor(X_train[train_index], dtype=torch.float32))\n",
    "        new_Y_train.append(torch.tensor(Y_train[train_index], dtype=torch.float32))\n",
    "\n",
    "        new_X_validation.append(torch.tensor(X_train[test_index], dtype=torch.float32))\n",
    "        new_Y_validation.append(torch.tensor(Y_train[test_index], dtype=torch.float32))\n",
    "      else:\n",
    "        new_X_train.append(X_train[train_index])\n",
    "        new_Y_train.append(Y_train[train_index])\n",
    "\n",
    "        new_X_validation.append(X_train[test_index])\n",
    "        new_Y_validation.append(Y_train[test_index])\n",
    "\n",
    "    return np.array(new_X_train, dtype=object), np.array(new_X_validation, dtype=object), np.array(new_Y_train, dtype=object), np.array(new_Y_validation, dtype=object)\n",
    "\n",
    "  def search(self, params):\n",
    "    synthetic_dataset_test_suite = TestSuite()\n",
    "    features_length = params[\"features_length\"]\n",
    "    rnn_layers = params[\"rnn_layers\"]\n",
    "    dropout = params[\"dropout\"]\n",
    "    hidden_state_size = params[\"hidden_state_size\"]\n",
    "    tensor = params[\"options\"][\"tensor\"]\n",
    "\n",
    "    cross_validation_results = []\n",
    "    for ind_feature in features_length:\n",
    "      for ind_rnn_layers in rnn_layers:\n",
    "        for ind_hidden in hidden_state_size:\n",
    "          for ind_dropout in dropout:\n",
    "              X_train, _, Y_train, _ = synthetic_dataset_test_suite.__train_and_test_from_numpy_series__(\n",
    "                  transform=min_max_transform,\n",
    "                  series=self.series,\n",
    "                  mixed=True,\n",
    "                  feature_length=ind_feature,\n",
    "                  offset=self.target,\n",
    "                  target_length=1\n",
    "              )\n",
    "              \n",
    "\n",
    "              X_trains, X_validations, Y_trains, Y_validations = self.__generate_train_validation_sets(X_train, Y_train, tensor=tensor)\n",
    "\n",
    "              validation_loss = np.array([])\n",
    "              for i in range(len(X_trains)):\n",
    "                model_nn_lstm = Model_LSTM(error_fun=self.loss, num_layers=ind_rnn_layers, dropout=ind_dropout)\n",
    "                model_nn_lstm.__train__(X_train=X_trains[i], Y_train=Y_trains[i], X_test=X_validations[i], Y_test=Y_validations[i])\n",
    "\n",
    "                loss = model_nn_lstm.__get_error_test__()\n",
    "                validation_loss = np.append(validation_loss, loss)\n",
    "              \n",
    "              mean = np.mean(validation_loss, axis=0)\n",
    "              std = np.std(validation_loss, axis=0)\n",
    "              params = {\n",
    "                \"features_length\": ind_feature,\n",
    "                \"rnn_layers\": ind_rnn_layers,\n",
    "                \"hidden_state_size\": ind_hidden,\n",
    "                \"dropout\": ind_dropout\n",
    "              }\n",
    "              print([mean, std, params, model_nn_lstm])\n",
    "              cross_validation_results.append([mean, std, params, model_nn_lstm])\n",
    "    \n",
    "    cross_validation_results = np.array(cross_validation_results)\n",
    "    min = cross_validation_results.T[0].min()\n",
    "    index_min = np.where(cross_validation_results.T[0] == min)\n",
    "\n",
    "    return cross_validation_results[index_min][0][2], cross_validation_results[index_min][0][3]  "
   ]
  },
  {
   "cell_type": "code",
   "execution_count": null,
   "metadata": {},
   "outputs": [],
   "source": [
    "synthetic_dataset_test_suite = TestSuite()\n",
    "cv_lstm = KFoldCrossValidation_LSTM(\n",
    "    series = synthetic_dataset_test_suite.__get_numpy_test_series_from_index__(6),\n",
    "    loss = RMSE_Loss,\n",
    "    one_step_offset_target= 5\n",
    ")\n",
    "cross_validation_param = {\n",
    "    \"features_length\": [10],\n",
    "    \"rnn_layers\": [6],\n",
    "    \"dropout\": [0.5],\n",
    "    \"hidden_state_size\": [128, 256],\n",
    "    \"options\": {\n",
    "        \"tensor\": True\n",
    "    }\n",
    "}\n",
    "params, model = cv_lstm.search(cross_validation_param)"
   ]
  },
  {
   "cell_type": "code",
   "execution_count": null,
   "metadata": {},
   "outputs": [],
   "source": [
    "params"
   ]
  },
  {
   "cell_type": "code",
   "execution_count": 11,
   "metadata": {},
   "outputs": [
    {
     "data": {
      "text/plain": [
       "<models.nn.lstm.Model_LSTM at 0x184373cf910>"
      ]
     },
     "execution_count": 11,
     "metadata": {},
     "output_type": "execute_result"
    }
   ],
   "source": [
    "model"
   ]
  },
  {
   "cell_type": "code",
   "execution_count": 16,
   "metadata": {},
   "outputs": [],
   "source": [
    "_, X_test, _, Y_test = synthetic_dataset_test_suite.__train_and_test_from_numpy_series__(\n",
    "    transform=min_max_transform,\n",
    "    series=synthetic_dataset_test_suite.__get_numpy_test_series_from_index__(6),\n",
    "    mixed=False,\n",
    "    feature_length=params[\"features_length\"],\n",
    "    offset=5,\n",
    "    target_length=1\n",
    ")"
   ]
  },
  {
   "cell_type": "code",
   "execution_count": 17,
   "metadata": {},
   "outputs": [],
   "source": [
    "model.__test__(torch.tensor(X_test, dtype=torch.float32), torch.tensor(X_test, dtype=torch.float32))\n",
    "yhat = model.__get_yhat_test__()"
   ]
  },
  {
   "cell_type": "code",
   "execution_count": 18,
   "metadata": {},
   "outputs": [
    {
     "data": {
      "text/plain": [
       "[<matplotlib.lines.Line2D at 0x1841942d160>]"
      ]
     },
     "execution_count": 18,
     "metadata": {},
     "output_type": "execute_result"
    },
    {
     "data": {
      "image/png": "[encoded data removed]",
      "text/plain": [
       "<Figure size 640x480 with 1 Axes>"
      ]
     },
     "metadata": {},
     "output_type": "display_data"
    }
   ],
   "source": [
    "plt.plot(Y_test)\n",
    "plt.plot(yhat)"
   ]
  }
 ],
 "metadata": {
  "kernelspec": {
   "display_name": "Python 3.9.13 64-bit",
   "language": "python",
   "name": "python3"
  },
  "language_info": {
   "codemirror_mode": {
    "name": "ipython",
    "version": 3
   },
   "file_extension": ".py",
   "mimetype": "text/x-python",
   "name": "python",
   "nbconvert_exporter": "python",
   "pygments_lexer": "ipython3",
   "version": "3.9.13"
  },
  "orig_nbformat": 4,
  "vscode": {
   "interpreter": {
    "hash": "92b2c712316eb56e5c206670e029dda3c08d9ec3933e8da7ec35d9dab346db2c"
   }
  }
 },
 "nbformat": 4,
 "nbformat_minor": 2
}
