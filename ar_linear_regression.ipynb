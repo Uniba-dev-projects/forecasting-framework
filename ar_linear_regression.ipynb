{
 "cells": [
  {
   "cell_type": "code",
   "execution_count": 1,
   "metadata": {},
   "outputs": [],
   "source": [
    "import numpy as np\n",
    "import matplotlib.pyplot as plt\n",
    "from test.util import TestSuite"
   ]
  },
  {
   "cell_type": "code",
   "execution_count": 2,
   "metadata": {},
   "outputs": [],
   "source": [
    "def RMSE_Loss(actual, predicted):\n",
    "    \"\"\"Root Mean Squared Error\"\"\"\n",
    "    return np.sqrt(np.mean(np.square(actual - predicted)))"
   ]
  },
  {
   "cell_type": "code",
   "execution_count": 3,
   "metadata": {},
   "outputs": [],
   "source": [
    "def min_max_transform(series):\n",
    "  series_temp = np.copy(series)\n",
    "  for i in range(len(series_temp)):\n",
    "    series_temp[i] = (series_temp[i] - np.max(series))/(np.max(series)-np.min(series)) + 1\n",
    "  return series_temp"
   ]
  },
  {
   "cell_type": "code",
   "execution_count": 4,
   "metadata": {},
   "outputs": [],
   "source": [
    "import os, shutil\n",
    "DIR=\"experiment_linear_regression/\"\n",
    "FILE_NAME=DIR+\"/log.csv\"\n",
    "if os.path.exists(DIR): shutil.rmtree(DIR)\n",
    "if not os.path.exists(DIR): os.mkdir(DIR)"
   ]
  },
  {
   "cell_type": "code",
   "execution_count": 5,
   "metadata": {},
   "outputs": [],
   "source": [
    "def outputExperiment(id, series_name, mixed, feature_length, target_length, target_offset, rmse_train, rmse_test):\n",
    "    with open(FILE_NAME, 'a') as f:\n",
    "        result = \", \".join(map(str, list([id, series_name , mixed , feature_length , target_length , target_offset , rmse_train , rmse_test])))\n",
    "        print(result, file=f)"
   ]
  },
  {
   "cell_type": "code",
   "execution_count": 6,
   "metadata": {},
   "outputs": [],
   "source": [
    "def showExperiment(ID, mixed, series, series_name, Y_train, Y_test, Yhat_train, Yhat_test, Yhat_series, rmse_train, rmse_test):\n",
    "    plt.figure(figsize=(30,10))\n",
    "    plt.subplot(311)\n",
    "    plt.margins(0.05)\n",
    "    plt.plot(series)\n",
    "    plt.plot(Yhat_series)\n",
    "    plt.legend([\"True\", \"Predicted\"])\n",
    "    plt.title(\"Series: \"+ series_name+\" (Random Sampling=\"+str(mixed)+\")\")\n",
    "\n",
    "    plt.subplot(323)\n",
    "    plt.margins(0.05)\n",
    "    plt.plot(Y_train)\n",
    "    plt.plot(Yhat_train)\n",
    "    plt.legend([\"True\", \"Predicted\"])\n",
    "    plt.title(\"RMSE Train: \"+ str(rmse_train))\n",
    "\n",
    "    plt.subplot(324)\n",
    "    plt.margins(0.05)\n",
    "    plt.plot(Y_test)\n",
    "    plt.plot(Yhat_test)\n",
    "    plt.legend([\"True\", \"Predicted\"])\n",
    "    plt.title(\"RMSE Test: \"+ str(rmse_test))\n",
    "\n",
    "    plt.subplot(325)\n",
    "    plt.margins(0.05)\n",
    "    plt.plot(abs(Y_train - Yhat_train))\n",
    "    plt.legend([\"Residuals\"])\n",
    "    plt.title(\"Train\")\n",
    "\n",
    "    plt.subplot(326)\n",
    "    plt.margins(0.05)\n",
    "    plt.plot(abs(Y_test - Yhat_test))\n",
    "    plt.legend([\"Residuals\"])\n",
    "    plt.title(\"Test\")\n",
    "\n",
    "    plt.subplots_adjust(left=0.1,\n",
    "                    bottom=0.1,\n",
    "                    right=0.9,\n",
    "                    top=0.9,\n",
    "                    wspace=0.4,\n",
    "                    hspace=0.4)\n",
    "    plt.savefig(DIR+str(ID)+\".png\", transparent=True)"
   ]
  },
  {
   "cell_type": "markdown",
   "metadata": {},
   "source": [
    "# Linear Regression"
   ]
  },
  {
   "cell_type": "code",
   "execution_count": 7,
   "metadata": {},
   "outputs": [],
   "source": [
    "from src.models.regressor.linear_regression import Model_LinearRegression"
   ]
  },
  {
   "cell_type": "code",
   "execution_count": 8,
   "metadata": {},
   "outputs": [],
   "source": [
    "def executeLinearRegression(X_train, X_test, Y_train, Y_test):\n",
    "    model_linear_regression = Model_LinearRegression(error_fun=RMSE_Loss)\n",
    "    yhat_train = model_linear_regression.__train__(X_train=X_train, Y_train=Y_train)\n",
    "    rmse_train = model_linear_regression.__get_error_train__()\n",
    "\n",
    "    yhat_test = model_linear_regression.__test__(X_test=X_test, Y_test=Y_test)\n",
    "    rmse_test = model_linear_regression.__get_error_test__()\n",
    "\n",
    "    yhat_series = model_linear_regression.__test__(X_test=np.concatenate((X_train, X_test), axis=0), Y_test=np.concatenate((Y_train, Y_test), axis=0))\n",
    "    return rmse_train, rmse_test, yhat_train, yhat_test, yhat_series"
   ]
  },
  {
   "cell_type": "code",
   "execution_count": 9,
   "metadata": {},
   "outputs": [],
   "source": [
    "def PipelineLinearRegression():\n",
    "    synthetic_dataset_test_suite = TestSuite()\n",
    "\n",
    "    synthetic_datasets =  synthetic_dataset_test_suite.__get_test_suite_size__()\n",
    "    \n",
    "    mixed = [True, False]\n",
    "    feature_length = [1, 2, 3, 4, 5]\n",
    "    target_offset = [1, 2, 3, 4, 5]\n",
    "    target_length = [1]\n",
    "\n",
    "    ID = 0\n",
    "    print(\"\\t{}\\t{}\\t{}\\t{}\\t{}\\t{}\\t{}\".format(\"ID\", \"Series\", \"Mixed\", \"Autoregressive Variables\", \"Target Length\", \"Target Offset\", \"RMSE Train\", \"RMSE Test\"))\n",
    "    for index in range(synthetic_datasets):\n",
    "        series = synthetic_dataset_test_suite.__get_numpy_test_series_from_index__(index)\n",
    "        for ind_mixed in mixed:\n",
    "            for ind_feature in feature_length:\n",
    "                for ind_offset in target_offset:\n",
    "                    for ind_target in target_length:\n",
    "                        X_train, X_test, Y_train, Y_test = synthetic_dataset_test_suite.__train_and_test_from_numpy_series__(\n",
    "                            transform=min_max_transform,\n",
    "                            series=series,\n",
    "                            mixed=ind_mixed,\n",
    "                            feature_length=ind_feature,\n",
    "                            offset=ind_offset,\n",
    "                            target_length=ind_target,\n",
    "                            tensor = False\n",
    "                        )\n",
    "                        rmse_train, rmse_test, yhat_train, yhat_test, yhat_series = executeLinearRegression(X_train=X_train, X_test=X_test, Y_train=Y_train, Y_test=Y_test)\n",
    "                        outputExperiment(\n",
    "                            ID,\n",
    "                            synthetic_dataset_test_suite.__get_name_test_series_from_index__(index),\n",
    "                            ind_mixed,\n",
    "                            ind_feature,\n",
    "                            ind_offset,\n",
    "                            ind_target,\n",
    "                            rmse_train,\n",
    "                            rmse_test\n",
    "                        )\n",
    "                        showExperiment(\n",
    "                            ID,\n",
    "                            ind_mixed,\n",
    "                            np.concatenate((Y_train, Y_test), axis=0),\n",
    "                            synthetic_dataset_test_suite.__get_name_test_series_from_index__(index),\n",
    "                            Y_train,\n",
    "                            Y_test,\n",
    "                            yhat_train,\n",
    "                            yhat_test,\n",
    "                            yhat_series,\n",
    "                            rmse_train,\n",
    "                            rmse_test\n",
    "                        )\n",
    "                        ID += 1\n",
    "    "
   ]
  },
  {
   "cell_type": "code",
   "execution_count": 10,
   "metadata": {},
   "outputs": [
    {
     "name": "stdout",
     "output_type": "stream",
     "text": [
      "\tID\tSeries\tMixed\tAutoregressive Variables\tTarget Length\tTarget Offset\tRMSE Train\n"
     ]
    },
    {
     "ename": "AttributeError",
     "evalue": "'TestSuite' object has no attribute '__train_and_test_from_numpy_series__'",
     "output_type": "error",
     "traceback": [
      "\u001b[1;31m---------------------------------------------------------------------------\u001b[0m",
      "\u001b[1;31mAttributeError\u001b[0m                            Traceback (most recent call last)",
      "\u001b[1;32mc:\\Users\\coral\\Dev\\forecasting-framework\\forecasting-framework\\ar_linear_regression.ipynb Cell 11\u001b[0m line \u001b[0;36m1\n\u001b[1;32m----> <a href='vscode-notebook-cell:/c%3A/Users/coral/Dev/forecasting-framework/forecasting-framework/ar_linear_regression.ipynb#X13sZmlsZQ%3D%3D?line=0'>1</a>\u001b[0m PipelineLinearRegression()\n",
      "\u001b[1;32mc:\\Users\\coral\\Dev\\forecasting-framework\\forecasting-framework\\ar_linear_regression.ipynb Cell 11\u001b[0m line \u001b[0;36m1\n\u001b[0;32m     <a href='vscode-notebook-cell:/c%3A/Users/coral/Dev/forecasting-framework/forecasting-framework/ar_linear_regression.ipynb#X13sZmlsZQ%3D%3D?line=16'>17</a>\u001b[0m \u001b[39mfor\u001b[39;00m ind_offset \u001b[39min\u001b[39;00m target_offset:\n\u001b[0;32m     <a href='vscode-notebook-cell:/c%3A/Users/coral/Dev/forecasting-framework/forecasting-framework/ar_linear_regression.ipynb#X13sZmlsZQ%3D%3D?line=17'>18</a>\u001b[0m     \u001b[39mfor\u001b[39;00m ind_target \u001b[39min\u001b[39;00m target_length:\n\u001b[1;32m---> <a href='vscode-notebook-cell:/c%3A/Users/coral/Dev/forecasting-framework/forecasting-framework/ar_linear_regression.ipynb#X13sZmlsZQ%3D%3D?line=18'>19</a>\u001b[0m         X_train, X_test, Y_train, Y_test \u001b[39m=\u001b[39m synthetic_dataset_test_suite\u001b[39m.\u001b[39;49m__train_and_test_from_numpy_series__(\n\u001b[0;32m     <a href='vscode-notebook-cell:/c%3A/Users/coral/Dev/forecasting-framework/forecasting-framework/ar_linear_regression.ipynb#X13sZmlsZQ%3D%3D?line=19'>20</a>\u001b[0m             transform\u001b[39m=\u001b[39mmin_max_transform,\n\u001b[0;32m     <a href='vscode-notebook-cell:/c%3A/Users/coral/Dev/forecasting-framework/forecasting-framework/ar_linear_regression.ipynb#X13sZmlsZQ%3D%3D?line=20'>21</a>\u001b[0m             series\u001b[39m=\u001b[39mseries,\n\u001b[0;32m     <a href='vscode-notebook-cell:/c%3A/Users/coral/Dev/forecasting-framework/forecasting-framework/ar_linear_regression.ipynb#X13sZmlsZQ%3D%3D?line=21'>22</a>\u001b[0m             mixed\u001b[39m=\u001b[39mind_mixed,\n\u001b[0;32m     <a href='vscode-notebook-cell:/c%3A/Users/coral/Dev/forecasting-framework/forecasting-framework/ar_linear_regression.ipynb#X13sZmlsZQ%3D%3D?line=22'>23</a>\u001b[0m             feature_length\u001b[39m=\u001b[39mind_feature,\n\u001b[0;32m     <a href='vscode-notebook-cell:/c%3A/Users/coral/Dev/forecasting-framework/forecasting-framework/ar_linear_regression.ipynb#X13sZmlsZQ%3D%3D?line=23'>24</a>\u001b[0m             offset\u001b[39m=\u001b[39mind_offset,\n\u001b[0;32m     <a href='vscode-notebook-cell:/c%3A/Users/coral/Dev/forecasting-framework/forecasting-framework/ar_linear_regression.ipynb#X13sZmlsZQ%3D%3D?line=24'>25</a>\u001b[0m             target_length\u001b[39m=\u001b[39mind_target,\n\u001b[0;32m     <a href='vscode-notebook-cell:/c%3A/Users/coral/Dev/forecasting-framework/forecasting-framework/ar_linear_regression.ipynb#X13sZmlsZQ%3D%3D?line=25'>26</a>\u001b[0m             tensor \u001b[39m=\u001b[39m \u001b[39mFalse\u001b[39;00m\n\u001b[0;32m     <a href='vscode-notebook-cell:/c%3A/Users/coral/Dev/forecasting-framework/forecasting-framework/ar_linear_regression.ipynb#X13sZmlsZQ%3D%3D?line=26'>27</a>\u001b[0m         )\n\u001b[0;32m     <a href='vscode-notebook-cell:/c%3A/Users/coral/Dev/forecasting-framework/forecasting-framework/ar_linear_regression.ipynb#X13sZmlsZQ%3D%3D?line=27'>28</a>\u001b[0m         rmse_train, rmse_test, yhat_train, yhat_test, yhat_series \u001b[39m=\u001b[39m executeLinearRegression(X_train\u001b[39m=\u001b[39mX_train, X_test\u001b[39m=\u001b[39mX_test, Y_train\u001b[39m=\u001b[39mY_train, Y_test\u001b[39m=\u001b[39mY_test)\n\u001b[0;32m     <a href='vscode-notebook-cell:/c%3A/Users/coral/Dev/forecasting-framework/forecasting-framework/ar_linear_regression.ipynb#X13sZmlsZQ%3D%3D?line=28'>29</a>\u001b[0m         outputExperiment(\n\u001b[0;32m     <a href='vscode-notebook-cell:/c%3A/Users/coral/Dev/forecasting-framework/forecasting-framework/ar_linear_regression.ipynb#X13sZmlsZQ%3D%3D?line=29'>30</a>\u001b[0m             ID,\n\u001b[0;32m     <a href='vscode-notebook-cell:/c%3A/Users/coral/Dev/forecasting-framework/forecasting-framework/ar_linear_regression.ipynb#X13sZmlsZQ%3D%3D?line=30'>31</a>\u001b[0m             synthetic_dataset_test_suite\u001b[39m.\u001b[39m__get_name_test_series_from_index__(index),\n\u001b[1;32m   (...)\u001b[0m\n\u001b[0;32m     <a href='vscode-notebook-cell:/c%3A/Users/coral/Dev/forecasting-framework/forecasting-framework/ar_linear_regression.ipynb#X13sZmlsZQ%3D%3D?line=36'>37</a>\u001b[0m             rmse_test\n\u001b[0;32m     <a href='vscode-notebook-cell:/c%3A/Users/coral/Dev/forecasting-framework/forecasting-framework/ar_linear_regression.ipynb#X13sZmlsZQ%3D%3D?line=37'>38</a>\u001b[0m         )\n",
      "\u001b[1;31mAttributeError\u001b[0m: 'TestSuite' object has no attribute '__train_and_test_from_numpy_series__'"
     ]
    }
   ],
   "source": [
    "PipelineLinearRegression()"
   ]
  },
  {
   "cell_type": "code",
   "execution_count": null,
   "metadata": {},
   "outputs": [],
   "source": [
    "from cross_validation.regressor.linear_regression import KFoldCrossValidation_LinearRegression"
   ]
  },
  {
   "cell_type": "code",
   "execution_count": null,
   "metadata": {},
   "outputs": [],
   "source": [
    "synthetic_dataset_test_suite = TestSuite()\n",
    "cv_linear_regression = KFoldCrossValidation_LinearRegression(\n",
    "    series = synthetic_dataset_test_suite.__get_numpy_test_series_from_index__(6),\n",
    "    loss = RMSE_Loss,\n",
    "    one_step_offset_target= 5\n",
    ")\n",
    "cross_validation_param = {\n",
    "    \"features_length\": np.arange(1, 20, 1).tolist()\n",
    "}\n",
    "params, model = cv_linear_regression.search(cross_validation_param)"
   ]
  },
  {
   "cell_type": "code",
   "execution_count": null,
   "metadata": {},
   "outputs": [],
   "source": [
    "params"
   ]
  },
  {
   "cell_type": "code",
   "execution_count": null,
   "metadata": {},
   "outputs": [],
   "source": [
    "model"
   ]
  },
  {
   "cell_type": "code",
   "execution_count": null,
   "metadata": {},
   "outputs": [],
   "source": [
    "_, X_test, _, Y_test = synthetic_dataset_test_suite.__train_and_test_from_numpy_series__(\n",
    "    transform=min_max_transform,\n",
    "    series=synthetic_dataset_test_suite.__get_numpy_test_series_from_index__(6),\n",
    "    mixed=False,\n",
    "    feature_length=params[\"features_length\"],\n",
    "    offset=1,\n",
    "    target_length=1\n",
    ")"
   ]
  },
  {
   "cell_type": "code",
   "execution_count": null,
   "metadata": {},
   "outputs": [],
   "source": [
    "yhat = model.__test__(X_test, Y_test)"
   ]
  },
  {
   "cell_type": "code",
   "execution_count": null,
   "metadata": {},
   "outputs": [],
   "source": [
    "plt.plot(Y_test)\n",
    "plt.plot(yhat)"
   ]
  }
 ],
 "metadata": {
  "kernelspec": {
   "display_name": "Python 3.8.8 ('base')",
   "language": "python",
   "name": "python3"
  },
  "language_info": {
   "codemirror_mode": {
    "name": "ipython",
    "version": 3
   },
   "file_extension": ".py",
   "mimetype": "text/x-python",
   "name": "python",
   "nbconvert_exporter": "python",
   "pygments_lexer": "ipython3",
   "version": "3.10.11"
  },
  "orig_nbformat": 4,
  "vscode": {
   "interpreter": {
    "hash": "297f1ab228ac72a1e88da0398af00a5916b3f38386a88425b941448740147c06"
   }
  }
 },
 "nbformat": 4,
 "nbformat_minor": 2
}
