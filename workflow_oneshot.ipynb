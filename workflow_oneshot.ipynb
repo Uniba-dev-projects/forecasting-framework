{
 "cells": [
  {
   "cell_type": "code",
   "execution_count": 1,
   "metadata": {},
   "outputs": [],
   "source": [
    "from test.util import TestSuite\n",
    "from src.util.goal import OneShotForecastingGoal\n",
    "\n",
    "goal = OneShotForecastingGoal(view=5)\n",
    "test_suite = TestSuite()\n",
    "series1 = test_suite.__get_numpy_test_series_from_index__(6)"
   ]
  },
  {
   "cell_type": "markdown",
   "metadata": {},
   "source": [
    "# Linear Regression"
   ]
  },
  {
   "cell_type": "code",
   "execution_count": 2,
   "metadata": {},
   "outputs": [],
   "source": [
    "\n",
    "from src.performer.transformer import MinMaxTransformer\n",
    "from src.util.evaluation import ForecastErrorEvaluation\n",
    "from src.util.parameters import ModelsIperParameters\n",
    "from src.validator.regressor.linear_regression import GridSearchKFoldCV_LinearRegression\n",
    "\n",
    "LINEAR_REGRESSION_IPER_PARAMETERS = ModelsIperParameters(\n",
    "    FEATURE_LENGTH=[5]\n",
    ")\n",
    "series = MinMaxTransformer.transform(series1)\n",
    "\n",
    "ERROR_PERFORMER = ForecastErrorEvaluation(goal = goal)\n",
    "forecast_view, forecast_offset = goal.options()\n",
    "\n",
    "grid_searcher = GridSearchKFoldCV_LinearRegression(\n",
    "    series = series,\n",
    "    target_length = forecast_view,\n",
    "    target_offset = forecast_offset,\n",
    "    kfolds = 10\n",
    ")\n",
    "grid_searcher.search(LINEAR_REGRESSION_IPER_PARAMETERS, ERROR_PERFORMER)\n",
    "loss, _, parameters, model = grid_searcher.get_best_params()"
   ]
  },
  {
   "cell_type": "code",
   "execution_count": 3,
   "metadata": {},
   "outputs": [
    {
     "data": {
      "text/plain": [
       "0.025187254"
      ]
     },
     "execution_count": 3,
     "metadata": {},
     "output_type": "execute_result"
    }
   ],
   "source": [
    "from src.performer.supervised_learning_performer import SlidingWindowPerformer\n",
    "from src.performer.train_test_performer import TrainTestPerformer\n",
    "\n",
    "\n",
    "SWP = SlidingWindowPerformer(\n",
    "    feature_length=5,\n",
    "    target_length=5,\n",
    "    target_offset=1\n",
    ")\n",
    "TTP = TrainTestPerformer(portion_train = 0.8, random_sampling = True)\n",
    "\n",
    "_, X, Y = SWP.get(series1)\n",
    "_, X_test, _, Y_test = TTP.get(X, Y)\n",
    "yhat_test = model.__test__(X_test)\n",
    "error_eval = ForecastErrorEvaluation(goal=goal)\n",
    "# yhat_test\n",
    "# Y_test\n",
    "error_eval.get(Y_test, yhat_test)"
   ]
  },
  {
   "cell_type": "markdown",
   "metadata": {},
   "source": [
    "# CNN"
   ]
  },
  {
   "cell_type": "code",
   "execution_count": 4,
   "metadata": {},
   "outputs": [],
   "source": [
    "from src.util.parameters import NeuralNetworkTrainingParameters\n",
    "from src.validator.nn.trainer import GridSearch_MultiLayerPerceptronNetwork\n",
    "\n",
    "\n",
    "MLP_IPER_PARAMETERS = ModelsIperParameters(\n",
    "    FEATURE_LENGTH = [5]\n",
    ")\n",
    "\n",
    "series = MinMaxTransformer.transform(series)\n",
    "\n",
    "ERROR_PERFORMER = ForecastErrorEvaluation(goal = goal)\n",
    "forecast_view, forecast_offset = goal.options()\n",
    "\n",
    "grid_searcher = GridSearch_MultiLayerPerceptronNetwork(\n",
    "    series = series,\n",
    "    target_length = forecast_view,\n",
    "    target_offset = forecast_offset,\n",
    "    training_parameters = NeuralNetworkTrainingParameters(EPOCHS = 900, EARLY_STOP = True, LEARNING_RATE = .001)\n",
    ")\n",
    "\n",
    "grid_searcher.search(MLP_IPER_PARAMETERS, ERROR_PERFORMER)\n",
    "loss, parameters, model = grid_searcher.get_best_params()"
   ]
  }
 ],
 "metadata": {
  "kernelspec": {
   "display_name": "Python 3.8.8 ('base')",
   "language": "python",
   "name": "python3"
  },
  "language_info": {
   "codemirror_mode": {
    "name": "ipython",
    "version": 3
   },
   "file_extension": ".py",
   "mimetype": "text/x-python",
   "name": "python",
   "nbconvert_exporter": "python",
   "pygments_lexer": "ipython3",
   "version": "3.10.11"
  },
  "orig_nbformat": 4,
  "vscode": {
   "interpreter": {
    "hash": "297f1ab228ac72a1e88da0398af00a5916b3f38386a88425b941448740147c06"
   }
  }
 },
 "nbformat": 4,
 "nbformat_minor": 2
}
