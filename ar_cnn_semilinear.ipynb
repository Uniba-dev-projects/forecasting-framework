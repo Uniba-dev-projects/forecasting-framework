{
 "cells": [
  {
   "cell_type": "code",
   "execution_count": 1,
   "metadata": {},
   "outputs": [],
   "source": [
    "import numpy as np\n",
    "import matplotlib.pyplot as plt\n",
    "from synthetic import TestSuite\n",
    "import torch"
   ]
  },
  {
   "cell_type": "code",
   "execution_count": 2,
   "metadata": {},
   "outputs": [],
   "source": [
    "def RMSE_Loss(actual, predicted):\n",
    "    \"\"\"Root Mean Squared Error\"\"\"\n",
    "    return torch.sqrt(torch.mean(torch.square(actual - predicted)))"
   ]
  },
  {
   "cell_type": "code",
   "execution_count": 3,
   "metadata": {},
   "outputs": [],
   "source": [
    "def min_max_transform(series):\n",
    "  series_temp = np.copy(series)\n",
    "  for i in range(len(series_temp)):\n",
    "    series_temp[i] = (series_temp[i] - np.max(series))/(np.max(series)-np.min(series)) + 1\n",
    "  return series_temp"
   ]
  },
  {
   "cell_type": "code",
   "execution_count": 4,
   "metadata": {},
   "outputs": [],
   "source": [
    "import os, shutil\n",
    "DIR=\"experiment_nn_cnn/\"\n",
    "FILE_NAME=DIR+\"/log.csv\"\n",
    "if os.path.exists(DIR): shutil.rmtree(DIR)\n",
    "if not os.path.exists(DIR): os.mkdir(DIR)"
   ]
  },
  {
   "cell_type": "code",
   "execution_count": 5,
   "metadata": {},
   "outputs": [],
   "source": [
    "def outputExperiment(id, series_name, mixed, feature_length, target_length, target_offset, rmse_train, rmse_test, epochs):\n",
    "    with open(FILE_NAME, 'a') as f:\n",
    "        result = \", \".join(map(str, list([id, series_name , mixed , feature_length , target_length , target_offset , rmse_train , rmse_test, epochs])))\n",
    "        print(result, file=f)"
   ]
  },
  {
   "cell_type": "code",
   "execution_count": 6,
   "metadata": {},
   "outputs": [],
   "source": [
    "def showExperiment(ID, mixed, series, series_name, Y_train, Y_test, Yhat_train, Yhat_test, Yhat_series, rmse_train, rmse_test):\n",
    "    plt.figure(figsize=(30,10))\n",
    "    plt.subplot(411)\n",
    "    plt.margins(0.05)\n",
    "    plt.plot(series)\n",
    "    plt.plot(Yhat_series)\n",
    "    plt.legend([\"True\", \"Predicted\"])\n",
    "    plt.title(\"Series: \"+ series_name+\" (Random Sampling=\"+str(mixed)+\")\")\n",
    "\n",
    "    plt.subplot(412)\n",
    "    plt.margins(0.05)\n",
    "    plt.plot(rmse_train)\n",
    "    plt.plot(rmse_test)\n",
    "    plt.legend([\"RMSE Train\", \"RMSE Test\"])\n",
    "    plt.title(\"RMSE Train: \"+ str(rmse_train[-1])+\"\\nRMSE Test: \"+ str(rmse_test[-1]))\n",
    "\n",
    "    plt.subplot(425)\n",
    "    plt.margins(0.05)\n",
    "    plt.plot(Y_train)\n",
    "    plt.plot(Yhat_train)\n",
    "    plt.legend([\"True\", \"Predicted\"])\n",
    "    plt.title(\"Train\")\n",
    "\n",
    "    plt.subplot(426)\n",
    "    plt.margins(0.05)\n",
    "    plt.plot(Y_test)\n",
    "    plt.plot(Yhat_test)\n",
    "    plt.legend([\"True\", \"Predicted\"])\n",
    "    plt.title(\"Test\")\n",
    "\n",
    "    plt.subplot(427)\n",
    "    plt.margins(0.05)\n",
    "    plt.plot(abs(Y_train - Yhat_train))\n",
    "    plt.legend([\"Residuals\"])\n",
    "    plt.title(\"Train\")\n",
    "\n",
    "    plt.subplot(428)\n",
    "    plt.margins(0.05)\n",
    "    plt.plot(abs(Y_test - Yhat_test))\n",
    "    plt.legend([\"Residuals\"])\n",
    "    plt.title(\"Test\")\n",
    "\n",
    "    plt.subplots_adjust(left=0.1,\n",
    "                    bottom=0.1,\n",
    "                    right=0.9,\n",
    "                    top=0.9,\n",
    "                    wspace=0.4,\n",
    "                    hspace=0.4)\n",
    "    plt.savefig(DIR+str(ID)+\".png\", transparent=True)"
   ]
  },
  {
   "cell_type": "markdown",
   "metadata": {},
   "source": [
    "# Convolutional Semilinear Neural Network"
   ]
  },
  {
   "cell_type": "code",
   "execution_count": 7,
   "metadata": {},
   "outputs": [],
   "source": [
    "from src.models.nn import Model_ConvolutionalSemilinearNN"
   ]
  },
  {
   "cell_type": "code",
   "execution_count": 8,
   "metadata": {},
   "outputs": [],
   "source": [
    "def executeNN(X_train, X_test, Y_train, Y_test):\n",
    "    model_nn_cnn = Model_ConvolutionalSemilinearNN(error_fun=RMSE_Loss)\n",
    "    model_nn_cnn.__train__(X_train=X_train, Y_train=Y_train, X_test=X_test, Y_test=Y_test)\n",
    "\n",
    "    rmse_train = model_nn_cnn.__get_error_train__()\n",
    "    rmse_test = model_nn_cnn.__get_error_test__()\n",
    "\n",
    "    yhat_train = model_nn_cnn.__get_yhat_train__()\n",
    "    yhat_test = model_nn_cnn.__get_yhat_test__()\n",
    "\n",
    "    X_series, Y_series = np.concatenate((X_train, X_test), axis=0), np.concatenate((Y_train, Y_test), axis=0)\n",
    "    X_series, Y_series = torch.tensor(X_series, dtype=torch.float32), torch.tensor(Y_series, dtype=torch.float32)\n",
    "    model_nn_cnn.__test__(X_test=X_series, Y_test=Y_series)\n",
    "    yhat_series = model_nn_cnn.__get_yhat_test__()\n",
    "    \n",
    "    return rmse_train, rmse_test, yhat_train, yhat_test, yhat_series, model_nn_cnn.epochs"
   ]
  },
  {
   "cell_type": "code",
   "execution_count": 9,
   "metadata": {},
   "outputs": [],
   "source": [
    "def PipelineNN():\n",
    "    synthetic_dataset_test_suite = TestSuite()\n",
    "\n",
    "    synthetic_datasets =  synthetic_dataset_test_suite.__get_test_suite_size__()\n",
    "    \n",
    "    mixed = [True, False]\n",
    "    feature_length = [1, 2, 3, 4, 5]\n",
    "    target_offset = [1, 2, 3, 4, 5]\n",
    "    target_length = [1]\n",
    "\n",
    "    ID = 0\n",
    "    print(\"\\t{}\\t{}\\t{}\\t{}\\t{}\\t{}\\t{}\".format(\"ID\", \"Series\", \"Mixed\", \"Autoregressive Variables\", \"Target Length\", \"Target Offset\", \"RMSE Train\", \"RMSE Test\", \"EPOCHS\"))\n",
    "    for index in range(synthetic_datasets):\n",
    "        series = synthetic_dataset_test_suite.__get_numpy_test_series_from_index__(index)\n",
    "        for ind_mixed in mixed:\n",
    "            for ind_feature in feature_length:\n",
    "                for ind_offset in target_offset:\n",
    "                    for ind_target in target_length:\n",
    "                        X_train, X_test, Y_train, Y_test = synthetic_dataset_test_suite.__train_and_test_from_numpy_series__(\n",
    "                            transform=min_max_transform,\n",
    "                            series=series,\n",
    "                            mixed=ind_mixed,\n",
    "                            feature_length=ind_feature,\n",
    "                            offset=ind_offset,\n",
    "                            target_length=ind_target,\n",
    "                            tensor = True\n",
    "                        )\n",
    "                        rmse_train, rmse_test, yhat_train, yhat_test, yhat_series, epochs = executeNN(X_train=X_train, X_test=X_test, Y_train=Y_train, Y_test=Y_test)\n",
    "                        outputExperiment(\n",
    "                            ID,\n",
    "                            synthetic_dataset_test_suite.__get_name_test_series_from_index__(index),\n",
    "                            ind_mixed,\n",
    "                            ind_feature,\n",
    "                            ind_offset,\n",
    "                            ind_target,\n",
    "                            rmse_train[-1],\n",
    "                            rmse_test[-1],\n",
    "                            epochs\n",
    "                        )\n",
    "                        showExperiment(\n",
    "                            ID,\n",
    "                            ind_mixed,\n",
    "                            np.concatenate((Y_train, Y_test), axis=0),\n",
    "                            synthetic_dataset_test_suite.__get_name_test_series_from_index__(index),\n",
    "                            Y_train.detach().numpy(),\n",
    "                            Y_test.detach().numpy(),\n",
    "                            yhat_train.detach().numpy(),\n",
    "                            yhat_test.detach().numpy(),\n",
    "                            yhat_series.detach().numpy(),\n",
    "                            rmse_train,\n",
    "                            rmse_test\n",
    "                        )\n",
    "                        ID += 1\n",
    "    "
   ]
  },
  {
   "cell_type": "code",
   "execution_count": 10,
   "metadata": {},
   "outputs": [],
   "source": [
    "# PipelineNN()"
   ]
  },
  {
   "cell_type": "code",
   "execution_count": 11,
   "metadata": {},
   "outputs": [],
   "source": [
    "from cross_validation.nn.cnn import KFoldCrossValidation_ConvolutionalSemilinearNN"
   ]
  },
  {
   "cell_type": "code",
   "execution_count": null,
   "metadata": {},
   "outputs": [],
   "source": [
    "synthetic_dataset_test_suite = TestSuite()\n",
    "cv_cnn = KFoldCrossValidation_ConvolutionalSemilinearNN(\n",
    "    series = synthetic_dataset_test_suite.__get_numpy_test_series_from_index__(6),\n",
    "    loss = RMSE_Loss,\n",
    "    one_step_offset_target= 5\n",
    ")\n",
    "cross_validation_param = {\n",
    "    \"features_length\": [10],\n",
    "    \"semilinear_layers\": [2, 6],\n",
    "    \"neurons_decision_making\": [256],\n",
    "    \"dropout\": [0.5],\n",
    "    \"options\": {\n",
    "        \"tensor\": True\n",
    "    }\n",
    "}\n",
    "params, model = cv_cnn.search(cross_validation_param)"
   ]
  },
  {
   "cell_type": "code",
   "execution_count": 13,
   "metadata": {},
   "outputs": [
    {
     "data": {
      "text/plain": [
       "{'features_length': 10,\n",
       " 'semilinear_layers': 2,\n",
       " 'neurons_decision_making': 256,\n",
       " 'dropout': 0.5}"
      ]
     },
     "execution_count": 13,
     "metadata": {},
     "output_type": "execute_result"
    }
   ],
   "source": [
    "params"
   ]
  },
  {
   "cell_type": "code",
   "execution_count": 14,
   "metadata": {},
   "outputs": [
    {
     "data": {
      "text/plain": [
       "<models.nn.cnn.Model_ConvolutionalSemilinearNN at 0x26756114610>"
      ]
     },
     "execution_count": 14,
     "metadata": {},
     "output_type": "execute_result"
    }
   ],
   "source": [
    "model"
   ]
  },
  {
   "cell_type": "code",
   "execution_count": 15,
   "metadata": {},
   "outputs": [],
   "source": [
    "_, X_test, _, Y_test = synthetic_dataset_test_suite.__train_and_test_from_numpy_series__(\n",
    "    transform=min_max_transform,\n",
    "    series=synthetic_dataset_test_suite.__get_numpy_test_series_from_index__(6),\n",
    "    mixed=False,\n",
    "    feature_length=params[\"features_length\"],\n",
    "    offset=5,\n",
    "    target_length=1\n",
    ")"
   ]
  },
  {
   "cell_type": "code",
   "execution_count": 16,
   "metadata": {},
   "outputs": [],
   "source": [
    "model.__test__(torch.tensor(X_test, dtype=torch.float32), torch.tensor(X_test, dtype=torch.float32))\n",
    "yhat = model.__get_yhat_test__()"
   ]
  },
  {
   "cell_type": "code",
   "execution_count": 17,
   "metadata": {},
   "outputs": [
    {
     "data": {
      "text/plain": [
       "[<matplotlib.lines.Line2D at 0x26767aeb610>]"
      ]
     },
     "execution_count": 17,
     "metadata": {},
     "output_type": "execute_result"
    },
    {
     "data": {
      "image/png": "[encoded data removed]",
      "text/plain": [
       "<Figure size 640x480 with 1 Axes>"
      ]
     },
     "metadata": {},
     "output_type": "display_data"
    }
   ],
   "source": [
    "plt.plot(Y_test)\n",
    "plt.plot(yhat)"
   ]
  }
 ],
 "metadata": {
  "kernelspec": {
   "display_name": "Python 3.8.8 ('base')",
   "language": "python",
   "name": "python3"
  },
  "language_info": {
   "codemirror_mode": {
    "name": "ipython",
    "version": 3
   },
   "file_extension": ".py",
   "mimetype": "text/x-python",
   "name": "python",
   "nbconvert_exporter": "python",
   "pygments_lexer": "ipython3",
   "version": "3.8.8"
  },
  "orig_nbformat": 4,
  "vscode": {
   "interpreter": {
    "hash": "297f1ab228ac72a1e88da0398af00a5916b3f38386a88425b941448740147c06"
   }
  }
 },
 "nbformat": 4,
 "nbformat_minor": 2
}
