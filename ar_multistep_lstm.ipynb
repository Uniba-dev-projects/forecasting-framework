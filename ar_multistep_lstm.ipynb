{
 "cells": [
  {
   "cell_type": "code",
   "execution_count": 1,
   "metadata": {},
   "outputs": [],
   "source": [
    "import numpy as np\n",
    "import matplotlib.pyplot as plt\n",
    "from synthetic import TestSuite\n",
    "from src.models.nn import Model_LSTM\n",
    "import torch\n",
    "\n",
    "def RMSE_Loss(actual, predicted):\n",
    "    \"\"\"Root Mean Squared Error\"\"\"\n",
    "    return torch.sqrt(torch.mean(torch.square(actual - predicted)))\n",
    "\n",
    "def min_max_transform(series):\n",
    "  series_temp = np.copy(series)\n",
    "  for i in range(len(series_temp)):\n",
    "    series_temp[i] = (series_temp[i] - np.max(series))/(np.max(series)-np.min(series)) + 1\n",
    "  return series_temp\n",
    "\n",
    "import os, shutil\n",
    "DIR=\"experiment_nn_lstm/\"\n",
    "FILE_NAME=DIR+\"/log.csv\"\n",
    "if os.path.exists(DIR): shutil.rmtree(DIR)\n",
    "if not os.path.exists(DIR): os.mkdir(DIR)"
   ]
  },
  {
   "cell_type": "code",
   "execution_count": 2,
   "metadata": {},
   "outputs": [],
   "source": [
    "def executeNN(X_train, X_test, Y_train, Y_test):\n",
    "    model_nn_lstm = Model_LSTM(error_fun=RMSE_Loss)\n",
    "    model_nn_lstm.__train__(X_train=X_train, Y_train=Y_train, X_test=X_test, Y_test=Y_test)\n",
    "\n",
    "    rmse_train = model_nn_lstm.__get_error_train__()\n",
    "    rmse_test = model_nn_lstm.__get_error_test__()\n",
    "\n",
    "    yhat_train = model_nn_lstm.__get_yhat_train__()\n",
    "    yhat_test = model_nn_lstm.__get_yhat_test__()\n",
    "\n",
    "    X_series, Y_series = np.concatenate((X_train, X_test), axis=0), np.concatenate((Y_train, Y_test), axis=0)\n",
    "    X_series, Y_series = torch.tensor(X_series, dtype=torch.float32), torch.tensor(Y_series, dtype=torch.float32)\n",
    "    model_nn_lstm.__test__(X_test=X_series, Y_test=Y_series)\n",
    "    yhat_series = model_nn_lstm.__get_yhat_test__()\n",
    "    \n",
    "    return rmse_train, rmse_test, yhat_train, yhat_test, yhat_series, model_nn_lstm.epochs, model_nn_lstm.model"
   ]
  },
  {
   "cell_type": "code",
   "execution_count": 3,
   "metadata": {},
   "outputs": [
    {
     "name": "stdout",
     "output_type": "stream",
     "text": [
      "EPOCH 50\n",
      "EPOCH 100\n",
      "EPOCH 150\n",
      "EPOCH 200\n",
      "EPOCH 250\n",
      "EPOCH 300\n"
     ]
    }
   ],
   "source": [
    "synthetic_dataset_test_suite = TestSuite()\n",
    "series = synthetic_dataset_test_suite.__get_numpy_test_series_from_index__((6))\n",
    "X_train, X_test, Y_train, Y_test = synthetic_dataset_test_suite.__train_and_test_from_numpy_series__(\n",
    "    transform=min_max_transform,\n",
    "    series=series,\n",
    "    mixed=False,\n",
    "    feature_length=10,\n",
    "    offset=10,\n",
    "    target_length=5,\n",
    "    tensor = True\n",
    ")\n",
    "rmse_train, rmse_test, yhat_train, yhat_test, yhat_series, epochs, model = executeNN(X_train=X_train, X_test=X_test, Y_train=Y_train, Y_test=Y_test)"
   ]
  },
  {
   "cell_type": "code",
   "execution_count": 4,
   "metadata": {},
   "outputs": [
    {
     "data": {
      "text/plain": [
       "[<matplotlib.lines.Line2D at 0x1efdd132100>]"
      ]
     },
     "execution_count": 4,
     "metadata": {},
     "output_type": "execute_result"
    },
    {
     "data": {
      "image/png": "[encoded data removed]",
      "text/plain": [
       "<Figure size 432x288 with 1 Axes>"
      ]
     },
     "metadata": {
      "needs_background": "light"
     },
     "output_type": "display_data"
    }
   ],
   "source": [
    "plt.plot(rmse_test)"
   ]
  },
  {
   "cell_type": "code",
   "execution_count": 5,
   "metadata": {},
   "outputs": [
    {
     "name": "stdout",
     "output_type": "stream",
     "text": [
      "0.07880693674087524\n"
     ]
    }
   ],
   "source": [
    "print(rmse_test[-1])"
   ]
  },
  {
   "cell_type": "code",
   "execution_count": 6,
   "metadata": {},
   "outputs": [],
   "source": [
    "# plt.plot(Y_test)\n",
    "# plt.plot(yhat_test.detach().numpy().flatten())"
   ]
  },
  {
   "cell_type": "code",
   "execution_count": 7,
   "metadata": {},
   "outputs": [],
   "source": [
    "# temp_X_test = X_test[0]\n",
    "# y_tests = []\n",
    "# for i in range(X_test.size()[0]):\n",
    "#     temp_X_test = temp_X_test.reshape(1, 4)\n",
    "#     yhat_test = model(temp_X_test)\n",
    "#     temp = temp_X_test.numpy()\n",
    "#     temp = np.append(temp, yhat_test.detach().numpy())\n",
    "#     temp = temp[1::]\n",
    "#     print(temp_X_test)\n",
    "#     temp_X_test = torch.tensor(temp)\n",
    "    \n",
    "#     y_tests.append(yhat_test.detach().numpy())\n",
    "# #     temp_X_test"
   ]
  },
  {
   "cell_type": "code",
   "execution_count": null,
   "metadata": {},
   "outputs": [],
   "source": []
  }
 ],
 "metadata": {
  "kernelspec": {
   "display_name": "Python 3.8.8 ('base')",
   "language": "python",
   "name": "python3"
  },
  "language_info": {
   "codemirror_mode": {
    "name": "ipython",
    "version": 3
   },
   "file_extension": ".py",
   "mimetype": "text/x-python",
   "name": "python",
   "nbconvert_exporter": "python",
   "pygments_lexer": "ipython3",
   "version": "3.8.8"
  },
  "orig_nbformat": 4,
  "vscode": {
   "interpreter": {
    "hash": "297f1ab228ac72a1e88da0398af00a5916b3f38386a88425b941448740147c06"
   }
  }
 },
 "nbformat": 4,
 "nbformat_minor": 2
}
