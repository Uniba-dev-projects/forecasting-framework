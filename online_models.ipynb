{
 "cells": [
  {
   "cell_type": "code",
   "execution_count": 1,
   "metadata": {},
   "outputs": [],
   "source": [
    "import pandas as pd\n",
    "import numpy as np\n",
    "import matplotlib.pyplot as plt\n",
    "import torch\n",
    "from torch import nn, optim\n",
    "\n",
    "from src.util import OneShotForecastingGoal\n",
    "from src.pipeline import Use_ARMultiLayerPerceptronNeuralNetwork\n",
    "from src.util import ForecastErrorEvaluation\n",
    "from src.performer import MinMaxTransformer"
   ]
  },
  {
   "cell_type": "code",
   "execution_count": 2,
   "metadata": {},
   "outputs": [],
   "source": [
    "input_sequence = 60"
   ]
  },
  {
   "cell_type": "code",
   "execution_count": 4,
   "metadata": {},
   "outputs": [
    {
     "name": "stdout",
     "output_type": "stream",
     "text": [
      "{'feature_length': 3}\n",
      "53    22760.0\n",
      "54     6900.0\n",
      "55     9820.0\n",
      "56    23200.0\n",
      "57    16410.0\n",
      "58    17520.0\n",
      "59     5170.0\n",
      "Name: SERIES1, dtype: float64\n"
     ]
    },
    {
     "ename": "ValueError",
     "evalue": "could not determine the shape of object type 'Series'",
     "output_type": "error",
     "traceback": [
      "\u001b[1;31m---------------------------------------------------------------------------\u001b[0m",
      "\u001b[1;31mValueError\u001b[0m                                Traceback (most recent call last)",
      "Cell \u001b[1;32mIn [4], line 17\u001b[0m\n\u001b[0;32m     15\u001b[0m model\u001b[39m.\u001b[39meval()\n\u001b[0;32m     16\u001b[0m \u001b[39mwith\u001b[39;00m torch\u001b[39m.\u001b[39mno_grad():\n\u001b[1;32m---> 17\u001b[0m     y \u001b[39m=\u001b[39m torch\u001b[39m.\u001b[39mtensor(test_series, dtype\u001b[39m=\u001b[39mtorch\u001b[39m.\u001b[39mfloat32)\n\u001b[0;32m     18\u001b[0m     yhat \u001b[39m=\u001b[39m model(y)\n\u001b[0;32m     19\u001b[0m     loss \u001b[39m=\u001b[39m FEE\u001b[39m.\u001b[39mget(y,yhat)\n",
      "\u001b[1;31mValueError\u001b[0m: could not determine the shape of object type 'Series'"
     ]
    }
   ],
   "source": [
    "df = pd.read_csv(\"datasets/CASHPOINT_ID_5.csv\")\n",
    "series = df.SERIES1\n",
    "goal = OneShotForecastingGoal(7)\n",
    "FEE = ForecastErrorEvaluation(goal)\n",
    "MMT = MinMaxTransformer()\n",
    "loss_trend = []\n",
    "iterations = series.count() - input_sequence\n",
    "for i in range(iterations):\n",
    "    inner_series = series[i:i+input_sequence]\n",
    "    train_series = inner_series[0:-7]\n",
    "    test_series = inner_series[-7::]\n",
    "\n",
    "    model, parameters, loss = Use_ARMultiLayerPerceptronNeuralNetwork().__execute__(inner_series, goal)\n",
    "    print(parameters)\n",
    "    print(test_series)\n",
    "    model.eval()\n",
    "    with torch.no_grad():\n",
    "        y = torch.tensor(test_series, dtype=torch.float32)\n",
    "        yhat = model(y)\n",
    "        loss = FEE.get(y,yhat)\n",
    "        print(loss)\n",
    "    # loss_trend.append(loss)\n",
    "    # print(loss)\n"
   ]
  }
 ],
 "metadata": {
  "kernelspec": {
   "display_name": "Python 3.10.6 ('corallo')",
   "language": "python",
   "name": "python3"
  },
  "language_info": {
   "codemirror_mode": {
    "name": "ipython",
    "version": 3
   },
   "file_extension": ".py",
   "mimetype": "text/x-python",
   "name": "python",
   "nbconvert_exporter": "python",
   "pygments_lexer": "ipython3",
   "version": "3.10.6"
  },
  "orig_nbformat": 4,
  "vscode": {
   "interpreter": {
    "hash": "5fb966db488763b0938e90de960ef38bf3da9de398ed6e07741cc20ac28fb258"
   }
  }
 },
 "nbformat": 4,
 "nbformat_minor": 2
}
