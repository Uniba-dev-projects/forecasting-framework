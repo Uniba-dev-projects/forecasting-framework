{
 "cells": [
  {
   "cell_type": "code",
   "execution_count": 8,
   "metadata": {},
   "outputs": [
    {
     "data": {
      "text/html": [
       "<div>\n",
       "<style scoped>\n",
       "    .dataframe tbody tr th:only-of-type {\n",
       "        vertical-align: middle;\n",
       "    }\n",
       "\n",
       "    .dataframe tbody tr th {\n",
       "        vertical-align: top;\n",
       "    }\n",
       "\n",
       "    .dataframe thead th {\n",
       "        text-align: right;\n",
       "    }\n",
       "</style>\n",
       "<table border=\"1\" class=\"dataframe\">\n",
       "  <thead>\n",
       "    <tr style=\"text-align: right;\">\n",
       "      <th></th>\n",
       "      <th>DT_REFERENCE</th>\n",
       "      <th>CASHPOINT_ID</th>\n",
       "      <th>QT_OUT</th>\n",
       "      <th>QT_IN_L4FIT</th>\n",
       "      <th>QT_IN_L4UNFIT</th>\n",
       "      <th>QT_RECYCLED</th>\n",
       "      <th>QT_L3</th>\n",
       "      <th>QT_L2</th>\n",
       "      <th>FL_MISSING</th>\n",
       "      <th>VA_DENOMINATION</th>\n",
       "      <th>CURRENCY_UNIT_ID</th>\n",
       "      <th>CO_CURRENCY</th>\n",
       "      <th>SUBGROUP</th>\n",
       "      <th>QT_CHARGE_IN</th>\n",
       "      <th>QT_CHARGE_OUT</th>\n",
       "    </tr>\n",
       "  </thead>\n",
       "  <tbody>\n",
       "    <tr>\n",
       "      <th>0</th>\n",
       "      <td>2021-07-16 00:00:00.000</td>\n",
       "      <td>2</td>\n",
       "      <td>2</td>\n",
       "      <td>0</td>\n",
       "      <td>0</td>\n",
       "      <td>0</td>\n",
       "      <td>0</td>\n",
       "      <td>0</td>\n",
       "      <td>0</td>\n",
       "      <td>20.0</td>\n",
       "      <td>3</td>\n",
       "      <td>EUR</td>\n",
       "      <td>1</td>\n",
       "      <td>162</td>\n",
       "      <td>164</td>\n",
       "    </tr>\n",
       "    <tr>\n",
       "      <th>1</th>\n",
       "      <td>2021-07-16 00:00:00.000</td>\n",
       "      <td>2</td>\n",
       "      <td>0</td>\n",
       "      <td>0</td>\n",
       "      <td>0</td>\n",
       "      <td>0</td>\n",
       "      <td>0</td>\n",
       "      <td>0</td>\n",
       "      <td>0</td>\n",
       "      <td>50.0</td>\n",
       "      <td>4</td>\n",
       "      <td>EUR</td>\n",
       "      <td>1</td>\n",
       "      <td>174</td>\n",
       "      <td>174</td>\n",
       "    </tr>\n",
       "    <tr>\n",
       "      <th>2</th>\n",
       "      <td>2021-07-19 00:00:00.000</td>\n",
       "      <td>2</td>\n",
       "      <td>1</td>\n",
       "      <td>0</td>\n",
       "      <td>0</td>\n",
       "      <td>0</td>\n",
       "      <td>0</td>\n",
       "      <td>0</td>\n",
       "      <td>0</td>\n",
       "      <td>20.0</td>\n",
       "      <td>3</td>\n",
       "      <td>EUR</td>\n",
       "      <td>1</td>\n",
       "      <td>0</td>\n",
       "      <td>0</td>\n",
       "    </tr>\n",
       "    <tr>\n",
       "      <th>3</th>\n",
       "      <td>2021-07-19 00:00:00.000</td>\n",
       "      <td>2</td>\n",
       "      <td>0</td>\n",
       "      <td>0</td>\n",
       "      <td>0</td>\n",
       "      <td>0</td>\n",
       "      <td>0</td>\n",
       "      <td>0</td>\n",
       "      <td>1</td>\n",
       "      <td>50.0</td>\n",
       "      <td>4</td>\n",
       "      <td>EUR</td>\n",
       "      <td>1</td>\n",
       "      <td>0</td>\n",
       "      <td>0</td>\n",
       "    </tr>\n",
       "    <tr>\n",
       "      <th>4</th>\n",
       "      <td>2021-07-22 00:00:00.000</td>\n",
       "      <td>2</td>\n",
       "      <td>0</td>\n",
       "      <td>0</td>\n",
       "      <td>0</td>\n",
       "      <td>0</td>\n",
       "      <td>0</td>\n",
       "      <td>0</td>\n",
       "      <td>0</td>\n",
       "      <td>20.0</td>\n",
       "      <td>3</td>\n",
       "      <td>EUR</td>\n",
       "      <td>1</td>\n",
       "      <td>0</td>\n",
       "      <td>80</td>\n",
       "    </tr>\n",
       "  </tbody>\n",
       "</table>\n",
       "</div>"
      ],
      "text/plain": [
       "              DT_REFERENCE  CASHPOINT_ID  QT_OUT  QT_IN_L4FIT  QT_IN_L4UNFIT  \\\n",
       "0  2021-07-16 00:00:00.000             2       2            0              0   \n",
       "1  2021-07-16 00:00:00.000             2       0            0              0   \n",
       "2  2021-07-19 00:00:00.000             2       1            0              0   \n",
       "3  2021-07-19 00:00:00.000             2       0            0              0   \n",
       "4  2021-07-22 00:00:00.000             2       0            0              0   \n",
       "\n",
       "   QT_RECYCLED  QT_L3  QT_L2  FL_MISSING  VA_DENOMINATION  CURRENCY_UNIT_ID  \\\n",
       "0            0      0      0           0             20.0                 3   \n",
       "1            0      0      0           0             50.0                 4   \n",
       "2            0      0      0           0             20.0                 3   \n",
       "3            0      0      0           1             50.0                 4   \n",
       "4            0      0      0           0             20.0                 3   \n",
       "\n",
       "  CO_CURRENCY  SUBGROUP  QT_CHARGE_IN  QT_CHARGE_OUT  \n",
       "0         EUR         1           162            164  \n",
       "1         EUR         1           174            174  \n",
       "2         EUR         1             0              0  \n",
       "3         EUR         1             0              0  \n",
       "4         EUR         1             0             80  "
      ]
     },
     "execution_count": 8,
     "metadata": {},
     "output_type": "execute_result"
    }
   ],
   "source": [
    "import pandas as pd\n",
    "dataset = pd.read_csv(\"./datasets/TBPR_HISTORICAL_MOVEMENTS_202211021157.csv\", sep=\";\")\n",
    "dataset.head()"
   ]
  },
  {
   "cell_type": "code",
   "execution_count": null,
   "metadata": {},
   "outputs": [],
   "source": [
    "CASH_POINT_ID = dataset.CASHPOINT_ID.unique()\n",
    "for cashPoint in CASH_POINT_ID:\n",
    "    dataset_temp = dataset[dataset.CASHPOINT_ID == cashPoint]\n",
    "    dataset_temp = dataset_temp.groupby(\"DT_REFERENCE\").sum()\n",
    "    print(\"------------------------------------------------------------------------------------------\")\n",
    "    print(cashPoint, \"\\n\")\n",
    "    print(dataset_temp.describe())\n",
    "    print(\"\\n\")\n"
   ]
  },
  {
   "cell_type": "markdown",
   "metadata": {},
   "source": [
    "# Viene scelto il cashpoint 4 per la sua cardinalità e per la varietà di banconote presenti"
   ]
  },
  {
   "cell_type": "code",
   "execution_count": null,
   "metadata": {},
   "outputs": [],
   "source": [
    "gretel = dataset[dataset.CASHPOINT_ID == 4]\n",
    "gretel.drop([\"CASHPOINT_ID\",\"QT_L3\",\"QT_L2\", \"CURRENCY_UNIT_ID\", \"CO_CURRENCY\", \"SUBGROUP\"], axis=1, inplace=True)"
   ]
  },
  {
   "cell_type": "code",
   "execution_count": null,
   "metadata": {},
   "outputs": [],
   "source": [
    "gretel.describe()"
   ]
  },
  {
   "cell_type": "markdown",
   "metadata": {},
   "source": [
    "# Trasformazione del dataset"
   ]
  },
  {
   "cell_type": "markdown",
   "metadata": {},
   "source": [
    "## Primo approccio"
   ]
  },
  {
   "cell_type": "code",
   "execution_count": null,
   "metadata": {},
   "outputs": [],
   "source": [
    "type_banconota = gretel.VA_DENOMINATION.unique()\n",
    "for i in type_banconota:\n",
    "    gretel[\"QT_OUT_\"+str(int(i))] = gretel[\"QT_OUT\"]\n",
    "    gretel[\"QT_IN_L4FIT_\"+str(int(i))] = gretel[\"QT_IN_L4FIT\"]\n",
    "    gretel[\"QT_IN_L4UNFIT_\"+str(int(i))] = gretel[\"QT_IN_L4UNFIT\"]\n",
    "    gretel[\"QT_RECYCLED_\"+str(int(i))] = gretel[\"QT_RECYCLED\"]\n",
    "    gretel[\"FL_MISSING_\"+str(int(i))] = gretel[\"FL_MISSING\"]\n",
    "    gretel[\"QT_CHARGE_IN_\"+str(int(i))] = gretel[\"QT_CHARGE_IN\"]\n",
    "    gretel[\"QT_CHARGE_OUT_\"+str(int(i))] = gretel[\"QT_CHARGE_OUT\"]\n",
    "gretel.drop([\"QT_OUT\",\"QT_IN_L4FIT\",\"QT_IN_L4UNFIT\", \"QT_RECYCLED\", \"FL_MISSING\", \"QT_CHARGE_IN\", \"QT_CHARGE_OUT\"], axis=1, inplace=True)"
   ]
  },
  {
   "cell_type": "code",
   "execution_count": null,
   "metadata": {},
   "outputs": [],
   "source": [
    "# cp5.loc[cp5.index == 330, \"VALUE_CHARGE_IN\"] = 0\n",
    "def procedure():\n",
    "    gretel.loc[gretel.VA_DENOMINATION == 20, \"QT_OUT_50\"] = 0\n",
    "    gretel.loc[gretel.VA_DENOMINATION == 20, \"QT_IN_L4FIT_50\"] = 0\n",
    "    gretel.loc[gretel.VA_DENOMINATION == 20, \"QT_IN_L4UNFIT_50\"] = 0\n",
    "    gretel.loc[gretel.VA_DENOMINATION == 20, \"QT_RECYCLED_50\"] = 0\n",
    "    gretel.loc[gretel.VA_DENOMINATION == 20, \"FL_MISSING_50\"] = 0\n",
    "    gretel.loc[gretel.VA_DENOMINATION == 20, \"QT_CHARGE_IN_50\"] = 0\n",
    "    gretel.loc[gretel.VA_DENOMINATION == 20, \"QT_CHARGE_OUT_50\"] = 0\n",
    "\n",
    "    gretel.loc[gretel.VA_DENOMINATION == 20, \"QT_OUT_10\"] = 0\n",
    "    gretel.loc[gretel.VA_DENOMINATION == 20, \"QT_IN_L4FIT_10\"] = 0\n",
    "    gretel.loc[gretel.VA_DENOMINATION == 20, \"QT_IN_L4UNFIT_10\"] = 0\n",
    "    gretel.loc[gretel.VA_DENOMINATION == 20, \"QT_RECYCLED_10\"] = 0\n",
    "    gretel.loc[gretel.VA_DENOMINATION == 20, \"FL_MISSING_10\"] = 0\n",
    "    gretel.loc[gretel.VA_DENOMINATION == 20, \"QT_CHARGE_IN_10\"] = 0\n",
    "    gretel.loc[gretel.VA_DENOMINATION == 20, \"QT_CHARGE_OUT_10\"] = 0\n",
    "\n",
    "    gretel.loc[gretel.VA_DENOMINATION == 20, \"QT_OUT_5\"] = 0\n",
    "    gretel.loc[gretel.VA_DENOMINATION == 20, \"QT_IN_L4FIT_5\"] = 0\n",
    "    gretel.loc[gretel.VA_DENOMINATION == 20, \"QT_IN_L4UNFIT_5\"] = 0\n",
    "    gretel.loc[gretel.VA_DENOMINATION == 20, \"QT_RECYCLED_5\"] = 0\n",
    "    gretel.loc[gretel.VA_DENOMINATION == 20, \"FL_MISSING_5\"] = 0\n",
    "    gretel.loc[gretel.VA_DENOMINATION == 20, \"QT_CHARGE_IN_5\"] = 0\n",
    "    gretel.loc[gretel.VA_DENOMINATION == 20, \"QT_CHARGE_OUT_5\"] = 0\n",
    "\n",
    "    gretel.loc[gretel.VA_DENOMINATION == 20, \"QT_OUT_100\"] = 0\n",
    "    gretel.loc[gretel.VA_DENOMINATION == 20, \"QT_IN_L4FIT_100\"] = 0\n",
    "    gretel.loc[gretel.VA_DENOMINATION == 20, \"QT_IN_L4UNFIT_100\"] = 0\n",
    "    gretel.loc[gretel.VA_DENOMINATION == 20, \"QT_RECYCLED_100\"] = 0\n",
    "    gretel.loc[gretel.VA_DENOMINATION == 20, \"FL_MISSING_100\"] = 0\n",
    "    gretel.loc[gretel.VA_DENOMINATION == 20, \"QT_CHARGE_IN_100\"] = 0\n",
    "    gretel.loc[gretel.VA_DENOMINATION == 20, \"QT_CHARGE_OUT_100\"] = 0\n",
    "\n",
    "    gretel.loc[gretel.VA_DENOMINATION == 20, \"QT_OUT_200\"] = 0\n",
    "    gretel.loc[gretel.VA_DENOMINATION == 20, \"QT_IN_L4FIT_200\"] = 0\n",
    "    gretel.loc[gretel.VA_DENOMINATION == 20, \"QT_IN_L4UNFIT_200\"] = 0\n",
    "    gretel.loc[gretel.VA_DENOMINATION == 20, \"QT_RECYCLED_200\"] = 0\n",
    "    gretel.loc[gretel.VA_DENOMINATION == 20, \"FL_MISSING_200\"] = 0\n",
    "    gretel.loc[gretel.VA_DENOMINATION == 20, \"QT_CHARGE_IN_200\"] = 0\n",
    "    gretel.loc[gretel.VA_DENOMINATION == 20, \"QT_CHARGE_OUT_200\"] = 0\n",
    "\n",
    "    gretel.loc[gretel.VA_DENOMINATION == 20, \"QT_OUT_500\"] = 0\n",
    "    gretel.loc[gretel.VA_DENOMINATION == 20, \"QT_IN_L4FIT_500\"] = 0\n",
    "    gretel.loc[gretel.VA_DENOMINATION == 20, \"QT_IN_L4UNFIT_500\"] = 0\n",
    "    gretel.loc[gretel.VA_DENOMINATION == 20, \"QT_RECYCLED_500\"] = 0\n",
    "    gretel.loc[gretel.VA_DENOMINATION == 20, \"FL_MISSING_500\"] = 0\n",
    "    gretel.loc[gretel.VA_DENOMINATION == 20, \"QT_CHARGE_IN_500\"] = 0\n",
    "    gretel.loc[gretel.VA_DENOMINATION == 20, \"QT_CHARGE_OUT_500\"] = 0\n",
    "        \n",
    "    gretel.loc[gretel.VA_DENOMINATION == 50, \"QT_OUT_20\"] = 0\n",
    "    gretel.loc[gretel.VA_DENOMINATION == 50, \"QT_IN_L4FIT_20\"] = 0\n",
    "    gretel.loc[gretel.VA_DENOMINATION == 50, \"QT_IN_L4UNFIT_20\"] = 0\n",
    "    gretel.loc[gretel.VA_DENOMINATION == 50, \"QT_RECYCLED_20\"] = 0\n",
    "    gretel.loc[gretel.VA_DENOMINATION == 50, \"FL_MISSING_20\"] = 0\n",
    "    gretel.loc[gretel.VA_DENOMINATION == 50, \"QT_CHARGE_IN_20\"] = 0\n",
    "    gretel.loc[gretel.VA_DENOMINATION == 50, \"QT_CHARGE_OUT_20\"] = 0\n",
    "\n",
    "    gretel.loc[gretel.VA_DENOMINATION == 50, \"QT_OUT_10\"] = 0\n",
    "    gretel.loc[gretel.VA_DENOMINATION == 50, \"QT_IN_L4FIT_10\"] = 0\n",
    "    gretel.loc[gretel.VA_DENOMINATION == 50, \"QT_IN_L4UNFIT_10\"] = 0\n",
    "    gretel.loc[gretel.VA_DENOMINATION == 50, \"QT_RECYCLED_10\"] = 0\n",
    "    gretel.loc[gretel.VA_DENOMINATION == 50, \"FL_MISSING_10\"] = 0\n",
    "    gretel.loc[gretel.VA_DENOMINATION == 50, \"QT_CHARGE_IN_10\"] = 0\n",
    "    gretel.loc[gretel.VA_DENOMINATION == 50, \"QT_CHARGE_OUT_10\"] = 0\n",
    "\n",
    "    gretel.loc[gretel.VA_DENOMINATION == 50, \"QT_OUT_5\"] = 0\n",
    "    gretel.loc[gretel.VA_DENOMINATION == 50, \"QT_IN_L4FIT_5\"] = 0\n",
    "    gretel.loc[gretel.VA_DENOMINATION == 50, \"QT_IN_L4UNFIT_5\"] = 0\n",
    "    gretel.loc[gretel.VA_DENOMINATION == 50, \"QT_RECYCLED_5\"] = 0\n",
    "    gretel.loc[gretel.VA_DENOMINATION == 50, \"FL_MISSING_5\"] = 0\n",
    "    gretel.loc[gretel.VA_DENOMINATION == 50, \"QT_CHARGE_IN_5\"] = 0\n",
    "    gretel.loc[gretel.VA_DENOMINATION == 50, \"QT_CHARGE_OUT_5\"] = 0\n",
    "\n",
    "    gretel.loc[gretel.VA_DENOMINATION == 50, \"QT_OUT_100\"] = 0\n",
    "    gretel.loc[gretel.VA_DENOMINATION == 50, \"QT_IN_L4FIT_100\"] = 0\n",
    "    gretel.loc[gretel.VA_DENOMINATION == 50, \"QT_IN_L4UNFIT_100\"] = 0\n",
    "    gretel.loc[gretel.VA_DENOMINATION == 50, \"QT_RECYCLED_100\"] = 0\n",
    "    gretel.loc[gretel.VA_DENOMINATION == 50, \"FL_MISSING_100\"] = 0\n",
    "    gretel.loc[gretel.VA_DENOMINATION == 50, \"QT_CHARGE_IN_100\"] = 0\n",
    "    gretel.loc[gretel.VA_DENOMINATION == 50, \"QT_CHARGE_OUT_100\"] = 0\n",
    "\n",
    "    gretel.loc[gretel.VA_DENOMINATION == 50, \"QT_OUT_200\"] = 0\n",
    "    gretel.loc[gretel.VA_DENOMINATION == 50, \"QT_IN_L4FIT_200\"] = 0\n",
    "    gretel.loc[gretel.VA_DENOMINATION == 50, \"QT_IN_L4UNFIT_200\"] = 0\n",
    "    gretel.loc[gretel.VA_DENOMINATION == 50, \"QT_RECYCLED_200\"] = 0\n",
    "    gretel.loc[gretel.VA_DENOMINATION == 50, \"FL_MISSING_200\"] = 0\n",
    "    gretel.loc[gretel.VA_DENOMINATION == 50, \"QT_CHARGE_IN_200\"] = 0\n",
    "    gretel.loc[gretel.VA_DENOMINATION == 50, \"QT_CHARGE_OUT_200\"] = 0\n",
    "\n",
    "    gretel.loc[gretel.VA_DENOMINATION == 50, \"QT_OUT_500\"] = 0\n",
    "    gretel.loc[gretel.VA_DENOMINATION == 50, \"QT_IN_L4FIT_500\"] = 0\n",
    "    gretel.loc[gretel.VA_DENOMINATION == 50, \"QT_IN_L4UNFIT_500\"] = 0\n",
    "    gretel.loc[gretel.VA_DENOMINATION == 50, \"QT_RECYCLED_500\"] = 0\n",
    "    gretel.loc[gretel.VA_DENOMINATION == 50, \"FL_MISSING_500\"] = 0\n",
    "    gretel.loc[gretel.VA_DENOMINATION == 50, \"QT_CHARGE_IN_500\"] = 0\n",
    "    gretel.loc[gretel.VA_DENOMINATION == 50, \"QT_CHARGE_OUT_500\"] = 0\n",
    "\n",
    "    gretel.loc[gretel.VA_DENOMINATION == 10, \"QT_OUT_20\"] = 0\n",
    "    gretel.loc[gretel.VA_DENOMINATION == 10, \"QT_IN_L4FIT_20\"] = 0\n",
    "    gretel.loc[gretel.VA_DENOMINATION == 10, \"QT_IN_L4UNFIT_20\"] = 0\n",
    "    gretel.loc[gretel.VA_DENOMINATION == 10, \"QT_RECYCLED_20\"] = 0\n",
    "    gretel.loc[gretel.VA_DENOMINATION == 10, \"FL_MISSING_20\"] = 0\n",
    "    gretel.loc[gretel.VA_DENOMINATION == 10, \"QT_CHARGE_IN_20\"] = 0\n",
    "    gretel.loc[gretel.VA_DENOMINATION == 10, \"QT_CHARGE_OUT_20\"] = 0\n",
    "\n",
    "    gretel.loc[gretel.VA_DENOMINATION == 10, \"QT_OUT_50\"] = 0\n",
    "    gretel.loc[gretel.VA_DENOMINATION == 10, \"QT_IN_L4FIT_50\"] = 0\n",
    "    gretel.loc[gretel.VA_DENOMINATION == 10, \"QT_IN_L4UNFIT_50\"] = 0\n",
    "    gretel.loc[gretel.VA_DENOMINATION == 10, \"QT_RECYCLED_50\"] = 0\n",
    "    gretel.loc[gretel.VA_DENOMINATION == 10, \"FL_MISSING_50\"] = 0\n",
    "    gretel.loc[gretel.VA_DENOMINATION == 10, \"QT_CHARGE_IN_50\"] = 0\n",
    "    gretel.loc[gretel.VA_DENOMINATION == 10, \"QT_CHARGE_OUT_50\"] = 0\n",
    "\n",
    "    gretel.loc[gretel.VA_DENOMINATION == 10, \"QT_OUT_5\"] = 0\n",
    "    gretel.loc[gretel.VA_DENOMINATION == 10, \"QT_IN_L4FIT_5\"] = 0\n",
    "    gretel.loc[gretel.VA_DENOMINATION == 10, \"QT_IN_L4UNFIT_5\"] = 0\n",
    "    gretel.loc[gretel.VA_DENOMINATION == 10, \"QT_RECYCLED_5\"] = 0\n",
    "    gretel.loc[gretel.VA_DENOMINATION == 10, \"FL_MISSING_5\"] = 0\n",
    "    gretel.loc[gretel.VA_DENOMINATION == 10, \"QT_CHARGE_IN_5\"] = 0\n",
    "    gretel.loc[gretel.VA_DENOMINATION == 10, \"QT_CHARGE_OUT_5\"] = 0\n",
    "\n",
    "    gretel.loc[gretel.VA_DENOMINATION == 10, \"QT_OUT_100\"] = 0\n",
    "    gretel.loc[gretel.VA_DENOMINATION == 10, \"QT_IN_L4FIT_100\"] = 0\n",
    "    gretel.loc[gretel.VA_DENOMINATION == 10, \"QT_IN_L4UNFIT_100\"] = 0\n",
    "    gretel.loc[gretel.VA_DENOMINATION == 10, \"QT_RECYCLED_100\"] = 0\n",
    "    gretel.loc[gretel.VA_DENOMINATION == 10, \"FL_MISSING_100\"] = 0\n",
    "    gretel.loc[gretel.VA_DENOMINATION == 10, \"QT_CHARGE_IN_100\"] = 0\n",
    "    gretel.loc[gretel.VA_DENOMINATION == 10, \"QT_CHARGE_OUT_100\"] = 0\n",
    "\n",
    "    gretel.loc[gretel.VA_DENOMINATION == 10, \"QT_OUT_200\"] = 0\n",
    "    gretel.loc[gretel.VA_DENOMINATION == 10, \"QT_IN_L4FIT_200\"] = 0\n",
    "    gretel.loc[gretel.VA_DENOMINATION == 10, \"QT_IN_L4UNFIT_200\"] = 0\n",
    "    gretel.loc[gretel.VA_DENOMINATION == 10, \"QT_RECYCLED_200\"] = 0\n",
    "    gretel.loc[gretel.VA_DENOMINATION == 10, \"FL_MISSING_200\"] = 0\n",
    "    gretel.loc[gretel.VA_DENOMINATION == 10, \"QT_CHARGE_IN_200\"] = 0\n",
    "    gretel.loc[gretel.VA_DENOMINATION == 10, \"QT_CHARGE_OUT_200\"] = 0\n",
    "\n",
    "    gretel.loc[gretel.VA_DENOMINATION == 10, \"QT_OUT_500\"] = 0\n",
    "    gretel.loc[gretel.VA_DENOMINATION == 10, \"QT_IN_L4FIT_500\"] = 0\n",
    "    gretel.loc[gretel.VA_DENOMINATION == 10, \"QT_IN_L4UNFIT_500\"] = 0\n",
    "    gretel.loc[gretel.VA_DENOMINATION == 10, \"QT_RECYCLED_500\"] = 0\n",
    "    gretel.loc[gretel.VA_DENOMINATION == 10, \"FL_MISSING_500\"] = 0\n",
    "    gretel.loc[gretel.VA_DENOMINATION == 10, \"QT_CHARGE_IN_500\"] = 0\n",
    "    gretel.loc[gretel.VA_DENOMINATION == 10, \"QT_CHARGE_OUT_500\"] = 0\n",
    "\n",
    "    gretel.loc[gretel.VA_DENOMINATION == 5, \"QT_OUT_20\"] = 0\n",
    "    gretel.loc[gretel.VA_DENOMINATION == 5, \"QT_IN_L4FIT_20\"] = 0\n",
    "    gretel.loc[gretel.VA_DENOMINATION == 5, \"QT_IN_L4UNFIT_20\"] = 0\n",
    "    gretel.loc[gretel.VA_DENOMINATION == 5, \"QT_RECYCLED_20\"] = 0\n",
    "    gretel.loc[gretel.VA_DENOMINATION == 5, \"FL_MISSING_20\"] = 0\n",
    "    gretel.loc[gretel.VA_DENOMINATION == 5, \"QT_CHARGE_IN_20\"] = 0\n",
    "    gretel.loc[gretel.VA_DENOMINATION == 5, \"QT_CHARGE_OUT_20\"] = 0\n",
    "\n",
    "    gretel.loc[gretel.VA_DENOMINATION == 5, \"QT_OUT_50\"] = 0\n",
    "    gretel.loc[gretel.VA_DENOMINATION == 5, \"QT_IN_L4FIT_50\"] = 0\n",
    "    gretel.loc[gretel.VA_DENOMINATION == 5, \"QT_IN_L4UNFIT_50\"] = 0\n",
    "    gretel.loc[gretel.VA_DENOMINATION == 5, \"QT_RECYCLED_50\"] = 0\n",
    "    gretel.loc[gretel.VA_DENOMINATION == 5, \"FL_MISSING_50\"] = 0\n",
    "    gretel.loc[gretel.VA_DENOMINATION == 5, \"QT_CHARGE_IN_50\"] = 0\n",
    "    gretel.loc[gretel.VA_DENOMINATION == 5, \"QT_CHARGE_OUT_50\"] = 0\n",
    "\n",
    "    gretel.loc[gretel.VA_DENOMINATION == 5, \"QT_OUT_10\"] = 0\n",
    "    gretel.loc[gretel.VA_DENOMINATION == 5, \"QT_IN_L4FIT_10\"] = 0\n",
    "    gretel.loc[gretel.VA_DENOMINATION == 5, \"QT_IN_L4UNFIT_10\"] = 0\n",
    "    gretel.loc[gretel.VA_DENOMINATION == 5, \"QT_RECYCLED_10\"] = 0\n",
    "    gretel.loc[gretel.VA_DENOMINATION == 5, \"FL_MISSING_10\"] = 0\n",
    "    gretel.loc[gretel.VA_DENOMINATION == 5, \"QT_CHARGE_IN_10\"] = 0\n",
    "    gretel.loc[gretel.VA_DENOMINATION == 5, \"QT_CHARGE_OUT_10\"] = 0\n",
    "\n",
    "    gretel.loc[gretel.VA_DENOMINATION == 5, \"QT_OUT_100\"] = 0\n",
    "    gretel.loc[gretel.VA_DENOMINATION == 5, \"QT_IN_L4FIT_100\"] = 0\n",
    "    gretel.loc[gretel.VA_DENOMINATION == 5, \"QT_IN_L4UNFIT_100\"] = 0\n",
    "    gretel.loc[gretel.VA_DENOMINATION == 5, \"QT_RECYCLED_100\"] = 0\n",
    "    gretel.loc[gretel.VA_DENOMINATION == 5, \"FL_MISSING_100\"] = 0\n",
    "    gretel.loc[gretel.VA_DENOMINATION == 5, \"QT_CHARGE_IN_100\"] = 0\n",
    "    gretel.loc[gretel.VA_DENOMINATION == 5, \"QT_CHARGE_OUT_100\"] = 0\n",
    "\n",
    "    gretel.loc[gretel.VA_DENOMINATION == 5, \"QT_OUT_200\"] = 0\n",
    "    gretel.loc[gretel.VA_DENOMINATION == 5, \"QT_IN_L4FIT_200\"] = 0\n",
    "    gretel.loc[gretel.VA_DENOMINATION == 5, \"QT_IN_L4UNFIT_200\"] = 0\n",
    "    gretel.loc[gretel.VA_DENOMINATION == 5, \"QT_RECYCLED_200\"] = 0\n",
    "    gretel.loc[gretel.VA_DENOMINATION == 5, \"FL_MISSING_200\"] = 0\n",
    "    gretel.loc[gretel.VA_DENOMINATION == 5, \"QT_CHARGE_IN_200\"] = 0\n",
    "    gretel.loc[gretel.VA_DENOMINATION == 5, \"QT_CHARGE_OUT_200\"] = 0\n",
    "\n",
    "    gretel.loc[gretel.VA_DENOMINATION == 5, \"QT_OUT_500\"] = 0\n",
    "    gretel.loc[gretel.VA_DENOMINATION == 5, \"QT_IN_L4FIT_500\"] = 0\n",
    "    gretel.loc[gretel.VA_DENOMINATION == 5, \"QT_IN_L4UNFIT_500\"] = 0\n",
    "    gretel.loc[gretel.VA_DENOMINATION == 5, \"QT_RECYCLED_500\"] = 0\n",
    "    gretel.loc[gretel.VA_DENOMINATION == 5, \"FL_MISSING_500\"] = 0\n",
    "    gretel.loc[gretel.VA_DENOMINATION == 5, \"QT_CHARGE_IN_500\"] = 0\n",
    "    gretel.loc[gretel.VA_DENOMINATION == 5, \"QT_CHARGE_OUT_500\"] = 0\n",
    "\n",
    "    gretel.loc[gretel.VA_DENOMINATION == 100, \"QT_OUT_20\"] = 0\n",
    "    gretel.loc[gretel.VA_DENOMINATION == 100, \"QT_IN_L4FIT_20\"] = 0\n",
    "    gretel.loc[gretel.VA_DENOMINATION == 100, \"QT_IN_L4UNFIT_20\"] = 0\n",
    "    gretel.loc[gretel.VA_DENOMINATION == 100, \"QT_RECYCLED_20\"] = 0\n",
    "    gretel.loc[gretel.VA_DENOMINATION == 100, \"FL_MISSING_20\"] = 0\n",
    "    gretel.loc[gretel.VA_DENOMINATION == 100, \"QT_CHARGE_IN_20\"] = 0\n",
    "    gretel.loc[gretel.VA_DENOMINATION == 100, \"QT_CHARGE_OUT_20\"] = 0\n",
    "\n",
    "    gretel.loc[gretel.VA_DENOMINATION == 100, \"QT_OUT_50\"] = 0\n",
    "    gretel.loc[gretel.VA_DENOMINATION == 100, \"QT_IN_L4FIT_50\"] = 0\n",
    "    gretel.loc[gretel.VA_DENOMINATION == 100, \"QT_IN_L4UNFIT_50\"] = 0\n",
    "    gretel.loc[gretel.VA_DENOMINATION == 100, \"QT_RECYCLED_50\"] = 0\n",
    "    gretel.loc[gretel.VA_DENOMINATION == 100, \"FL_MISSING_50\"] = 0\n",
    "    gretel.loc[gretel.VA_DENOMINATION == 100, \"QT_CHARGE_IN_50\"] = 0\n",
    "    gretel.loc[gretel.VA_DENOMINATION == 100, \"QT_CHARGE_OUT_50\"] = 0\n",
    "\n",
    "    gretel.loc[gretel.VA_DENOMINATION == 100, \"QT_OUT_10\"] = 0\n",
    "    gretel.loc[gretel.VA_DENOMINATION == 100, \"QT_IN_L4FIT_10\"] = 0\n",
    "    gretel.loc[gretel.VA_DENOMINATION == 100, \"QT_IN_L4UNFIT_10\"] = 0\n",
    "    gretel.loc[gretel.VA_DENOMINATION == 100, \"QT_RECYCLED_10\"] = 0\n",
    "    gretel.loc[gretel.VA_DENOMINATION == 100, \"FL_MISSING_10\"] = 0\n",
    "    gretel.loc[gretel.VA_DENOMINATION == 100, \"QT_CHARGE_IN_10\"] = 0\n",
    "    gretel.loc[gretel.VA_DENOMINATION == 100, \"QT_CHARGE_OUT_10\"] = 0\n",
    "\n",
    "    gretel.loc[gretel.VA_DENOMINATION == 100, \"QT_OUT_5\"] = 0\n",
    "    gretel.loc[gretel.VA_DENOMINATION == 100, \"QT_IN_L4FIT_5\"] = 0\n",
    "    gretel.loc[gretel.VA_DENOMINATION == 100, \"QT_IN_L4UNFIT_5\"] = 0\n",
    "    gretel.loc[gretel.VA_DENOMINATION == 100, \"QT_RECYCLED_5\"] = 0\n",
    "    gretel.loc[gretel.VA_DENOMINATION == 100, \"FL_MISSING_5\"] = 0\n",
    "    gretel.loc[gretel.VA_DENOMINATION == 100, \"QT_CHARGE_IN_5\"] = 0\n",
    "    gretel.loc[gretel.VA_DENOMINATION == 100, \"QT_CHARGE_OUT_5\"] = 0\n",
    "\n",
    "    gretel.loc[gretel.VA_DENOMINATION == 100, \"QT_OUT_200\"] = 0\n",
    "    gretel.loc[gretel.VA_DENOMINATION == 100, \"QT_IN_L4FIT_200\"] = 0\n",
    "    gretel.loc[gretel.VA_DENOMINATION == 100, \"QT_IN_L4UNFIT_200\"] = 0\n",
    "    gretel.loc[gretel.VA_DENOMINATION == 100, \"QT_RECYCLED_200\"] = 0\n",
    "    gretel.loc[gretel.VA_DENOMINATION == 100, \"FL_MISSING_200\"] = 0\n",
    "    gretel.loc[gretel.VA_DENOMINATION == 100, \"QT_CHARGE_IN_200\"] = 0\n",
    "    gretel.loc[gretel.VA_DENOMINATION == 100, \"QT_CHARGE_OUT_200\"] = 0\n",
    "\n",
    "    gretel.loc[gretel.VA_DENOMINATION == 100, \"QT_OUT_500\"] = 0\n",
    "    gretel.loc[gretel.VA_DENOMINATION == 100, \"QT_IN_L4FIT_500\"] = 0\n",
    "    gretel.loc[gretel.VA_DENOMINATION == 100, \"QT_IN_L4UNFIT_500\"] = 0\n",
    "    gretel.loc[gretel.VA_DENOMINATION == 100, \"QT_RECYCLED_500\"] = 0\n",
    "    gretel.loc[gretel.VA_DENOMINATION == 100, \"FL_MISSING_500\"] = 0\n",
    "    gretel.loc[gretel.VA_DENOMINATION == 100, \"QT_CHARGE_IN_500\"] = 0\n",
    "    gretel.loc[gretel.VA_DENOMINATION == 100, \"QT_CHARGE_OUT_500\"] = 0\n",
    "\n",
    "    gretel.loc[gretel.VA_DENOMINATION == 200, \"QT_OUT_20\"] = 0\n",
    "    gretel.loc[gretel.VA_DENOMINATION == 200, \"QT_IN_L4FIT_20\"] = 0\n",
    "    gretel.loc[gretel.VA_DENOMINATION == 200, \"QT_IN_L4UNFIT_20\"] = 0\n",
    "    gretel.loc[gretel.VA_DENOMINATION == 200, \"QT_RECYCLED_20\"] = 0\n",
    "    gretel.loc[gretel.VA_DENOMINATION == 200, \"FL_MISSING_20\"] = 0\n",
    "    gretel.loc[gretel.VA_DENOMINATION == 200, \"QT_CHARGE_IN_20\"] = 0\n",
    "    gretel.loc[gretel.VA_DENOMINATION == 200, \"QT_CHARGE_OUT_20\"] = 0\n",
    "\n",
    "    gretel.loc[gretel.VA_DENOMINATION == 200, \"QT_OUT_50\"] = 0\n",
    "    gretel.loc[gretel.VA_DENOMINATION == 200, \"QT_IN_L4FIT_50\"] = 0\n",
    "    gretel.loc[gretel.VA_DENOMINATION == 200, \"QT_IN_L4UNFIT_50\"] = 0\n",
    "    gretel.loc[gretel.VA_DENOMINATION == 200, \"QT_RECYCLED_50\"] = 0\n",
    "    gretel.loc[gretel.VA_DENOMINATION == 200, \"FL_MISSING_50\"] = 0\n",
    "    gretel.loc[gretel.VA_DENOMINATION == 200, \"QT_CHARGE_IN_50\"] = 0\n",
    "    gretel.loc[gretel.VA_DENOMINATION == 200, \"QT_CHARGE_OUT_50\"] = 0\n",
    "\n",
    "    gretel.loc[gretel.VA_DENOMINATION == 200, \"QT_OUT_10\"] = 0\n",
    "    gretel.loc[gretel.VA_DENOMINATION == 200, \"QT_IN_L4FIT_10\"] = 0\n",
    "    gretel.loc[gretel.VA_DENOMINATION == 200, \"QT_IN_L4UNFIT_10\"] = 0\n",
    "    gretel.loc[gretel.VA_DENOMINATION == 200, \"QT_RECYCLED_10\"] = 0\n",
    "    gretel.loc[gretel.VA_DENOMINATION == 200, \"FL_MISSING_10\"] = 0\n",
    "    gretel.loc[gretel.VA_DENOMINATION == 200, \"QT_CHARGE_IN_10\"] = 0\n",
    "    gretel.loc[gretel.VA_DENOMINATION == 200, \"QT_CHARGE_OUT_10\"] = 0\n",
    "\n",
    "    gretel.loc[gretel.VA_DENOMINATION == 200, \"QT_OUT_5\"] = 0\n",
    "    gretel.loc[gretel.VA_DENOMINATION == 200, \"QT_IN_L4FIT_5\"] = 0\n",
    "    gretel.loc[gretel.VA_DENOMINATION == 200, \"QT_IN_L4UNFIT_5\"] = 0\n",
    "    gretel.loc[gretel.VA_DENOMINATION == 200, \"QT_RECYCLED_5\"] = 0\n",
    "    gretel.loc[gretel.VA_DENOMINATION == 200, \"FL_MISSING_5\"] = 0\n",
    "    gretel.loc[gretel.VA_DENOMINATION == 200, \"QT_CHARGE_IN_5\"] = 0\n",
    "    gretel.loc[gretel.VA_DENOMINATION == 200, \"QT_CHARGE_OUT_5\"] = 0\n",
    "\n",
    "    gretel.loc[gretel.VA_DENOMINATION == 200, \"QT_OUT_100\"] = 0\n",
    "    gretel.loc[gretel.VA_DENOMINATION == 200, \"QT_IN_L4FIT_100\"] = 0\n",
    "    gretel.loc[gretel.VA_DENOMINATION == 200, \"QT_IN_L4UNFIT_100\"] = 0\n",
    "    gretel.loc[gretel.VA_DENOMINATION == 200, \"QT_RECYCLED_100\"] = 0\n",
    "    gretel.loc[gretel.VA_DENOMINATION == 200, \"FL_MISSING_100\"] = 0\n",
    "    gretel.loc[gretel.VA_DENOMINATION == 200, \"QT_CHARGE_IN_100\"] = 0\n",
    "    gretel.loc[gretel.VA_DENOMINATION == 200, \"QT_CHARGE_OUT_100\"] = 0\n",
    "\n",
    "    gretel.loc[gretel.VA_DENOMINATION == 200, \"QT_OUT_500\"] = 0\n",
    "    gretel.loc[gretel.VA_DENOMINATION == 200, \"QT_IN_L4FIT_500\"] = 0\n",
    "    gretel.loc[gretel.VA_DENOMINATION == 200, \"QT_IN_L4UNFIT_500\"] = 0\n",
    "    gretel.loc[gretel.VA_DENOMINATION == 200, \"QT_RECYCLED_500\"] = 0\n",
    "    gretel.loc[gretel.VA_DENOMINATION == 200, \"FL_MISSING_500\"] = 0\n",
    "    gretel.loc[gretel.VA_DENOMINATION == 200, \"QT_CHARGE_IN_500\"] = 0\n",
    "    gretel.loc[gretel.VA_DENOMINATION == 200, \"QT_CHARGE_OUT_500\"] = 0\n",
    "\n",
    "    gretel.loc[gretel.VA_DENOMINATION == 500, \"QT_OUT_20\"] = 0\n",
    "    gretel.loc[gretel.VA_DENOMINATION == 500, \"QT_IN_L4FIT_20\"] = 0\n",
    "    gretel.loc[gretel.VA_DENOMINATION == 500, \"QT_IN_L4UNFIT_20\"] = 0\n",
    "    gretel.loc[gretel.VA_DENOMINATION == 500, \"QT_RECYCLED_20\"] = 0\n",
    "    gretel.loc[gretel.VA_DENOMINATION == 500, \"FL_MISSING_20\"] = 0\n",
    "    gretel.loc[gretel.VA_DENOMINATION == 500, \"QT_CHARGE_IN_20\"] = 0\n",
    "    gretel.loc[gretel.VA_DENOMINATION == 500, \"QT_CHARGE_OUT_20\"] = 0\n",
    "\n",
    "    gretel.loc[gretel.VA_DENOMINATION == 500, \"QT_OUT_50\"] = 0\n",
    "    gretel.loc[gretel.VA_DENOMINATION == 500, \"QT_IN_L4FIT_50\"] = 0\n",
    "    gretel.loc[gretel.VA_DENOMINATION == 500, \"QT_IN_L4UNFIT_50\"] = 0\n",
    "    gretel.loc[gretel.VA_DENOMINATION == 500, \"QT_RECYCLED_50\"] = 0\n",
    "    gretel.loc[gretel.VA_DENOMINATION == 500, \"FL_MISSING_50\"] = 0\n",
    "    gretel.loc[gretel.VA_DENOMINATION == 500, \"QT_CHARGE_IN_50\"] = 0\n",
    "    gretel.loc[gretel.VA_DENOMINATION == 500, \"QT_CHARGE_OUT_50\"] = 0\n",
    "\n",
    "    gretel.loc[gretel.VA_DENOMINATION == 500, \"QT_OUT_10\"] = 0\n",
    "    gretel.loc[gretel.VA_DENOMINATION == 500, \"QT_IN_L4FIT_10\"] = 0\n",
    "    gretel.loc[gretel.VA_DENOMINATION == 500, \"QT_IN_L4UNFIT_10\"] = 0\n",
    "    gretel.loc[gretel.VA_DENOMINATION == 500, \"QT_RECYCLED_10\"] = 0\n",
    "    gretel.loc[gretel.VA_DENOMINATION == 500, \"FL_MISSING_10\"] = 0\n",
    "    gretel.loc[gretel.VA_DENOMINATION == 500, \"QT_CHARGE_IN_10\"] = 0\n",
    "    gretel.loc[gretel.VA_DENOMINATION == 500, \"QT_CHARGE_OUT_10\"] = 0\n",
    "\n",
    "    gretel.loc[gretel.VA_DENOMINATION == 500, \"QT_OUT_5\"] = 0\n",
    "    gretel.loc[gretel.VA_DENOMINATION == 500, \"QT_IN_L4FIT_5\"] = 0\n",
    "    gretel.loc[gretel.VA_DENOMINATION == 500, \"QT_IN_L4UNFIT_5\"] = 0\n",
    "    gretel.loc[gretel.VA_DENOMINATION == 500, \"QT_RECYCLED_5\"] = 0\n",
    "    gretel.loc[gretel.VA_DENOMINATION == 500, \"FL_MISSING_5\"] = 0\n",
    "    gretel.loc[gretel.VA_DENOMINATION == 500, \"QT_CHARGE_IN_5\"] = 0\n",
    "    gretel.loc[gretel.VA_DENOMINATION == 500, \"QT_CHARGE_OUT_5\"] = 0\n",
    "\n",
    "    gretel.loc[gretel.VA_DENOMINATION == 500, \"QT_OUT_100\"] = 0\n",
    "    gretel.loc[gretel.VA_DENOMINATION == 500, \"QT_IN_L4FIT_100\"] = 0\n",
    "    gretel.loc[gretel.VA_DENOMINATION == 500, \"QT_IN_L4UNFIT_100\"] = 0\n",
    "    gretel.loc[gretel.VA_DENOMINATION == 500, \"QT_RECYCLED_100\"] = 0\n",
    "    gretel.loc[gretel.VA_DENOMINATION == 500, \"FL_MISSING_100\"] = 0\n",
    "    gretel.loc[gretel.VA_DENOMINATION == 500, \"QT_CHARGE_IN_100\"] = 0\n",
    "    gretel.loc[gretel.VA_DENOMINATION == 500, \"QT_CHARGE_OUT_100\"] = 0\n",
    "\n",
    "    gretel.loc[gretel.VA_DENOMINATION == 500, \"QT_OUT_200\"] = 0\n",
    "    gretel.loc[gretel.VA_DENOMINATION == 500, \"QT_IN_L4FIT_200\"] = 0\n",
    "    gretel.loc[gretel.VA_DENOMINATION == 500, \"QT_IN_L4UNFIT_200\"] = 0\n",
    "    gretel.loc[gretel.VA_DENOMINATION == 500, \"QT_RECYCLED_200\"] = 0\n",
    "    gretel.loc[gretel.VA_DENOMINATION == 500, \"FL_MISSING_200\"] = 0\n",
    "    gretel.loc[gretel.VA_DENOMINATION == 500, \"QT_CHARGE_IN_200\"] = 0\n",
    "    gretel.loc[gretel.VA_DENOMINATION == 500, \"QT_CHARGE_OUT_200\"] = 0\n",
    "procedure()"
   ]
  },
  {
   "cell_type": "code",
   "execution_count": null,
   "metadata": {},
   "outputs": [],
   "source": [
    "print(gretel.VA_DENOMINATION.unique())\n",
    "gretel.drop([\"VA_DENOMINATION\"], axis=1, inplace=True)\n",
    "gretel = gretel.groupby(\"DT_REFERENCE\").sum().reset_index()"
   ]
  },
  {
   "cell_type": "code",
   "execution_count": 195,
   "metadata": {},
   "outputs": [],
   "source": [
    "gretel[\"DT_REFERENCE\"] = pd.to_datetime(gretel[\"DT_REFERENCE\"]).dt.date\n",
    "\n",
    "gretel.drop([\"QT_CHARGE_IN_5\",\"QT_CHARGE_IN_10\",\"QT_CHARGE_IN_100\",\"QT_CHARGE_IN_200\",\"QT_CHARGE_IN_500\", \"QT_RECYCLED_5\",\"QT_RECYCLED_10\",\"QT_RECYCLED_100\",\"QT_RECYCLED_200\",\"QT_RECYCLED_500\"], axis=1, inplace=True)\n",
    "gretel.drop([\"QT_OUT_5\", \"QT_OUT_10\", \"QT_OUT_200\", \"QT_OUT_500\", \"QT_OUT_100\"], axis=1, inplace=True)\n"
   ]
  },
  {
   "cell_type": "code",
   "execution_count": null,
   "metadata": {},
   "outputs": [],
   "source": [
    "temp = dataset[dataset.CASHPOINT_ID == 4]\n",
    "temp.drop([\"CASHPOINT_ID\",\"QT_L3\",\"QT_L2\", \"CURRENCY_UNIT_ID\", \"CO_CURRENCY\", \"SUBGROUP\"], axis=1, inplace=True)\n"
   ]
  },
  {
   "cell_type": "code",
   "execution_count": 197,
   "metadata": {},
   "outputs": [],
   "source": [
    "gretel.to_csv(\"datasets/CASHPOINT_ID_4.csv\", index=False)"
   ]
  },
  {
   "cell_type": "markdown",
   "metadata": {},
   "source": [
    "# Test2"
   ]
  },
  {
   "cell_type": "code",
   "execution_count": 372,
   "metadata": {},
   "outputs": [],
   "source": [
    "import matplotlib.pyplot as plt"
   ]
  },
  {
   "cell_type": "code",
   "execution_count": 373,
   "metadata": {},
   "outputs": [],
   "source": [
    "dataset = pd.read_csv(\"datasets/TBPR_HISTORICAL_MOVEMENTS_202211021157.csv\", sep=\";\")"
   ]
  },
  {
   "cell_type": "code",
   "execution_count": 374,
   "metadata": {},
   "outputs": [],
   "source": [
    "dataset = dataset[dataset.CASHPOINT_ID == 5]\n",
    "dataset[\"VAL_QT_OUT\"] = dataset[\"QT_OUT\"] * dataset[\"VA_DENOMINATION\"]\n",
    "dataset[\"VAL_QT_RECYCLED\"] = dataset[\"QT_RECYCLED\"] * dataset[\"VA_DENOMINATION\"]\n",
    "dataset[\"VAL_QT_CHARGE_OUT\"] = dataset[\"QT_CHARGE_OUT\"] * dataset[\"VA_DENOMINATION\"]\n",
    "dataset[\"VAL_QT_CHARGE_IN\"] = dataset[\"QT_CHARGE_IN\"] * dataset[\"VA_DENOMINATION\"]"
   ]
  },
  {
   "cell_type": "code",
   "execution_count": 378,
   "metadata": {},
   "outputs": [],
   "source": [
    "newg = dataset.drop(dataset.columns.difference(['DT_REFERENCE','VAL_QT_OUT','VAL_QT_RECYCLED']), 1)\n",
    "newg[\"DT_REFERENCE\"] = pd.to_datetime(newg[\"DT_REFERENCE\"]).dt.date\n",
    "newg = newg.groupby(\"DT_REFERENCE\").sum().reset_index()"
   ]
  },
  {
   "cell_type": "code",
   "execution_count": 379,
   "metadata": {},
   "outputs": [],
   "source": [
    "newg[\"SERIES1\"] = newg[\"VAL_QT_OUT\"] - newg[\"VAL_QT_RECYCLED\"]"
   ]
  },
  {
   "cell_type": "code",
   "execution_count": 380,
   "metadata": {},
   "outputs": [
    {
     "data": {
      "text/html": [
       "<div>\n",
       "<style scoped>\n",
       "    .dataframe tbody tr th:only-of-type {\n",
       "        vertical-align: middle;\n",
       "    }\n",
       "\n",
       "    .dataframe tbody tr th {\n",
       "        vertical-align: top;\n",
       "    }\n",
       "\n",
       "    .dataframe thead th {\n",
       "        text-align: right;\n",
       "    }\n",
       "</style>\n",
       "<table border=\"1\" class=\"dataframe\">\n",
       "  <thead>\n",
       "    <tr style=\"text-align: right;\">\n",
       "      <th></th>\n",
       "      <th>DT_REFERENCE</th>\n",
       "      <th>VAL_QT_OUT</th>\n",
       "      <th>VAL_QT_RECYCLED</th>\n",
       "      <th>SERIES1</th>\n",
       "    </tr>\n",
       "  </thead>\n",
       "  <tbody>\n",
       "    <tr>\n",
       "      <th>0</th>\n",
       "      <td>2021-08-03</td>\n",
       "      <td>380.0</td>\n",
       "      <td>0.0</td>\n",
       "      <td>380.0</td>\n",
       "    </tr>\n",
       "    <tr>\n",
       "      <th>1</th>\n",
       "      <td>2021-08-04</td>\n",
       "      <td>1470.0</td>\n",
       "      <td>0.0</td>\n",
       "      <td>1470.0</td>\n",
       "    </tr>\n",
       "    <tr>\n",
       "      <th>2</th>\n",
       "      <td>2021-08-05</td>\n",
       "      <td>2340.0</td>\n",
       "      <td>0.0</td>\n",
       "      <td>2340.0</td>\n",
       "    </tr>\n",
       "    <tr>\n",
       "      <th>3</th>\n",
       "      <td>2021-08-06</td>\n",
       "      <td>3750.0</td>\n",
       "      <td>0.0</td>\n",
       "      <td>3750.0</td>\n",
       "    </tr>\n",
       "    <tr>\n",
       "      <th>4</th>\n",
       "      <td>2021-08-07</td>\n",
       "      <td>3460.0</td>\n",
       "      <td>0.0</td>\n",
       "      <td>3460.0</td>\n",
       "    </tr>\n",
       "    <tr>\n",
       "      <th>...</th>\n",
       "      <td>...</td>\n",
       "      <td>...</td>\n",
       "      <td>...</td>\n",
       "      <td>...</td>\n",
       "    </tr>\n",
       "    <tr>\n",
       "      <th>417</th>\n",
       "      <td>2022-09-29</td>\n",
       "      <td>20020.0</td>\n",
       "      <td>0.0</td>\n",
       "      <td>20020.0</td>\n",
       "    </tr>\n",
       "    <tr>\n",
       "      <th>418</th>\n",
       "      <td>2022-09-30</td>\n",
       "      <td>21740.0</td>\n",
       "      <td>0.0</td>\n",
       "      <td>21740.0</td>\n",
       "    </tr>\n",
       "    <tr>\n",
       "      <th>419</th>\n",
       "      <td>2022-10-01</td>\n",
       "      <td>15580.0</td>\n",
       "      <td>0.0</td>\n",
       "      <td>15580.0</td>\n",
       "    </tr>\n",
       "    <tr>\n",
       "      <th>420</th>\n",
       "      <td>2022-10-02</td>\n",
       "      <td>11490.0</td>\n",
       "      <td>0.0</td>\n",
       "      <td>11490.0</td>\n",
       "    </tr>\n",
       "    <tr>\n",
       "      <th>421</th>\n",
       "      <td>2022-10-03</td>\n",
       "      <td>10480.0</td>\n",
       "      <td>0.0</td>\n",
       "      <td>10480.0</td>\n",
       "    </tr>\n",
       "  </tbody>\n",
       "</table>\n",
       "<p>422 rows × 4 columns</p>\n",
       "</div>"
      ],
      "text/plain": [
       "    DT_REFERENCE  VAL_QT_OUT  VAL_QT_RECYCLED  SERIES1\n",
       "0     2021-08-03       380.0              0.0    380.0\n",
       "1     2021-08-04      1470.0              0.0   1470.0\n",
       "2     2021-08-05      2340.0              0.0   2340.0\n",
       "3     2021-08-06      3750.0              0.0   3750.0\n",
       "4     2021-08-07      3460.0              0.0   3460.0\n",
       "..           ...         ...              ...      ...\n",
       "417   2022-09-29     20020.0              0.0  20020.0\n",
       "418   2022-09-30     21740.0              0.0  21740.0\n",
       "419   2022-10-01     15580.0              0.0  15580.0\n",
       "420   2022-10-02     11490.0              0.0  11490.0\n",
       "421   2022-10-03     10480.0              0.0  10480.0\n",
       "\n",
       "[422 rows x 4 columns]"
      ]
     },
     "execution_count": 380,
     "metadata": {},
     "output_type": "execute_result"
    }
   ],
   "source": [
    "newg"
   ]
  },
  {
   "cell_type": "code",
   "execution_count": 381,
   "metadata": {},
   "outputs": [
    {
     "data": {
      "image/png": "[encoded data removed]",
      "text/plain": [
       "<Figure size 720x288 with 1 Axes>"
      ]
     },
     "metadata": {
      "needs_background": "light"
     },
     "output_type": "display_data"
    }
   ],
   "source": [
    "# newg = newg.groupby(\"DT_REFERENCE\")\n",
    "plt.figure(figsize=(10,4))\n",
    "plt.plot(newg.SERIES1)\n",
    "newg = dataset.drop(dataset.columns.difference(['DT_REFERENCE','SERIES1']), 1)"
   ]
  },
  {
   "cell_type": "code",
   "execution_count": 382,
   "metadata": {},
   "outputs": [
    {
     "data": {
      "text/plain": [
       "Index(['DT_REFERENCE'], dtype='object')"
      ]
     },
     "execution_count": 382,
     "metadata": {},
     "output_type": "execute_result"
    }
   ],
   "source": [
    "newg.columns"
   ]
  },
  {
   "cell_type": "code",
   "execution_count": 323,
   "metadata": {},
   "outputs": [
    {
     "data": {
      "text/plain": [
       "[<matplotlib.lines.Line2D at 0x200978c7cd0>]"
      ]
     },
     "execution_count": 323,
     "metadata": {},
     "output_type": "execute_result"
    },
    {
     "data": {
      "image/png": "[encoded data removed]",
      "text/plain": [
       "<Figure size 2160x288 with 1 Axes>"
      ]
     },
     "metadata": {
      "needs_background": "light"
     },
     "output_type": "display_data"
    }
   ],
   "source": [
    "plt.figure(figsize=(30,4))\n",
    "plt.plot(newg.SERIES2)"
   ]
  },
  {
   "cell_type": "code",
   "execution_count": 327,
   "metadata": {},
   "outputs": [
    {
     "data": {
      "text/plain": [
       "[<matplotlib.lines.Line2D at 0x20097ebd850>]"
      ]
     },
     "execution_count": 327,
     "metadata": {},
     "output_type": "execute_result"
    },
    {
     "data": {
      "image/png": "[encoded data removed]",
      "text/plain": [
       "<Figure size 2160x288 with 1 Axes>"
      ]
     },
     "metadata": {
      "needs_background": "light"
     },
     "output_type": "display_data"
    }
   ],
   "source": [
    "plt.figure(figsize=(30,4))\n",
    "plt.plot(newg.SERIES3)"
   ]
  },
  {
   "cell_type": "code",
   "execution_count": null,
   "metadata": {},
   "outputs": [],
   "source": []
  },
  {
   "cell_type": "code",
   "execution_count": 328,
   "metadata": {},
   "outputs": [
    {
     "data": {
      "text/plain": [
       "<AxesSubplot:xlabel='Lag', ylabel='Autocorrelation'>"
      ]
     },
     "execution_count": 328,
     "metadata": {},
     "output_type": "execute_result"
    },
    {
     "data": {
      "image/png": "[encoded data removed]",
      "text/plain": [
       "<Figure size 432x288 with 1 Axes>"
      ]
     },
     "metadata": {
      "needs_background": "light"
     },
     "output_type": "display_data"
    }
   ],
   "source": [
    "pd.plotting.autocorrelation_plot(newg.SERIES1/100)\n",
    "pd.plotting.autocorrelation_plot(newg.SERIES2/100)\n",
    "pd.plotting.autocorrelation_plot(newg.SERIES3/100)"
   ]
  }
 ],
 "metadata": {
  "kernelspec": {
   "display_name": "Python 3.8.8 ('base')",
   "language": "python",
   "name": "python3"
  },
  "language_info": {
   "codemirror_mode": {
    "name": "ipython",
    "version": 3
   },
   "file_extension": ".py",
   "mimetype": "text/x-python",
   "name": "python",
   "nbconvert_exporter": "python",
   "pygments_lexer": "ipython3",
   "version": "3.8.8"
  },
  "orig_nbformat": 4,
  "vscode": {
   "interpreter": {
    "hash": "297f1ab228ac72a1e88da0398af00a5916b3f38386a88425b941448740147c06"
   }
  }
 },
 "nbformat": 4,
 "nbformat_minor": 2
}
