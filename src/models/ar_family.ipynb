{
 "cells": [
  {
   "cell_type": "code",
   "execution_count": 1,
   "metadata": {},
   "outputs": [],
   "source": [
    "from numpy import float32\n",
    "import pandas as pd\n",
    "import matplotlib.pyplot as plt\n",
    "from statsmodels.tsa.statespace.sarimax import SARIMAX\n",
    "import numpy as np\n",
    "import sys\n",
    "from sklearn.preprocessing import MinMaxScaler"
   ]
  },
  {
   "cell_type": "code",
   "execution_count": 2,
   "metadata": {},
   "outputs": [],
   "source": [
    "def RMSE_Loss(actual, predicted):\n",
    "    return np.sqrt(np.mean(np.square(actual - predicted)))"
   ]
  },
  {
   "cell_type": "code",
   "execution_count": 3,
   "metadata": {},
   "outputs": [],
   "source": [
    "series = pd.read_csv('../datasets/international-airline-passengers.csv')\n",
    "series = pd.Series(series[\"International airline passengers: monthly totals in thousands. Jan 49 ? Dec 60\"], dtype=float32)"
   ]
  },
  {
   "cell_type": "code",
   "execution_count": 4,
   "metadata": {},
   "outputs": [
    {
     "data": {
      "image/png": "[encoded data removed]",
      "text/plain": [
       "<Figure size 1080x144 with 2 Axes>"
      ]
     },
     "metadata": {
      "needs_background": "light"
     },
     "output_type": "display_data"
    }
   ],
   "source": [
    "plt.figure(figsize=(15, 2))\n",
    "plt.subplot(1, 2, 1)\n",
    "plt.plot(series[-1095::])\n",
    "plt.legend([\"True\"])\n",
    "\n",
    "plt.subplot(1, 2, 2)\n",
    "pd.plotting.autocorrelation_plot(series)\n",
    "\n",
    "plt.show()"
   ]
  },
  {
   "cell_type": "code",
   "execution_count": 5,
   "metadata": {},
   "outputs": [],
   "source": [
    "class IAutoRegressive:\n",
    "    def _fit__(self, train_set):\n",
    "        pass\n",
    "    \n",
    "    def __forecast__(self, steps=1, from_next=0):\n",
    "        pass"
   ]
  },
  {
   "cell_type": "code",
   "execution_count": 35,
   "metadata": {},
   "outputs": [],
   "source": [
    "from statsmodels.tsa.arima.model import ARIMA\n",
    "\n",
    "class ARIMA_Predictor(IAutoRegressive):\n",
    "    def __init__(self, order=(1, 0, 1)):\n",
    "        self.p = order[0]\n",
    "        self.d = order[1]\n",
    "        self.q = order[2]\n",
    "        self.__ARIMA = None\n",
    "        self.__len_train_set = 0\n",
    "    \n",
    "    def __fit__(self, train_set):\n",
    "        self.__len_train_set = len(train_set)\n",
    "        model = ARIMA(\n",
    "            endog = train_set,\n",
    "            order = (self.p, self.d, self.q)\n",
    "            )\n",
    "        self.__ARIMA = model.fit()\n",
    "\n",
    "    def __forecast__(self, steps = 1, from_next = 0):\n",
    "        start = self.__len_train_set + from_next\n",
    "        end = start + steps - 1\n",
    "        return self.__ARIMA.predict(start, end)\n"
   ]
  },
  {
   "cell_type": "code",
   "execution_count": 6,
   "metadata": {},
   "outputs": [],
   "source": [
    "from statsmodels.tsa.statespace.sarimax import SARIMAX\n",
    "\n",
    "class SARIMA_Predictor(IAutoRegressive):\n",
    "    def __init__(self, order=(1, 0, 1), season_order=(1, 0, 1), m=1, trend=\"n\"):\n",
    "        self.p = order[0]\n",
    "        self.d = order[1]\n",
    "        self.q = order[2]\n",
    "        self.P = season_order[0]\n",
    "        self.D = season_order[1]\n",
    "        self.Q = season_order[2]\n",
    "        self.m = m\n",
    "        self.trend = trend\n",
    "        self.__SARIMA = None\n",
    "        self.__len_train_set = 0\n",
    "\n",
    "    def __fit__(self, train_set):\n",
    "        self.__len_train_set = len(train_set)\n",
    "        model = SARIMAX(\n",
    "            endog=train_set,\n",
    "            order = (self.p, self.d, self.q),\n",
    "            seasonal_order= (self.P, self.D, self.Q, self.m),\n",
    "            trend= self.trend,\n",
    "            enforce_stationarity=False,\n",
    "            enforce_invertibility=False\n",
    "        )\n",
    "        self.__SARIMA = model.fit()\n",
    "    \n",
    "    def __forecast__(self, steps = 1, from_next = 0):\n",
    "        start = self.__len_train_set + from_next\n",
    "        end = start + steps - 1\n",
    "        return self.__SARIMA.predict(start, end)"
   ]
  },
  {
   "cell_type": "code",
   "execution_count": null,
   "metadata": {},
   "outputs": [],
   "source": [
    "scaler = MinMaxScaler()\n",
    "series = series.to_numpy().reshape(-1, 1)\n",
    "scalerFitted = scaler.fit(series)\n",
    "series = scalerFitted.transform(series)\n",
    "size = series.size-50\n",
    "train, test = series[0:size], series[size::]\n",
    "arima_model = ARIMA_Predictor(order=(50, 1, 3))\n",
    "arima_model.__fit__(train.flatten())\n",
    "output = arima_model.__forecast__(steps=2)\n",
    "\n",
    "print(RMSE_Loss(test.flatten()[0], output))\n",
    "plt.plot(test.flatten())\n",
    "plt.plot(output)\n",
    "plt.legend([\"True\", \"ARIMA\"])"
   ]
  },
  {
   "cell_type": "code",
   "execution_count": null,
   "metadata": {},
   "outputs": [],
   "source": [
    "scaler = MinMaxScaler()\n",
    "series = series.to_numpy().reshape(-1, 1)\n",
    "scalerFitted = scaler.fit(series)\n",
    "series = scalerFitted.transform(series)\n",
    "size = series.size-50\n",
    "train, test = series[0:size], series[size::]"
   ]
  },
  {
   "cell_type": "code",
   "execution_count": 565,
   "metadata": {},
   "outputs": [
    {
     "name": "stderr",
     "output_type": "stream",
     "text": [
      "c:\\Users\\Luca\\anaconda3\\lib\\site-packages\\statsmodels\\tsa\\statespace\\sarimax.py:866: UserWarning: Too few observations to estimate starting parameters for seasonal ARMA. All parameters except for variances will be set to zeros.\n",
      "  warn('Too few observations to estimate starting parameters%s.'\n"
     ]
    },
    {
     "name": "stdout",
     "output_type": "stream",
     "text": [
      "0.026258277726479894\n"
     ]
    },
    {
     "data": {
      "text/plain": [
       "<matplotlib.legend.Legend at 0x2678011f6a0>"
      ]
     },
     "execution_count": 565,
     "metadata": {},
     "output_type": "execute_result"
    },
    {
     "data": {
      "image/png": "[encoded data removed]",
      "text/plain": [
       "<Figure size 432x288 with 1 Axes>"
      ]
     },
     "metadata": {
      "needs_background": "light"
     },
     "output_type": "display_data"
    }
   ],
   "source": [
    "arima_model = SARIMA_Predictor(order=(1, 1, 3), season_order=(10, 1, 3), m=12, trend=\"ct\")\n",
    "arima_model.__fit__(train.flatten())\n",
    "output = arima_model.__forecast__(10)\n",
    "\n",
    "print(RMSE_Loss(test.flatten()[0:10], output))\n",
    "plt.plot(test.flatten()[0:10])\n",
    "plt.plot(output)\n",
    "plt.legend([\"True\", \"ARIMA\"])"
   ]
  },
  {
   "cell_type": "code",
   "execution_count": null,
   "metadata": {},
   "outputs": [],
   "source": [
    "# residuals = pd.DataFrame(model_fit.resid)\n",
    "# residuals.plot()\n",
    "# residuals.plot(kind='kde')"
   ]
  },
  {
   "cell_type": "code",
   "execution_count": 30,
   "metadata": {},
   "outputs": [],
   "source": [
    "class ARIMA_WalkForwardValidation():\n",
    "    def __init__(self, data, n_test, error, parameters=None, forecastSteps=1, forecastFromNext=0):\n",
    "        self.n_test = n_test\n",
    "        self.parameters = parameters\n",
    "        self.forecastSteps = forecastSteps\n",
    "        self.forecastFromNext = forecastFromNext\n",
    "        self.error = error\n",
    "        self.train_set = data[0:-n_test]\n",
    "        self.test_set = self.__getTestSet(data[-n_test:])\n",
    "    \n",
    "    def __getTestSet(self, temp_test_set):\n",
    "        test_set = []\n",
    "        iteration = len(temp_test_set) - (self.forecastFromNext + self.forecastSteps) + 1\n",
    "        for i in range(iteration):\n",
    "            start = i + self.forecastFromNext\n",
    "            end = start + self.forecastSteps\n",
    "            test_set.append(np.array(temp_test_set[start:end]))\n",
    "        return np.array(test_set)\n",
    "\n",
    "    def __grid_search_list(self):\n",
    "        p_params = self.parameters['p'] if 'p' in self.parameters else []\n",
    "        d_params = self.parameters['d'] if 'd' in self.parameters else []\n",
    "        q_params = self.parameters['q'] if 'q' in self.parameters else []\n",
    "        configs = list()\n",
    "        for p in p_params:\n",
    "            for d in d_params:\n",
    "                for q in q_params:\n",
    "                    configs.append((p,d,q))\n",
    "        return configs\n",
    "\n",
    "    def __get_score_from_parameters(self, parameters):\n",
    "        predictions = list()\n",
    "\n",
    "        history = [x for x in self.train_set]\n",
    "        iteration = self.n_test - self.forecastSteps - self.forecastFromNext + 1\n",
    "        for i in range(iteration):\n",
    "            order = parameters\n",
    "            arima = ARIMA_Predictor(order=order)\n",
    "            arima.__fit__(self.train_set)\n",
    "            output = arima.__forecast__(self.forecastSteps, self.forecastFromNext)\n",
    "            predictions.append(output)\n",
    "            history.append(self.test_set[i])\n",
    "        predictions = np.array(predictions)\n",
    "        return self.error(self.test_set, predictions), arima\n",
    "\n",
    "\n",
    "    def __fit__(self):\n",
    "        parameters_list = self.__grid_search_list()\n",
    "\n",
    "        parameters_benchmark = {\"parameters\": None, \"error\": sys.float_info.max}\n",
    "        for i in range(len(parameters_list)):\n",
    "            error, model = self.__get_score_from_parameters(parameters_list[i])\n",
    "            if(parameters_benchmark[\"error\"] > error):\n",
    "                parameters_benchmark = {\"parameters\": parameters_list[i], \"error\": error, \"model\": model}\n",
    "        return parameters_benchmark"
   ]
  },
  {
   "cell_type": "code",
   "execution_count": 11,
   "metadata": {},
   "outputs": [],
   "source": [
    "class SARIMA_WalkForwardValidation():\n",
    "    def __init__(self, data, n_test, error, parameters=None, forecastSteps=1, forecastFromNext=0):\n",
    "        self.n_test = n_test\n",
    "        self.parameters = parameters\n",
    "        self.forecastSteps = forecastSteps\n",
    "        self.forecastFromNext = forecastFromNext\n",
    "        self.error = error\n",
    "        self.train_set = data[0:-n_test]\n",
    "        self.test_set = self.__getTestSet(data[-n_test:])\n",
    "    \n",
    "    def __getTestSet(self, temp_test_set):\n",
    "        test_set = []\n",
    "        iteration = len(temp_test_set) - (self.forecastFromNext + self.forecastSteps) + 1\n",
    "        for i in range(iteration):\n",
    "            start = i + self.forecastFromNext\n",
    "            end = start + self.forecastSteps\n",
    "            test_set.append(np.array(temp_test_set[start:end]))\n",
    "        return np.array(test_set)\n",
    "\n",
    "    def __grid_search_list(self):\n",
    "        p_params = self.parameters['p'] if 'p' in self.parameters else []\n",
    "        d_params = self.parameters['d'] if 'd' in self.parameters else []\n",
    "        q_params = self.parameters['q'] if 'q' in self.parameters else []\n",
    "        P_params = self.parameters['P'] if 'P' in self.parameters else []\n",
    "        D_params = self.parameters['D'] if 'D' in self.parameters else []\n",
    "        Q_params = self.parameters['Q'] if 'Q' in self.parameters else []\n",
    "        m_params = self.parameters['m'] if 'm' in self.parameters else []\n",
    "        t_params = self.parameters['t'] if 't' in self.parameters else []\n",
    "        configs = list()\n",
    "        for p in p_params:\n",
    "            for d in d_params:\n",
    "                for q in q_params:\n",
    "                    for P in P_params:\n",
    "                        for D in D_params:\n",
    "                            for Q in Q_params:\n",
    "                                for m in m_params:\n",
    "                                    for t in t_params:\n",
    "                                        configs.append([(p,d,q), (P, D, Q), m, t])\n",
    "        return configs\n",
    "\n",
    "    def __get_score_from_parameters(self, parameters):\n",
    "        predictions = list()\n",
    "\n",
    "        history = [x for x in self.train_set]\n",
    "        iteration = self.n_test - self.forecastSteps - self.forecastFromNext + 1\n",
    "        for i in range(iteration):\n",
    "            sarima = SARIMA_Predictor(order=parameters[0], season_order=parameters[1], m=parameters[2], trend=parameters[3])\n",
    "            sarima.__fit__(self.train_set)\n",
    "            output = sarima.__forecast__(self.forecastSteps, self.forecastFromNext)\n",
    "            predictions.append(output)\n",
    "            history.append(self.test_set[i])\n",
    "        predictions = np.array(predictions)\n",
    "        return self.error(self.test_set, predictions), sarima\n",
    "\n",
    "\n",
    "    def __fit__(self):\n",
    "        parameters_list = self.__grid_search_list()\n",
    "        parameters_benchmark = {\"parameters\": None, \"error\": sys.float_info.max}\n",
    "        for i in range(len(parameters_list)):\n",
    "            error, model = self.__get_score_from_parameters(parameters_list[i])\n",
    "            print(parameters_list[i])\n",
    "            if(parameters_benchmark[\"error\"] > error):\n",
    "                parameters_benchmark = {\"parameters\": parameters_list[i], \"error\": error, \"model\": model}\n",
    "        return parameters_benchmark"
   ]
  },
  {
   "cell_type": "code",
   "execution_count": 8,
   "metadata": {},
   "outputs": [],
   "source": [
    "import warnings\n",
    "warnings.filterwarnings('ignore')\n",
    "data = series.to_numpy()\n",
    "error = RMSE_Loss\n",
    "n_test = 10\n",
    "parameters = {\n",
    "    \"p\": [50],\n",
    "    \"d\": [1, 2],\n",
    "    \"q\": [1, 2, 4]   \n",
    "}\n",
    "forecastSteps = 10\n",
    "forecastFromNext = 0"
   ]
  },
  {
   "cell_type": "code",
   "execution_count": null,
   "metadata": {},
   "outputs": [],
   "source": [
    "cv = ARIMA_WalkForwardValidation(\n",
    "    data=data,\n",
    "    error=error,\n",
    "    n_test=n_test,\n",
    "    parameters=parameters,\n",
    "    forecastSteps=forecastSteps,\n",
    "    forecastFromNext=forecastFromNext    \n",
    ")\n",
    "out = cv.__fit__()\n",
    "model = out[\"model\"]\n",
    "output = model.__forecast__(forecastSteps)\n",
    "print(\"Parameters:\", out[\"parameters\"])\n",
    "print(\"RMSE:\", out[\"error\"])\n",
    "print(\"Future steps predicted:\", forecastSteps)\n",
    "plt.plot(data)\n",
    "plt.plot(np.arange(len(data)-forecastSteps, len(data), 1).tolist(), output.tolist())\n",
    "plt.legend([\"True\", \"Predicted\"])"
   ]
  },
  {
   "cell_type": "code",
   "execution_count": 18,
   "metadata": {},
   "outputs": [
    {
     "name": "stdout",
     "output_type": "stream",
     "text": [
      "[(10, 0, 1), (10, 0, 1), 12, 'n']\n",
      "[(10, 0, 1), (10, 0, 1), 12, 'ct']\n",
      "[(10, 0, 1), (10, 0, 2), 12, 'n']\n",
      "[(10, 0, 1), (10, 0, 2), 12, 'ct']\n",
      "[(10, 0, 1), (10, 0, 3), 12, 'n']\n",
      "[(10, 0, 1), (10, 0, 3), 12, 'ct']\n",
      "[(10, 1, 1), (10, 0, 1), 12, 'n']\n",
      "[(10, 1, 1), (10, 0, 1), 12, 'ct']\n",
      "[(10, 1, 1), (10, 0, 2), 12, 'n']\n",
      "[(10, 1, 1), (10, 0, 2), 12, 'ct']\n",
      "[(10, 1, 1), (10, 0, 3), 12, 'n']\n",
      "[(10, 1, 1), (10, 0, 3), 12, 'ct']\n",
      "Parameters: [(10, 1, 1), (10, 0, 3), 12, 'n']\n",
      "RMSE: 35.50519609020211\n",
      "Future steps predicted: 10\n"
     ]
    },
    {
     "data": {
      "text/plain": [
       "<matplotlib.legend.Legend at 0x20cb00f8310>"
      ]
     },
     "execution_count": 18,
     "metadata": {},
     "output_type": "execute_result"
    },
    {
     "data": {
      "image/png": "[encoded data removed]",
      "text/plain": [
       "<Figure size 432x288 with 1 Axes>"
      ]
     },
     "metadata": {
      "needs_background": "light"
     },
     "output_type": "display_data"
    }
   ],
   "source": [
    "parameters = {\n",
    "    \"p\": [10],\n",
    "    \"d\": [0, 1],\n",
    "    \"q\": [1, 2, 3],\n",
    "    \"P\": [10],\n",
    "    \"D\": [0],\n",
    "    \"Q\": [1, 2, 3],\n",
    "    \"t\": ['t','ct'],\n",
    "    \"m\": [12]\n",
    "}\n",
    "\n",
    "cv = SARIMA_WalkForwardValidation(\n",
    "    data=data,\n",
    "    error=error,\n",
    "    n_test=n_test,\n",
    "    parameters=parameters,\n",
    "    forecastSteps=forecastSteps,\n",
    "    forecastFromNext=forecastFromNext    \n",
    ")\n",
    "out = cv.__fit__()\n",
    "model = out[\"model\"]\n",
    "output = model.__forecast__(forecastSteps)\n",
    "print(\"Parameters:\", out[\"parameters\"])\n",
    "print(\"RMSE:\", out[\"error\"])\n",
    "print(\"Future steps predicted:\", forecastSteps)\n",
    "plt.plot(data)\n",
    "plt.plot(np.arange(len(data)-forecastSteps, len(data), 1).tolist(), output.tolist())\n",
    "plt.legend([\"True\", \"Predicted\"])"
   ]
  }
 ],
 "metadata": {
  "kernelspec": {
   "display_name": "Python 3.9.13 64-bit",
   "language": "python",
   "name": "python3"
  },
  "language_info": {
   "codemirror_mode": {
    "name": "ipython",
    "version": 3
   },
   "file_extension": ".py",
   "mimetype": "text/x-python",
   "name": "python",
   "nbconvert_exporter": "python",
   "pygments_lexer": "ipython3",
   "version": "3.9.13"
  },
  "orig_nbformat": 4,
  "vscode": {
   "interpreter": {
    "hash": "92b2c712316eb56e5c206670e029dda3c08d9ec3933e8da7ec35d9dab346db2c"
   }
  }
 },
 "nbformat": 4,
 "nbformat_minor": 2
}
