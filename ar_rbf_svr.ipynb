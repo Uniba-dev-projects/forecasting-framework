{
 "cells": [
  {
   "cell_type": "code",
   "execution_count": 1,
   "metadata": {},
   "outputs": [],
   "source": [
    "import numpy as np\n",
    "import matplotlib.pyplot as plt\n",
    "from synthetic import TestSuite"
   ]
  },
  {
   "cell_type": "code",
   "execution_count": 2,
   "metadata": {},
   "outputs": [],
   "source": [
    "def RMSE_Loss(actual, predicted):\n",
    "    \"\"\"Root Mean Squared Error\"\"\"\n",
    "    return np.sqrt(np.mean(np.square(actual - predicted)))"
   ]
  },
  {
   "cell_type": "code",
   "execution_count": 3,
   "metadata": {},
   "outputs": [],
   "source": [
    "def min_max_transform(series):\n",
    "  series_temp = np.copy(series)\n",
    "  for i in range(len(series_temp)):\n",
    "    series_temp[i] = (series_temp[i] - np.max(series))/(np.max(series)-np.min(series)) + 1\n",
    "  return series_temp"
   ]
  },
  {
   "cell_type": "code",
   "execution_count": 4,
   "metadata": {},
   "outputs": [],
   "source": [
    "import os, shutil\n",
    "DIR=\"experiment_rbf_svr/\"\n",
    "FILE_NAME=DIR+\"/log.csv\"\n",
    "if os.path.exists(DIR): shutil.rmtree(DIR)\n",
    "if not os.path.exists(DIR): os.mkdir(DIR)"
   ]
  },
  {
   "cell_type": "code",
   "execution_count": 5,
   "metadata": {},
   "outputs": [],
   "source": [
    "def outputExperiment(id, series_name, mixed, feature_length, target_length, target_offset, rmse_train, rmse_test, c, epsilon, gamma):\n",
    "    with open(FILE_NAME, 'a') as f:\n",
    "        result = \", \".join(map(str, list([id, series_name , mixed , feature_length , target_length , target_offset , rmse_train , rmse_test, c, epsilon, gamma])))\n",
    "        print(result, file=f)"
   ]
  },
  {
   "cell_type": "code",
   "execution_count": 6,
   "metadata": {},
   "outputs": [],
   "source": [
    "def showExperiment(ID, mixed, series, series_name, Y_train, Y_test, Yhat_train, Yhat_test, Yhat_series, rmse_train, rmse_test):\n",
    "    plt.figure(figsize=(30,10))\n",
    "    plt.subplot(311)\n",
    "    plt.margins(0.05)\n",
    "    plt.plot(series)\n",
    "    plt.plot(Yhat_series)\n",
    "    plt.legend([\"True\", \"Predicted\"])\n",
    "    plt.title(\"Series: \"+ series_name+\" (Random Sampling=\"+str(mixed)+\")\")\n",
    "\n",
    "    plt.subplot(323)\n",
    "    plt.margins(0.05)\n",
    "    plt.plot(Y_train)\n",
    "    plt.plot(Yhat_train)\n",
    "    plt.legend([\"True\", \"Predicted\"])\n",
    "    plt.title(\"RMSE Train: \"+ str(rmse_train))\n",
    "\n",
    "    plt.subplot(324)\n",
    "    plt.margins(0.05)\n",
    "    plt.plot(Y_test)\n",
    "    plt.plot(Yhat_test)\n",
    "    plt.legend([\"True\", \"Predicted\"])\n",
    "    plt.title(\"RMSE Test: \"+ str(rmse_test))\n",
    "\n",
    "    plt.subplot(325)\n",
    "    plt.margins(0.05)\n",
    "    plt.plot(abs(Y_train - Yhat_train))\n",
    "    plt.legend([\"Residuals\"])\n",
    "    plt.title(\"Train\")\n",
    "\n",
    "    plt.subplot(326)\n",
    "    plt.margins(0.05)\n",
    "    plt.plot(abs(Y_test - Yhat_test))\n",
    "    plt.legend([\"Residuals\"])\n",
    "    plt.title(\"Test\")\n",
    "\n",
    "    plt.subplots_adjust(left=0.1,\n",
    "                    bottom=0.1,\n",
    "                    right=0.9,\n",
    "                    top=0.9,\n",
    "                    wspace=0.4,\n",
    "                    hspace=0.4)\n",
    "    plt.savefig(DIR+str(ID)+\".png\", transparent=True)"
   ]
  },
  {
   "cell_type": "markdown",
   "metadata": {},
   "source": [
    "# Radial Basis Function SVR"
   ]
  },
  {
   "cell_type": "code",
   "execution_count": 7,
   "metadata": {},
   "outputs": [],
   "source": [
    "from src.models.regressor.svr import Model_RBF_SVR"
   ]
  },
  {
   "cell_type": "code",
   "execution_count": 8,
   "metadata": {},
   "outputs": [],
   "source": [
    "def executeRadialBasisFunctionSVR(X_train, X_test, Y_train, Y_test):\n",
    "    model_rbf_svr = Model_RBF_SVR(error_fun=RMSE_Loss)\n",
    "    yhat_train = model_rbf_svr.__train__(X_train=X_train, Y_train=Y_train)\n",
    "    rmse_train = model_rbf_svr.__get_error_train__()\n",
    "\n",
    "    yhat_test = model_rbf_svr.__test__(X_test=X_test, Y_test=Y_test)\n",
    "    rmse_test = model_rbf_svr.__get_error_test__()\n",
    "\n",
    "    yhat_series = model_rbf_svr.__test__(X_test=np.concatenate((X_train, X_test), axis=0), Y_test=np.concatenate((Y_train, Y_test), axis=0))\n",
    "\n",
    "    c_param = model_rbf_svr.__get_model__().C\n",
    "    epsilon_param = model_rbf_svr.__get_model__().epsilon\n",
    "    gamma_param = model_rbf_svr.__get_model__().gamma\n",
    "    return rmse_train, rmse_test, yhat_train, yhat_test, yhat_series, c_param, epsilon_param, gamma_param"
   ]
  },
  {
   "cell_type": "code",
   "execution_count": 9,
   "metadata": {},
   "outputs": [],
   "source": [
    "def PipelineRadialBasisFunctionSVR():\n",
    "    synthetic_dataset_test_suite = TestSuite()\n",
    "\n",
    "    synthetic_datasets =  synthetic_dataset_test_suite.__get_test_suite_size__()\n",
    "    \n",
    "    mixed = [True, False]\n",
    "    feature_length = [1, 2, 3, 4, 5]\n",
    "    target_offset = [1, 2, 3, 4, 5]\n",
    "    target_length = [1]\n",
    "\n",
    "    ID = 0\n",
    "    print(\"\\t{}\\t{}\\t{}\\t{}\\t{}\\t{}\\t{}\".format(\"ID\", \"Series\", \"Mixed\", \"Autoregressive Variables\", \"Target Length\", \"Target Offset\", \"RMSE Train\", \"RMSE Test\", \"PARAM: C\", \"PARAM: EPSILON\", \"PARAM: GAMMA\"))\n",
    "    for index in range(synthetic_datasets):\n",
    "        series = synthetic_dataset_test_suite.__get_numpy_test_series_from_index__(index)\n",
    "        for ind_mixed in mixed:\n",
    "            for ind_feature in feature_length:\n",
    "                for ind_offset in target_offset:\n",
    "                    for ind_target in target_length:\n",
    "                        X_train, X_test, Y_train, Y_test = synthetic_dataset_test_suite.__train_and_test_from_numpy_series__(\n",
    "                            transform=min_max_transform,\n",
    "                            series=series,\n",
    "                            mixed=ind_mixed,\n",
    "                            feature_length=ind_feature,\n",
    "                            offset=ind_offset,\n",
    "                            target_length=ind_target,\n",
    "                            tensor = False\n",
    "                        )\n",
    "                        Y_train, Y_test = Y_train.flatten(), Y_test.flatten()\n",
    "                        rmse_train, rmse_test, yhat_train, yhat_test, yhat_series, c_param, epsilon_param, gamma_param = executeRadialBasisFunctionSVR(X_train=X_train, X_test=X_test, Y_train=Y_train, Y_test=Y_test)\n",
    "                        outputExperiment(\n",
    "                            ID,\n",
    "                            synthetic_dataset_test_suite.__get_name_test_series_from_index__(index),\n",
    "                            ind_mixed,\n",
    "                            ind_feature,\n",
    "                            ind_offset,\n",
    "                            ind_target,\n",
    "                            rmse_train,\n",
    "                            rmse_test,\n",
    "                            c_param,\n",
    "                            epsilon_param,\n",
    "                            gamma_param,\n",
    "                        )\n",
    "                        showExperiment(\n",
    "                            ID,\n",
    "                            ind_mixed,\n",
    "                            np.concatenate((Y_train, Y_test), axis=0),\n",
    "                            synthetic_dataset_test_suite.__get_name_test_series_from_index__(index),\n",
    "                            Y_train,\n",
    "                            Y_test,\n",
    "                            yhat_train,\n",
    "                            yhat_test,\n",
    "                            yhat_series,\n",
    "                            rmse_train,\n",
    "                            rmse_test\n",
    "                        )\n",
    "                        ID += 1\n",
    "    "
   ]
  },
  {
   "cell_type": "code",
   "execution_count": 10,
   "metadata": {},
   "outputs": [],
   "source": [
    "# PipelineRadialBasisFunctionSVR()"
   ]
  },
  {
   "cell_type": "code",
   "execution_count": 11,
   "metadata": {},
   "outputs": [],
   "source": [
    "from cross_validation.regressor import KFoldCrossValidation_RBF_SVR"
   ]
  },
  {
   "cell_type": "code",
   "execution_count": 12,
   "metadata": {},
   "outputs": [
    {
     "name": "stdout",
     "output_type": "stream",
     "text": [
      "[0.03274468705058098, 0.0018097078764655599, {'features_length': 1, 'C': 100, 'epsilon': 1e-06, 'gamma': 0.0001}, <models.regressor.svr.Model_RBF_SVR object at 0x000002BA76615F40>]\n",
      "[0.03230669032782316, 0.001428418573555828, {'features_length': 1, 'C': 100, 'epsilon': 1e-06, 'gamma': 0.01}, <models.regressor.svr.Model_RBF_SVR object at 0x000002BA76615B80>]\n",
      "[0.06661282442510127, 0.002642234433190864, {'features_length': 1, 'C': 100, 'epsilon': 0.1, 'gamma': 0.0001}, <models.regressor.svr.Model_RBF_SVR object at 0x000002BA76615FD0>]\n",
      "[0.0547556921839714, 0.0016904029837311034, {'features_length': 1, 'C': 100, 'epsilon': 0.1, 'gamma': 0.01}, <models.regressor.svr.Model_RBF_SVR object at 0x000002BA6DA46C70>]\n",
      "[0.03981383666396141, 0.002732114813500802, {'features_length': 2, 'C': 100, 'epsilon': 1e-06, 'gamma': 0.0001}, <models.regressor.svr.Model_RBF_SVR object at 0x000002BA76621C40>]\n",
      "[0.005404212884604931, 0.0004568477234028645, {'features_length': 2, 'C': 100, 'epsilon': 1e-06, 'gamma': 0.01}, <models.regressor.svr.Model_RBF_SVR object at 0x000002BA76621EE0>]\n",
      "[0.06511732153594493, 0.002785094286839133, {'features_length': 2, 'C': 100, 'epsilon': 0.1, 'gamma': 0.0001}, <models.regressor.svr.Model_RBF_SVR object at 0x000002BA76621D60>]\n",
      "[0.061473986878991124, 0.002203770175514897, {'features_length': 2, 'C': 100, 'epsilon': 0.1, 'gamma': 0.01}, <models.regressor.svr.Model_RBF_SVR object at 0x000002BA76621E80>]\n",
      "[0.034908314049243924, 0.0019073532128359094, {'features_length': 3, 'C': 100, 'epsilon': 1e-06, 'gamma': 0.0001}, <models.regressor.svr.Model_RBF_SVR object at 0x000002BA76621190>]\n",
      "[0.003547530435025692, 0.0005022801556826118, {'features_length': 3, 'C': 100, 'epsilon': 1e-06, 'gamma': 0.01}, <models.regressor.svr.Model_RBF_SVR object at 0x000002BA76621400>]\n",
      "[0.0693337507545948, 0.001711261787883304, {'features_length': 3, 'C': 100, 'epsilon': 0.1, 'gamma': 0.0001}, <models.regressor.svr.Model_RBF_SVR object at 0x000002BA76621BE0>]\n",
      "[0.06362323835492134, 0.0018572213003510622, {'features_length': 3, 'C': 100, 'epsilon': 0.1, 'gamma': 0.01}, <models.regressor.svr.Model_RBF_SVR object at 0x000002BA76621250>]\n",
      "[0.020783317647874354, 0.0009762784980167825, {'features_length': 4, 'C': 100, 'epsilon': 1e-06, 'gamma': 0.0001}, <models.regressor.svr.Model_RBF_SVR object at 0x000002BA76621DC0>]\n",
      "[0.0035365883726626635, 0.0004629009994605744, {'features_length': 4, 'C': 100, 'epsilon': 1e-06, 'gamma': 0.01}, <models.regressor.svr.Model_RBF_SVR object at 0x000002BA76621CD0>]\n",
      "[0.07029342427849769, 0.002823656069164826, {'features_length': 4, 'C': 100, 'epsilon': 0.1, 'gamma': 0.0001}, <models.regressor.svr.Model_RBF_SVR object at 0x000002BA766213A0>]\n",
      "[0.06280256845057011, 0.0030289693322422748, {'features_length': 4, 'C': 100, 'epsilon': 0.1, 'gamma': 0.01}, <models.regressor.svr.Model_RBF_SVR object at 0x000002BA76621160>]\n"
     ]
    }
   ],
   "source": [
    "\n",
    "synthetic_dataset_test_suite = TestSuite()\n",
    "cv_rbf_svr_regression = KFoldCrossValidation_RBF_SVR(\n",
    "    series = synthetic_dataset_test_suite.__get_numpy_test_series_from_index__(6),\n",
    "    loss = RMSE_Loss,\n",
    "    one_step_offset_target= 1\n",
    ")\n",
    "\n",
    "# 'C': [0.05, 0.1, 1, 2, 4, 8, 10],\n",
    "# 'epsilon': [1e-6, 1e-5, 1e-4, 1e-3, 1e-2, 1e-1, 1],\n",
    "# 'gamma': [1e-4, 1e-3, 1e-2, 1e-1, 1, 5]\n",
    "cross_validation_param = {\n",
    "    \"features_length\": np.arange(1, 5, 1).tolist(),\n",
    "    'C': [100],\n",
    "    'epsilon': [1e-6, 1e-1],\n",
    "    'gamma': [1e-4, 1e-2]\n",
    "}\n",
    "params, model = cv_rbf_svr_regression.search(cross_validation_param)"
   ]
  },
  {
   "cell_type": "code",
   "execution_count": 13,
   "metadata": {},
   "outputs": [
    {
     "data": {
      "text/plain": [
       "{'features_length': 4, 'C': 100, 'epsilon': 1e-06, 'gamma': 0.01}"
      ]
     },
     "execution_count": 13,
     "metadata": {},
     "output_type": "execute_result"
    }
   ],
   "source": [
    "params"
   ]
  },
  {
   "cell_type": "code",
   "execution_count": 14,
   "metadata": {},
   "outputs": [
    {
     "data": {
      "text/plain": [
       "<models.regressor.svr.Model_RBF_SVR at 0x2ba76621cd0>"
      ]
     },
     "execution_count": 14,
     "metadata": {},
     "output_type": "execute_result"
    }
   ],
   "source": [
    "model"
   ]
  },
  {
   "cell_type": "code",
   "execution_count": 15,
   "metadata": {},
   "outputs": [],
   "source": [
    "_, X_test, _, Y_test = synthetic_dataset_test_suite.__train_and_test_from_numpy_series__(\n",
    "    transform=min_max_transform,\n",
    "    series=synthetic_dataset_test_suite.__get_numpy_test_series_from_index__(6),\n",
    "    mixed=False,\n",
    "    feature_length=params[\"features_length\"],\n",
    "    offset=1,\n",
    "    target_length=1\n",
    ")"
   ]
  },
  {
   "cell_type": "code",
   "execution_count": 16,
   "metadata": {},
   "outputs": [],
   "source": [
    "yhat = model.__test__(X_test, Y_test)"
   ]
  },
  {
   "cell_type": "code",
   "execution_count": 17,
   "metadata": {},
   "outputs": [
    {
     "data": {
      "text/plain": [
       "[<matplotlib.lines.Line2D at 0x2ba776e01c0>]"
      ]
     },
     "execution_count": 17,
     "metadata": {},
     "output_type": "execute_result"
    },
    {
     "data": {
      "image/png": "[encoded data removed]",
      "text/plain": [
       "<Figure size 432x288 with 1 Axes>"
      ]
     },
     "metadata": {
      "needs_background": "light"
     },
     "output_type": "display_data"
    }
   ],
   "source": [
    "plt.plot(Y_test)\n",
    "plt.plot(yhat)"
   ]
  }
 ],
 "metadata": {
  "kernelspec": {
   "display_name": "Python 3.8.8 ('base')",
   "language": "python",
   "name": "python3"
  },
  "language_info": {
   "codemirror_mode": {
    "name": "ipython",
    "version": 3
   },
   "file_extension": ".py",
   "mimetype": "text/x-python",
   "name": "python",
   "nbconvert_exporter": "python",
   "pygments_lexer": "ipython3",
   "version": "3.8.8"
  },
  "orig_nbformat": 4,
  "vscode": {
   "interpreter": {
    "hash": "297f1ab228ac72a1e88da0398af00a5916b3f38386a88425b941448740147c06"
   }
  }
 },
 "nbformat": 4,
 "nbformat_minor": 2
}
