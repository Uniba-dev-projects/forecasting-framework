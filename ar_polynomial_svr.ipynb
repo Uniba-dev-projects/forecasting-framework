{
 "cells": [
  {
   "cell_type": "code",
   "execution_count": 1,
   "metadata": {},
   "outputs": [],
   "source": [
    "import numpy as np\n",
    "import matplotlib.pyplot as plt\n",
    "from synthetic import TestSuite"
   ]
  },
  {
   "cell_type": "code",
   "execution_count": 2,
   "metadata": {},
   "outputs": [],
   "source": [
    "def RMSE_Loss(actual, predicted):\n",
    "    \"\"\"Root Mean Squared Error\"\"\"\n",
    "    return np.sqrt(np.mean(np.square(actual - predicted)))"
   ]
  },
  {
   "cell_type": "code",
   "execution_count": 3,
   "metadata": {},
   "outputs": [],
   "source": [
    "def min_max_transform(series):\n",
    "  series_temp = np.copy(series)\n",
    "  for i in range(len(series_temp)):\n",
    "    series_temp[i] = (series_temp[i] - np.max(series))/(np.max(series)-np.min(series)) + 1\n",
    "  return series_temp"
   ]
  },
  {
   "cell_type": "code",
   "execution_count": 5,
   "metadata": {},
   "outputs": [],
   "source": [
    "import os, shutil\n",
    "DIR=\"experiment_polynomial_svr/\"\n",
    "FILE_NAME=DIR+\"/log.csv\"\n",
    "if os.path.exists(DIR): shutil.rmtree(DIR)\n",
    "if not os.path.exists(DIR): os.mkdir(DIR)"
   ]
  },
  {
   "cell_type": "code",
   "execution_count": 6,
   "metadata": {},
   "outputs": [],
   "source": [
    "def outputExperiment(id, series_name, mixed, feature_length, target_length, target_offset, rmse_train, rmse_test, c, epsilon, gamma, degree, coef0):\n",
    "    with open(FILE_NAME, 'a') as f:\n",
    "        result = \", \".join(map(str, list([id, series_name , mixed , feature_length , target_length , target_offset , rmse_train , rmse_test, c, epsilon, gamma, degree, coef0])))\n",
    "        print(result, file=f)"
   ]
  },
  {
   "cell_type": "code",
   "execution_count": 7,
   "metadata": {},
   "outputs": [],
   "source": [
    "def showExperiment(ID, mixed, series, series_name, Y_train, Y_test, Yhat_train, Yhat_test, Yhat_series, rmse_train, rmse_test):\n",
    "    plt.figure(figsize=(30,10))\n",
    "    plt.subplot(311)\n",
    "    plt.margins(0.05)\n",
    "    plt.plot(series)\n",
    "    plt.plot(Yhat_series)\n",
    "    plt.legend([\"True\", \"Predicted\"])\n",
    "    plt.title(\"Series: \"+ series_name+\" (Random Sampling=\"+str(mixed)+\")\")\n",
    "\n",
    "    plt.subplot(323)\n",
    "    plt.margins(0.05)\n",
    "    plt.plot(Y_train)\n",
    "    plt.plot(Yhat_train)\n",
    "    plt.legend([\"True\", \"Predicted\"])\n",
    "    plt.title(\"RMSE Train: \"+ str(rmse_train))\n",
    "\n",
    "    plt.subplot(324)\n",
    "    plt.margins(0.05)\n",
    "    plt.plot(Y_test)\n",
    "    plt.plot(Yhat_test)\n",
    "    plt.legend([\"True\", \"Predicted\"])\n",
    "    plt.title(\"RMSE Test: \"+ str(rmse_test))\n",
    "\n",
    "    plt.subplot(325)\n",
    "    plt.margins(0.05)\n",
    "    plt.plot(abs(Y_train - Yhat_train))\n",
    "    plt.legend([\"Residuals\"])\n",
    "    plt.title(\"Train\")\n",
    "\n",
    "    plt.subplot(326)\n",
    "    plt.margins(0.05)\n",
    "    plt.plot(abs(Y_test - Yhat_test))\n",
    "    plt.legend([\"Residuals\"])\n",
    "    plt.title(\"Test\")\n",
    "\n",
    "    plt.subplots_adjust(left=0.1,\n",
    "                    bottom=0.1,\n",
    "                    right=0.9,\n",
    "                    top=0.9,\n",
    "                    wspace=0.4,\n",
    "                    hspace=0.4)\n",
    "    plt.savefig(DIR+str(ID)+\".png\", transparent=True)"
   ]
  },
  {
   "cell_type": "markdown",
   "metadata": {},
   "source": [
    "# Polynomial SVR"
   ]
  },
  {
   "cell_type": "code",
   "execution_count": 8,
   "metadata": {},
   "outputs": [],
   "source": [
    "from models.regressor.svr import Model_Polynomial_SVR"
   ]
  },
  {
   "cell_type": "code",
   "execution_count": 9,
   "metadata": {},
   "outputs": [],
   "source": [
    "def executePolynomialSVR(X_train, X_test, Y_train, Y_test):\n",
    "    model_polynomial_svr = Model_Polynomial_SVR(error_fun=RMSE_Loss)\n",
    "    yhat_train = model_polynomial_svr.__train__(X_train=X_train, Y_train=Y_train)\n",
    "    rmse_train = model_polynomial_svr.__get_error_train__()\n",
    "\n",
    "    yhat_test = model_polynomial_svr.__test__(X_test=X_test, Y_test=Y_test)\n",
    "    rmse_test = model_polynomial_svr.__get_error_test__()\n",
    "\n",
    "    yhat_series = model_polynomial_svr.__test__(X_test=np.concatenate((X_train, X_test), axis=0), Y_test=np.concatenate((Y_train, Y_test), axis=0))\n",
    "\n",
    "    c_param = model_polynomial_svr.__get_model__().C\n",
    "    epsilon_param = model_polynomial_svr.__get_model__().epsilon\n",
    "    gamma_param = model_polynomial_svr.__get_model__().gamma\n",
    "    degree_param = model_polynomial_svr.__get_model__().degree\n",
    "    coef0_param = model_polynomial_svr.__get_model__().coef0\n",
    "    return rmse_train, rmse_test, yhat_train, yhat_test, yhat_series, c_param, epsilon_param, gamma_param, degree_param, coef0_param"
   ]
  },
  {
   "cell_type": "code",
   "execution_count": 11,
   "metadata": {},
   "outputs": [],
   "source": [
    "def PipelinePolynomialSVR():\n",
    "    synthetic_dataset_test_suite = TestSuite()\n",
    "\n",
    "    synthetic_datasets =  synthetic_dataset_test_suite.__get_test_suite_size__()\n",
    "    \n",
    "    mixed = [True, False]\n",
    "    feature_length = [1, 2, 3, 4, 5]\n",
    "    target_offset = [1, 2, 3, 4, 5]\n",
    "    target_length = [1]\n",
    "\n",
    "    ID = 0\n",
    "    print(\"\\t{}\\t{}\\t{}\\t{}\\t{}\\t{}\\t{}\".format(\"ID\", \"Series\", \"Mixed\", \"Autoregressive Variables\", \"Target Length\", \"Target Offset\", \"RMSE Train\", \"RMSE Test\", \"PARAM: C\", \"PARAM: EPSILON\", \"PARAM: GAMMA\", \"PARAM: Poly Degree\", \"PARAM: Poly Coef0\"))\n",
    "    for index in range(synthetic_datasets):\n",
    "        series = synthetic_dataset_test_suite.__get_numpy_test_series_from_index__(index)\n",
    "        for ind_mixed in mixed:\n",
    "            for ind_feature in feature_length:\n",
    "                for ind_offset in target_offset:\n",
    "                    for ind_target in target_length:\n",
    "                        X_train, X_test, Y_train, Y_test = synthetic_dataset_test_suite.__train_and_test_from_numpy_series__(\n",
    "                            transform=min_max_transform,\n",
    "                            series=series,\n",
    "                            mixed=ind_mixed,\n",
    "                            feature_length=ind_feature,\n",
    "                            offset=ind_offset,\n",
    "                            target_length=ind_target,\n",
    "                            tensor = False\n",
    "                        )\n",
    "                        Y_train, Y_test = Y_train.flatten(), Y_test.flatten()\n",
    "                        rmse_train, rmse_test, yhat_train, yhat_test, yhat_series, c_param, epsilon_param, gamma_param, degree_param, coef0_param = executePolynomialSVR(X_train=X_train, X_test=X_test, Y_train=Y_train, Y_test=Y_test)\n",
    "                        outputExperiment(\n",
    "                            ID,\n",
    "                            synthetic_dataset_test_suite.__get_name_test_series_from_index__(index),\n",
    "                            ind_mixed,\n",
    "                            ind_feature,\n",
    "                            ind_offset,\n",
    "                            ind_target,\n",
    "                            rmse_train,\n",
    "                            rmse_test,\n",
    "                            c_param,\n",
    "                            epsilon_param,\n",
    "                            gamma_param,\n",
    "                            degree_param,\n",
    "                            coef0_param\n",
    "                        )\n",
    "                        showExperiment(\n",
    "                            ID,\n",
    "                            ind_mixed,\n",
    "                            np.concatenate((Y_train, Y_test), axis=0),\n",
    "                            synthetic_dataset_test_suite.__get_name_test_series_from_index__(index),\n",
    "                            Y_train,\n",
    "                            Y_test,\n",
    "                            yhat_train,\n",
    "                            yhat_test,\n",
    "                            yhat_series,\n",
    "                            rmse_train,\n",
    "                            rmse_test\n",
    "                        )\n",
    "                        ID += 1\n",
    "    "
   ]
  },
  {
   "cell_type": "code",
   "execution_count": null,
   "metadata": {},
   "outputs": [],
   "source": [
    "PipelinePolynomialSVR()"
   ]
  }
 ],
 "metadata": {
  "kernelspec": {
   "display_name": "Python 3.8.8 ('base')",
   "language": "python",
   "name": "python3"
  },
  "language_info": {
   "codemirror_mode": {
    "name": "ipython",
    "version": 3
   },
   "file_extension": ".py",
   "mimetype": "text/x-python",
   "name": "python",
   "nbconvert_exporter": "python",
   "pygments_lexer": "ipython3",
   "version": "3.8.8"
  },
  "orig_nbformat": 4,
  "vscode": {
   "interpreter": {
    "hash": "297f1ab228ac72a1e88da0398af00a5916b3f38386a88425b941448740147c06"
   }
  }
 },
 "nbformat": 4,
 "nbformat_minor": 2
}
